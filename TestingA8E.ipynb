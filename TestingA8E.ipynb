{
  "nbformat": 4,
  "nbformat_minor": 0,
  "metadata": {
    "colab": {
      "provenance": [],
      "mount_file_id": "https://github.com/Anchaliya75/Brain-Computer-Interface/blob/main/Training_all_t_and_e.ipynb",
      "authorship_tag": "ABX9TyM+psAyA2LTH3Gd8bQ1wxIQ",
      "include_colab_link": true
    },
    "kernelspec": {
      "name": "python3",
      "display_name": "Python 3"
    },
    "language_info": {
      "name": "python"
    },
    "widgets": {
      "application/vnd.jupyter.widget-state+json": {
        "28cfcc2790e54877ba6c4fe77596fdc4": {
          "model_module": "@jupyter-widgets/controls",
          "model_name": "HBoxModel",
          "model_module_version": "1.5.0",
          "state": {
            "_dom_classes": [],
            "_model_module": "@jupyter-widgets/controls",
            "_model_module_version": "1.5.0",
            "_model_name": "HBoxModel",
            "_view_count": null,
            "_view_module": "@jupyter-widgets/controls",
            "_view_module_version": "1.5.0",
            "_view_name": "HBoxView",
            "box_style": "",
            "children": [
              "IPY_MODEL_a2d00a1259a942178e81024c8ec0490b",
              "IPY_MODEL_1c02c44bafaf47e28a1a069302386c1a",
              "IPY_MODEL_6e0f737ede4045ac8bf48a2306843053"
            ],
            "layout": "IPY_MODEL_990fb2565abc4aa58520e3f556f5fb39"
          }
        },
        "a2d00a1259a942178e81024c8ec0490b": {
          "model_module": "@jupyter-widgets/controls",
          "model_name": "HTMLModel",
          "model_module_version": "1.5.0",
          "state": {
            "_dom_classes": [],
            "_model_module": "@jupyter-widgets/controls",
            "_model_module_version": "1.5.0",
            "_model_name": "HTMLModel",
            "_view_count": null,
            "_view_module": "@jupyter-widgets/controls",
            "_view_module_version": "1.5.0",
            "_view_name": "HTMLView",
            "description": "",
            "description_tooltip": null,
            "layout": "IPY_MODEL_78c1ed0cc61843a3ae3511427891784d",
            "placeholder": "​",
            "style": "IPY_MODEL_01c80b89d013449cbc2df00141dcf5bf",
            "value": "100%"
          }
        },
        "1c02c44bafaf47e28a1a069302386c1a": {
          "model_module": "@jupyter-widgets/controls",
          "model_name": "FloatProgressModel",
          "model_module_version": "1.5.0",
          "state": {
            "_dom_classes": [],
            "_model_module": "@jupyter-widgets/controls",
            "_model_module_version": "1.5.0",
            "_model_name": "FloatProgressModel",
            "_view_count": null,
            "_view_module": "@jupyter-widgets/controls",
            "_view_module_version": "1.5.0",
            "_view_name": "ProgressView",
            "bar_style": "success",
            "description": "",
            "description_tooltip": null,
            "layout": "IPY_MODEL_0632e25d08584386bfd21ca2aabf121a",
            "max": 16,
            "min": 0,
            "orientation": "horizontal",
            "style": "IPY_MODEL_e873d45591e44c479beeadc0f75fc2a7",
            "value": 16
          }
        },
        "6e0f737ede4045ac8bf48a2306843053": {
          "model_module": "@jupyter-widgets/controls",
          "model_name": "HTMLModel",
          "model_module_version": "1.5.0",
          "state": {
            "_dom_classes": [],
            "_model_module": "@jupyter-widgets/controls",
            "_model_module_version": "1.5.0",
            "_model_name": "HTMLModel",
            "_view_count": null,
            "_view_module": "@jupyter-widgets/controls",
            "_view_module_version": "1.5.0",
            "_view_name": "HTMLView",
            "description": "",
            "description_tooltip": null,
            "layout": "IPY_MODEL_7124b2a730b44d8f96f07d30c654bec4",
            "placeholder": "​",
            "style": "IPY_MODEL_4d2f24677d36402f89caba4ce49efb54",
            "value": " 16/16 [00:00&lt;00:00, 263.81it/s]"
          }
        },
        "990fb2565abc4aa58520e3f556f5fb39": {
          "model_module": "@jupyter-widgets/base",
          "model_name": "LayoutModel",
          "model_module_version": "1.2.0",
          "state": {
            "_model_module": "@jupyter-widgets/base",
            "_model_module_version": "1.2.0",
            "_model_name": "LayoutModel",
            "_view_count": null,
            "_view_module": "@jupyter-widgets/base",
            "_view_module_version": "1.2.0",
            "_view_name": "LayoutView",
            "align_content": null,
            "align_items": null,
            "align_self": null,
            "border": null,
            "bottom": null,
            "display": null,
            "flex": null,
            "flex_flow": null,
            "grid_area": null,
            "grid_auto_columns": null,
            "grid_auto_flow": null,
            "grid_auto_rows": null,
            "grid_column": null,
            "grid_gap": null,
            "grid_row": null,
            "grid_template_areas": null,
            "grid_template_columns": null,
            "grid_template_rows": null,
            "height": null,
            "justify_content": null,
            "justify_items": null,
            "left": null,
            "margin": null,
            "max_height": null,
            "max_width": null,
            "min_height": null,
            "min_width": null,
            "object_fit": null,
            "object_position": null,
            "order": null,
            "overflow": null,
            "overflow_x": null,
            "overflow_y": null,
            "padding": null,
            "right": null,
            "top": null,
            "visibility": null,
            "width": null
          }
        },
        "78c1ed0cc61843a3ae3511427891784d": {
          "model_module": "@jupyter-widgets/base",
          "model_name": "LayoutModel",
          "model_module_version": "1.2.0",
          "state": {
            "_model_module": "@jupyter-widgets/base",
            "_model_module_version": "1.2.0",
            "_model_name": "LayoutModel",
            "_view_count": null,
            "_view_module": "@jupyter-widgets/base",
            "_view_module_version": "1.2.0",
            "_view_name": "LayoutView",
            "align_content": null,
            "align_items": null,
            "align_self": null,
            "border": null,
            "bottom": null,
            "display": null,
            "flex": null,
            "flex_flow": null,
            "grid_area": null,
            "grid_auto_columns": null,
            "grid_auto_flow": null,
            "grid_auto_rows": null,
            "grid_column": null,
            "grid_gap": null,
            "grid_row": null,
            "grid_template_areas": null,
            "grid_template_columns": null,
            "grid_template_rows": null,
            "height": null,
            "justify_content": null,
            "justify_items": null,
            "left": null,
            "margin": null,
            "max_height": null,
            "max_width": null,
            "min_height": null,
            "min_width": null,
            "object_fit": null,
            "object_position": null,
            "order": null,
            "overflow": null,
            "overflow_x": null,
            "overflow_y": null,
            "padding": null,
            "right": null,
            "top": null,
            "visibility": null,
            "width": null
          }
        },
        "01c80b89d013449cbc2df00141dcf5bf": {
          "model_module": "@jupyter-widgets/controls",
          "model_name": "DescriptionStyleModel",
          "model_module_version": "1.5.0",
          "state": {
            "_model_module": "@jupyter-widgets/controls",
            "_model_module_version": "1.5.0",
            "_model_name": "DescriptionStyleModel",
            "_view_count": null,
            "_view_module": "@jupyter-widgets/base",
            "_view_module_version": "1.2.0",
            "_view_name": "StyleView",
            "description_width": ""
          }
        },
        "0632e25d08584386bfd21ca2aabf121a": {
          "model_module": "@jupyter-widgets/base",
          "model_name": "LayoutModel",
          "model_module_version": "1.2.0",
          "state": {
            "_model_module": "@jupyter-widgets/base",
            "_model_module_version": "1.2.0",
            "_model_name": "LayoutModel",
            "_view_count": null,
            "_view_module": "@jupyter-widgets/base",
            "_view_module_version": "1.2.0",
            "_view_name": "LayoutView",
            "align_content": null,
            "align_items": null,
            "align_self": null,
            "border": null,
            "bottom": null,
            "display": null,
            "flex": null,
            "flex_flow": null,
            "grid_area": null,
            "grid_auto_columns": null,
            "grid_auto_flow": null,
            "grid_auto_rows": null,
            "grid_column": null,
            "grid_gap": null,
            "grid_row": null,
            "grid_template_areas": null,
            "grid_template_columns": null,
            "grid_template_rows": null,
            "height": null,
            "justify_content": null,
            "justify_items": null,
            "left": null,
            "margin": null,
            "max_height": null,
            "max_width": null,
            "min_height": null,
            "min_width": null,
            "object_fit": null,
            "object_position": null,
            "order": null,
            "overflow": null,
            "overflow_x": null,
            "overflow_y": null,
            "padding": null,
            "right": null,
            "top": null,
            "visibility": null,
            "width": null
          }
        },
        "e873d45591e44c479beeadc0f75fc2a7": {
          "model_module": "@jupyter-widgets/controls",
          "model_name": "ProgressStyleModel",
          "model_module_version": "1.5.0",
          "state": {
            "_model_module": "@jupyter-widgets/controls",
            "_model_module_version": "1.5.0",
            "_model_name": "ProgressStyleModel",
            "_view_count": null,
            "_view_module": "@jupyter-widgets/base",
            "_view_module_version": "1.2.0",
            "_view_name": "StyleView",
            "bar_color": null,
            "description_width": ""
          }
        },
        "7124b2a730b44d8f96f07d30c654bec4": {
          "model_module": "@jupyter-widgets/base",
          "model_name": "LayoutModel",
          "model_module_version": "1.2.0",
          "state": {
            "_model_module": "@jupyter-widgets/base",
            "_model_module_version": "1.2.0",
            "_model_name": "LayoutModel",
            "_view_count": null,
            "_view_module": "@jupyter-widgets/base",
            "_view_module_version": "1.2.0",
            "_view_name": "LayoutView",
            "align_content": null,
            "align_items": null,
            "align_self": null,
            "border": null,
            "bottom": null,
            "display": null,
            "flex": null,
            "flex_flow": null,
            "grid_area": null,
            "grid_auto_columns": null,
            "grid_auto_flow": null,
            "grid_auto_rows": null,
            "grid_column": null,
            "grid_gap": null,
            "grid_row": null,
            "grid_template_areas": null,
            "grid_template_columns": null,
            "grid_template_rows": null,
            "height": null,
            "justify_content": null,
            "justify_items": null,
            "left": null,
            "margin": null,
            "max_height": null,
            "max_width": null,
            "min_height": null,
            "min_width": null,
            "object_fit": null,
            "object_position": null,
            "order": null,
            "overflow": null,
            "overflow_x": null,
            "overflow_y": null,
            "padding": null,
            "right": null,
            "top": null,
            "visibility": null,
            "width": null
          }
        },
        "4d2f24677d36402f89caba4ce49efb54": {
          "model_module": "@jupyter-widgets/controls",
          "model_name": "DescriptionStyleModel",
          "model_module_version": "1.5.0",
          "state": {
            "_model_module": "@jupyter-widgets/controls",
            "_model_module_version": "1.5.0",
            "_model_name": "DescriptionStyleModel",
            "_view_count": null,
            "_view_module": "@jupyter-widgets/base",
            "_view_module_version": "1.2.0",
            "_view_name": "StyleView",
            "description_width": ""
          }
        },
        "29baded81bd7435ebc33dea486c14ff8": {
          "model_module": "@jupyter-widgets/controls",
          "model_name": "HBoxModel",
          "model_module_version": "1.5.0",
          "state": {
            "_dom_classes": [],
            "_model_module": "@jupyter-widgets/controls",
            "_model_module_version": "1.5.0",
            "_model_name": "HBoxModel",
            "_view_count": null,
            "_view_module": "@jupyter-widgets/controls",
            "_view_module_version": "1.5.0",
            "_view_name": "HBoxView",
            "box_style": "",
            "children": [
              "IPY_MODEL_e1be1240e6e1403db0d12299bdb2bd2a",
              "IPY_MODEL_a3d9aa6024b04bd0bff5f311849259e3",
              "IPY_MODEL_3011c2c130094398b9e1e0be9e831850"
            ],
            "layout": "IPY_MODEL_59a786de6d304ef5839528c1bac05e0a"
          }
        },
        "e1be1240e6e1403db0d12299bdb2bd2a": {
          "model_module": "@jupyter-widgets/controls",
          "model_name": "HTMLModel",
          "model_module_version": "1.5.0",
          "state": {
            "_dom_classes": [],
            "_model_module": "@jupyter-widgets/controls",
            "_model_module_version": "1.5.0",
            "_model_name": "HTMLModel",
            "_view_count": null,
            "_view_module": "@jupyter-widgets/controls",
            "_view_module_version": "1.5.0",
            "_view_name": "HTMLView",
            "description": "",
            "description_tooltip": null,
            "layout": "IPY_MODEL_f34fc6797d80422da1cd48359b60db03",
            "placeholder": "​",
            "style": "IPY_MODEL_0ae40e2bb7f544e0b79b7f4740a61f72",
            "value": "100%"
          }
        },
        "a3d9aa6024b04bd0bff5f311849259e3": {
          "model_module": "@jupyter-widgets/controls",
          "model_name": "FloatProgressModel",
          "model_module_version": "1.5.0",
          "state": {
            "_dom_classes": [],
            "_model_module": "@jupyter-widgets/controls",
            "_model_module_version": "1.5.0",
            "_model_name": "FloatProgressModel",
            "_view_count": null,
            "_view_module": "@jupyter-widgets/controls",
            "_view_module_version": "1.5.0",
            "_view_name": "ProgressView",
            "bar_style": "success",
            "description": "",
            "description_tooltip": null,
            "layout": "IPY_MODEL_06796386b4b44e76baaa77e1f232fb44",
            "max": 1,
            "min": 0,
            "orientation": "horizontal",
            "style": "IPY_MODEL_df4e566c881244239b9ca527cb5b8d2a",
            "value": 1
          }
        },
        "3011c2c130094398b9e1e0be9e831850": {
          "model_module": "@jupyter-widgets/controls",
          "model_name": "HTMLModel",
          "model_module_version": "1.5.0",
          "state": {
            "_dom_classes": [],
            "_model_module": "@jupyter-widgets/controls",
            "_model_module_version": "1.5.0",
            "_model_name": "HTMLModel",
            "_view_count": null,
            "_view_module": "@jupyter-widgets/controls",
            "_view_module_version": "1.5.0",
            "_view_name": "HTMLView",
            "description": "",
            "description_tooltip": null,
            "layout": "IPY_MODEL_dd35820f31194222a34a45a0a12f5b2e",
            "placeholder": "​",
            "style": "IPY_MODEL_d0a4d02ce98949b18d17ea740f167b4c",
            "value": " 1/1 [00:00&lt;00:00, 31.71it/s]"
          }
        },
        "59a786de6d304ef5839528c1bac05e0a": {
          "model_module": "@jupyter-widgets/base",
          "model_name": "LayoutModel",
          "model_module_version": "1.2.0",
          "state": {
            "_model_module": "@jupyter-widgets/base",
            "_model_module_version": "1.2.0",
            "_model_name": "LayoutModel",
            "_view_count": null,
            "_view_module": "@jupyter-widgets/base",
            "_view_module_version": "1.2.0",
            "_view_name": "LayoutView",
            "align_content": null,
            "align_items": null,
            "align_self": null,
            "border": null,
            "bottom": null,
            "display": null,
            "flex": null,
            "flex_flow": null,
            "grid_area": null,
            "grid_auto_columns": null,
            "grid_auto_flow": null,
            "grid_auto_rows": null,
            "grid_column": null,
            "grid_gap": null,
            "grid_row": null,
            "grid_template_areas": null,
            "grid_template_columns": null,
            "grid_template_rows": null,
            "height": null,
            "justify_content": null,
            "justify_items": null,
            "left": null,
            "margin": null,
            "max_height": null,
            "max_width": null,
            "min_height": null,
            "min_width": null,
            "object_fit": null,
            "object_position": null,
            "order": null,
            "overflow": null,
            "overflow_x": null,
            "overflow_y": null,
            "padding": null,
            "right": null,
            "top": null,
            "visibility": null,
            "width": null
          }
        },
        "f34fc6797d80422da1cd48359b60db03": {
          "model_module": "@jupyter-widgets/base",
          "model_name": "LayoutModel",
          "model_module_version": "1.2.0",
          "state": {
            "_model_module": "@jupyter-widgets/base",
            "_model_module_version": "1.2.0",
            "_model_name": "LayoutModel",
            "_view_count": null,
            "_view_module": "@jupyter-widgets/base",
            "_view_module_version": "1.2.0",
            "_view_name": "LayoutView",
            "align_content": null,
            "align_items": null,
            "align_self": null,
            "border": null,
            "bottom": null,
            "display": null,
            "flex": null,
            "flex_flow": null,
            "grid_area": null,
            "grid_auto_columns": null,
            "grid_auto_flow": null,
            "grid_auto_rows": null,
            "grid_column": null,
            "grid_gap": null,
            "grid_row": null,
            "grid_template_areas": null,
            "grid_template_columns": null,
            "grid_template_rows": null,
            "height": null,
            "justify_content": null,
            "justify_items": null,
            "left": null,
            "margin": null,
            "max_height": null,
            "max_width": null,
            "min_height": null,
            "min_width": null,
            "object_fit": null,
            "object_position": null,
            "order": null,
            "overflow": null,
            "overflow_x": null,
            "overflow_y": null,
            "padding": null,
            "right": null,
            "top": null,
            "visibility": null,
            "width": null
          }
        },
        "0ae40e2bb7f544e0b79b7f4740a61f72": {
          "model_module": "@jupyter-widgets/controls",
          "model_name": "DescriptionStyleModel",
          "model_module_version": "1.5.0",
          "state": {
            "_model_module": "@jupyter-widgets/controls",
            "_model_module_version": "1.5.0",
            "_model_name": "DescriptionStyleModel",
            "_view_count": null,
            "_view_module": "@jupyter-widgets/base",
            "_view_module_version": "1.2.0",
            "_view_name": "StyleView",
            "description_width": ""
          }
        },
        "06796386b4b44e76baaa77e1f232fb44": {
          "model_module": "@jupyter-widgets/base",
          "model_name": "LayoutModel",
          "model_module_version": "1.2.0",
          "state": {
            "_model_module": "@jupyter-widgets/base",
            "_model_module_version": "1.2.0",
            "_model_name": "LayoutModel",
            "_view_count": null,
            "_view_module": "@jupyter-widgets/base",
            "_view_module_version": "1.2.0",
            "_view_name": "LayoutView",
            "align_content": null,
            "align_items": null,
            "align_self": null,
            "border": null,
            "bottom": null,
            "display": null,
            "flex": null,
            "flex_flow": null,
            "grid_area": null,
            "grid_auto_columns": null,
            "grid_auto_flow": null,
            "grid_auto_rows": null,
            "grid_column": null,
            "grid_gap": null,
            "grid_row": null,
            "grid_template_areas": null,
            "grid_template_columns": null,
            "grid_template_rows": null,
            "height": null,
            "justify_content": null,
            "justify_items": null,
            "left": null,
            "margin": null,
            "max_height": null,
            "max_width": null,
            "min_height": null,
            "min_width": null,
            "object_fit": null,
            "object_position": null,
            "order": null,
            "overflow": null,
            "overflow_x": null,
            "overflow_y": null,
            "padding": null,
            "right": null,
            "top": null,
            "visibility": null,
            "width": null
          }
        },
        "df4e566c881244239b9ca527cb5b8d2a": {
          "model_module": "@jupyter-widgets/controls",
          "model_name": "ProgressStyleModel",
          "model_module_version": "1.5.0",
          "state": {
            "_model_module": "@jupyter-widgets/controls",
            "_model_module_version": "1.5.0",
            "_model_name": "ProgressStyleModel",
            "_view_count": null,
            "_view_module": "@jupyter-widgets/base",
            "_view_module_version": "1.2.0",
            "_view_name": "StyleView",
            "bar_color": null,
            "description_width": ""
          }
        },
        "dd35820f31194222a34a45a0a12f5b2e": {
          "model_module": "@jupyter-widgets/base",
          "model_name": "LayoutModel",
          "model_module_version": "1.2.0",
          "state": {
            "_model_module": "@jupyter-widgets/base",
            "_model_module_version": "1.2.0",
            "_model_name": "LayoutModel",
            "_view_count": null,
            "_view_module": "@jupyter-widgets/base",
            "_view_module_version": "1.2.0",
            "_view_name": "LayoutView",
            "align_content": null,
            "align_items": null,
            "align_self": null,
            "border": null,
            "bottom": null,
            "display": null,
            "flex": null,
            "flex_flow": null,
            "grid_area": null,
            "grid_auto_columns": null,
            "grid_auto_flow": null,
            "grid_auto_rows": null,
            "grid_column": null,
            "grid_gap": null,
            "grid_row": null,
            "grid_template_areas": null,
            "grid_template_columns": null,
            "grid_template_rows": null,
            "height": null,
            "justify_content": null,
            "justify_items": null,
            "left": null,
            "margin": null,
            "max_height": null,
            "max_width": null,
            "min_height": null,
            "min_width": null,
            "object_fit": null,
            "object_position": null,
            "order": null,
            "overflow": null,
            "overflow_x": null,
            "overflow_y": null,
            "padding": null,
            "right": null,
            "top": null,
            "visibility": null,
            "width": null
          }
        },
        "d0a4d02ce98949b18d17ea740f167b4c": {
          "model_module": "@jupyter-widgets/controls",
          "model_name": "DescriptionStyleModel",
          "model_module_version": "1.5.0",
          "state": {
            "_model_module": "@jupyter-widgets/controls",
            "_model_module_version": "1.5.0",
            "_model_name": "DescriptionStyleModel",
            "_view_count": null,
            "_view_module": "@jupyter-widgets/base",
            "_view_module_version": "1.2.0",
            "_view_name": "StyleView",
            "description_width": ""
          }
        }
      }
    }
  },
  "cells": [
    {
      "cell_type": "markdown",
      "metadata": {
        "id": "view-in-github",
        "colab_type": "text"
      },
      "source": [
        "<a href=\"https://colab.research.google.com/github/Anchaliya75/Brain-Computer-Interface/blob/main/TestingA8E.ipynb\" target=\"_parent\"><img src=\"https://colab.research.google.com/assets/colab-badge.svg\" alt=\"Open In Colab\"/></a>"
      ]
    },
    {
      "cell_type": "code",
      "execution_count": 1,
      "metadata": {
        "id": "eqfLnRtmf6ZW"
      },
      "outputs": [],
      "source": [
        "import pandas as pd\n",
        "import numpy as np\n",
        "import matplotlib.pyplot as plt\n",
        "from tqdm.notebook import tqdm\n",
        "import torch\n",
        "import torch.nn.functional as F\n",
        "import torch.nn as nn\n",
        "import torch.optim as optim\n",
        "from torch.utils.data import DataLoader as dl\n",
        "import matplotlib.pyplot as plt"
      ]
    },
    {
      "cell_type": "code",
      "source": [
        "from scipy.io import loadmat\n",
        "matfile  =\"/content/drive/MyDrive/BCI Competition IV 2a dataset/BCI/A01T.mat\"\n",
        "matfile2 =\"/content/drive/MyDrive/BCI Competition IV 2a dataset/BCI/A02T.mat\"\n",
        "matfile3= \"/content/drive/MyDrive/BCI Competition IV 2a dataset/BCI/A03T.mat\"\n",
        "matfile4 = \"/content/drive/MyDrive/BCI Competition IV 2a dataset/BCI/A04T.mat\"\n",
        "matfile5 = \"/content/drive/MyDrive/BCI Competition IV 2a dataset/BCI/A05T.mat\"\n",
        "matfile6= \"/content/drive/MyDrive/BCI Competition IV 2a dataset/BCI/A06T.mat\"\n",
        "matfile7 = \"/content/drive/MyDrive/BCI Competition IV 2a dataset/BCI/A07T.mat\"\n",
        "matfile8 =\"/content/drive/MyDrive/BCI Competition IV 2a dataset/BCI/A08T.mat\"\n",
        "matfile9 = \"/content/drive/MyDrive/BCI Competition IV 2a dataset/BCI/A09T.mat\"\n",
        "matfilee1=\"/content/drive/MyDrive/BCI Competition IV 2a dataset/BCI/A01E.mat\"\n",
        "matfilee2= \"/content/drive/MyDrive/BCI Competition IV 2a dataset/BCI/A02E.mat\"\n",
        "matfilee3=\"/content/drive/MyDrive/BCI Competition IV 2a dataset/BCI/A03E.mat\"\n",
        "matfilee4=\"/content/drive/MyDrive/BCI Competition IV 2a dataset/BCI/A04E.mat\"\n",
        "matfilee5=\"/content/drive/MyDrive/BCI Competition IV 2a dataset/BCI/A05E.mat\"\n",
        "matfilee6=\"/content/drive/MyDrive/BCI Competition IV 2a dataset/BCI/A06E.mat\"\n",
        "matfilee7=\"/content/drive/MyDrive/BCI Competition IV 2a dataset/BCI/A07E.mat\"\n",
        "matfilee8=\"/content/drive/MyDrive/BCI Competition IV 2a dataset/BCI/A08E.mat\"\n",
        "matfilee9=\"/content/drive/MyDrive/BCI Competition IV 2a dataset/BCI/A09T.mat\"\n",
        "data1 = loadmat(matfile)['data']\n",
        "data2 = loadmat(matfile2)['data']\n",
        "data3 = loadmat(matfile3)['data']\n",
        "data4 = loadmat(matfile4)['data']\n",
        "data5 = loadmat(matfile5)['data']\n",
        "data6 = loadmat(matfile6)['data']\n",
        "data7 = loadmat(matfile7)['data']\n",
        "data8 = loadmat(matfile8)['data']\n",
        "data9 = loadmat(matfile9)['data']\n",
        "data1e= loadmat(matfilee1)['data']\n",
        "data2e= loadmat(matfilee2)['data']\n",
        "data3e= loadmat(matfilee3)['data']\n",
        "data4e= loadmat(matfilee4)['data']\n",
        "data5e= loadmat(matfilee5)['data']\n",
        "data6e= loadmat(matfilee6)['data']\n",
        "data7e= loadmat(matfilee7)['data']\n",
        "data8e= loadmat(matfilee8)['data']\n",
        "data9e= loadmat(matfilee9)['data']\n",
        "\n",
        "\n",
        "#Removing data3e due to smaller data-interval\n",
        "\n",
        "# all_data = [data1,data2,data3,data4,data5,data6,data7,data8,data9]\n",
        "# all_data_test =[data1e,data2e,data3e,data4e,data5e,data6e,data7e,data8e,data9e]\n",
        "all_data  = [data1,data2,data3,data4,data5,data6,data7,data8,data9,data1e,data2e,data3e,data5e,data6e,data8e,data9e]\n",
        "all_data_test = [data7e]\n",
        "# Doing Cross Validation on all"
      ],
      "metadata": {
        "id": "n-ga7QcngP0Y"
      },
      "execution_count": 26,
      "outputs": []
    },
    {
      "cell_type": "code",
      "source": [
        "batch_size=288"
      ],
      "metadata": {
        "id": "Kcxe_k6_PcKZ"
      },
      "execution_count": 27,
      "outputs": []
    },
    {
      "cell_type": "code",
      "source": [
        "def sampling(x):\n",
        "  mini =1e9\n",
        "  ma=0\n",
        "  for  i in range(len(x)):\n",
        "        mini =min(mini,x[i].shape[0])\n",
        "        x_updated=[]\n",
        "  for i  in range(len(x)):\n",
        "        x_a = x[i][:mini-5]\n",
        "        x_updated.append(x_a)\n",
        "     \n",
        "  return x_updated\n",
        "\n",
        "\n"
      ],
      "metadata": {
        "id": "rnu7imVEwxEX"
      },
      "execution_count": 28,
      "outputs": []
    },
    {
      "cell_type": "code",
      "source": [
        "def converting_mat_to_tensors(all_data,x,y):\n",
        "  subjects  = len(all_data)\n",
        "  for  a  in tqdm(range(subjects)):\n",
        "      data = all_data[a]\n",
        "      \n",
        "      if(a==3):\n",
        "        \n",
        "        for i in range(1,7):\n",
        "          samples = data[0,i][0,0][1]\n",
        "          n =len(samples)\n",
        "          prev= data[0,i][0,0][1][0][0]\n",
        "          for j in range(1,n):\n",
        "            take  = data[0,i][0,0][1][j][0]\n",
        "            x.append(data[0,i][0,0][0][prev:take,0:22])\n",
        "            y.append(data[0,i][0,0][2][j-1][0])\n",
        "            prev = take\n",
        "          x.append(data[0,i][0,0][0][prev:,0:22]) \n",
        "          y.append(data[0,i][0,0][2][j][0])\n",
        "\n",
        "      else:\n",
        "        \n",
        "        for i in range(3,9):\n",
        "          samples = data[0,i][0,0][1]\n",
        "          n =len(samples)\n",
        "          prev= data[0,i][0,0][1][0][0]\n",
        "          for j in range(1,n):\n",
        "            take  = data[0,i][0,0][1][j][0]\n",
        "            x.append(data[0,i][0,0][0][prev:take,0:22])\n",
        "            y.append(data[0,i][0,0][2][j-1][0])\n",
        "            prev = take\n",
        "          x.append(data[0,i][0,0][0][prev:,0:22]) \n",
        "          y.append(data[0,i][0,0][2][j][0])\n",
        "  a=sampling(x)\n",
        "  a=torch.tensor(a)\n",
        "  dim1=a.shape[0]\n",
        "  dim2=a.shape[1]\n",
        "  dim3=a.shape[2]\n",
        "  a=a.reshape(dim1,1,dim2,dim3)\n",
        "  return a,torch.tensor(y)\n",
        "  \n",
        "  \n",
        "  \n"
      ],
      "metadata": {
        "id": "Es-TCuLxs40A"
      },
      "execution_count": 29,
      "outputs": []
    },
    {
      "cell_type": "code",
      "source": [
        "def converting_mat_to_tensors_test(all_data,x,y):\n",
        "  subjects  = len(all_data)\n",
        "  for  a  in tqdm(range(subjects)):\n",
        "      data = all_data[a]\n",
        "      \n",
        "      if(a==3):\n",
        "        \n",
        "        for i in range(3,9):\n",
        "          samples = data[0,i][0,0][1]\n",
        "          n =len(samples)\n",
        "          prev= data[0,i][0,0][1][0][0]\n",
        "          for j in range(1,n):\n",
        "            take  = data[0,i][0,0][1][j][0]\n",
        "            x.append(data[0,i][0,0][0][prev:take,0:22])\n",
        "            y.append(data[0,i][0,0][2][j-1][0])\n",
        "            prev = take\n",
        "          x.append(data[0,i][0,0][0][prev:,0:22]) \n",
        "          y.append(data[0,i][0,0][2][j][0])\n",
        "\n",
        "      else:\n",
        "        \n",
        "        for i in range(3,9):\n",
        "          samples = data[0,i][0,0][1]\n",
        "          n =len(samples)\n",
        "          prev= data[0,i][0,0][1][0][0]\n",
        "          for j in range(1,n):\n",
        "            take  = data[0,i][0,0][1][j][0]\n",
        "            x.append(data[0,i][0,0][0][prev:take,0:22])\n",
        "            y.append(data[0,i][0,0][2][j-1][0])\n",
        "            prev = take\n",
        "          x.append(data[0,i][0,0][0][prev:,0:22]) \n",
        "          y.append(data[0,i][0,0][2][j][0])\n",
        "  a=sampling(x)\n",
        "  a=torch.tensor(a)\n",
        "  dim1=a.shape[0]\n",
        "  dim2=a.shape[1]\n",
        "  dim3=a.shape[2]\n",
        "  a=a.reshape(dim1,1,dim2,dim3)\n",
        "  return a,torch.tensor(y)\n",
        "  \n",
        "  \n",
        "  \n"
      ],
      "metadata": {
        "id": "jQ7FnfW8n9CM"
      },
      "execution_count": 30,
      "outputs": []
    },
    {
      "cell_type": "code",
      "source": [
        "def preperation_for_dataloader(x,y):\n",
        "  array=[]\n",
        "  for i in range(len(y)):\n",
        "    array.append((x[i],y[i]))\n",
        "  return array\n"
      ],
      "metadata": {
        "id": "FTotkCB839Tc"
      },
      "execution_count": 31,
      "outputs": []
    },
    {
      "cell_type": "code",
      "source": [
        "x,y=converting_mat_to_tensors(all_data,[],[])\n"
      ],
      "metadata": {
        "colab": {
          "base_uri": "https://localhost:8080/",
          "height": 49,
          "referenced_widgets": [
            "28cfcc2790e54877ba6c4fe77596fdc4",
            "a2d00a1259a942178e81024c8ec0490b",
            "1c02c44bafaf47e28a1a069302386c1a",
            "6e0f737ede4045ac8bf48a2306843053",
            "990fb2565abc4aa58520e3f556f5fb39",
            "78c1ed0cc61843a3ae3511427891784d",
            "01c80b89d013449cbc2df00141dcf5bf",
            "0632e25d08584386bfd21ca2aabf121a",
            "e873d45591e44c479beeadc0f75fc2a7",
            "7124b2a730b44d8f96f07d30c654bec4",
            "4d2f24677d36402f89caba4ce49efb54"
          ]
        },
        "id": "3uk3pLnWto8j",
        "outputId": "5a54d3fc-3de4-4300-d0be-bc76f387e411"
      },
      "execution_count": 32,
      "outputs": [
        {
          "output_type": "display_data",
          "data": {
            "text/plain": [
              "  0%|          | 0/16 [00:00<?, ?it/s]"
            ],
            "application/vnd.jupyter.widget-view+json": {
              "version_major": 2,
              "version_minor": 0,
              "model_id": "28cfcc2790e54877ba6c4fe77596fdc4"
            }
          },
          "metadata": {}
        }
      ]
    },
    {
      "cell_type": "code",
      "source": [
        "x.shape"
      ],
      "metadata": {
        "id": "Xo2naFniiysE",
        "outputId": "69f05b78-78a4-4784-8269-b39ae51c2a87",
        "colab": {
          "base_uri": "https://localhost:8080/"
        }
      },
      "execution_count": 33,
      "outputs": [
        {
          "output_type": "execute_result",
          "data": {
            "text/plain": [
              "torch.Size([4608, 1, 1890, 22])"
            ]
          },
          "metadata": {},
          "execution_count": 33
        }
      ]
    },
    {
      "cell_type": "code",
      "source": [
        "data_loader_prep = preperation_for_dataloader(x,y)\n"
      ],
      "metadata": {
        "id": "XmtQp4xZ4vuc"
      },
      "execution_count": 34,
      "outputs": []
    },
    {
      "cell_type": "code",
      "source": [
        "# (a,b)=data_loader_prep[0]\n",
        "# print(a.size())"
      ],
      "metadata": {
        "id": "yfHOiHAFQ2UT"
      },
      "execution_count": null,
      "outputs": []
    },
    {
      "cell_type": "code",
      "source": [
        "train_batch = dl(data_loader_prep ,batch_size=288)"
      ],
      "metadata": {
        "id": "072Gm6Kl7t0C"
      },
      "execution_count": 35,
      "outputs": []
    },
    {
      "cell_type": "code",
      "source": [
        "for idx,(a,b) in enumerate(train_batch):\n",
        "  print(a.shape)\n",
        "  print(b.shape)\n",
        "  break"
      ],
      "metadata": {
        "colab": {
          "base_uri": "https://localhost:8080/"
        },
        "id": "BReHxvBo8RyB",
        "outputId": "193fd67f-8220-4885-edf4-16acc1c47c5a"
      },
      "execution_count": 36,
      "outputs": [
        {
          "output_type": "stream",
          "name": "stdout",
          "text": [
            "torch.Size([288, 1, 1890, 22])\n",
            "torch.Size([288])\n"
          ]
        }
      ]
    },
    {
      "cell_type": "code",
      "source": [
        "class BCI(nn.Module):\n",
        "  def __init__(self):\n",
        "    super().__init__()\n",
        "    self.conv1=nn.Conv2d(in_channels=1 ,out_channels=3,kernel_size=3 ,padding =1)\n",
        "    self.maxpool =nn.MaxPool2d(2)\n",
        "    self.linear1 = nn.Linear(945*11*3,500)\n",
        "    self.linear2=nn.Linear(500,125)\n",
        "    self.linear3=nn.Linear(125,5)\n",
        "  def forward(self,input_data):\n",
        "\n",
        "    x= self.conv1(input_data)\n",
        "    \n",
        "    x= self.maxpool(x)\n",
        "    \n",
        "    x=x.reshape(288,-1)\n",
        "    x= F.relu(self.linear1(x))\n",
        "    x=F.relu(self.linear2(x))\n",
        "    x=self.linear3(x)\n",
        "    return x\n",
        "\n"
      ],
      "metadata": {
        "id": "9ZG3H1q5Ichs"
      },
      "execution_count": 37,
      "outputs": []
    },
    {
      "cell_type": "code",
      "source": [
        "brain = BCI()\n",
        "lossfunction  =nn.CrossEntropyLoss()\n",
        "optimizer = optim.Adam(brain.parameters(),lr =0.001)"
      ],
      "metadata": {
        "id": "5eg74huYFrLo"
      },
      "execution_count": 38,
      "outputs": []
    },
    {
      "cell_type": "code",
      "source": [
        "brain"
      ],
      "metadata": {
        "id": "0Nezu4uDn3WQ",
        "outputId": "1e4f20ab-b652-4b8c-cdaa-f60217a364d9",
        "colab": {
          "base_uri": "https://localhost:8080/"
        }
      },
      "execution_count": 50,
      "outputs": [
        {
          "output_type": "execute_result",
          "data": {
            "text/plain": [
              "BCI(\n",
              "  (conv1): Conv2d(1, 3, kernel_size=(3, 3), stride=(1, 1), padding=(1, 1))\n",
              "  (maxpool): MaxPool2d(kernel_size=2, stride=2, padding=0, dilation=1, ceil_mode=False)\n",
              "  (linear1): Linear(in_features=31185, out_features=500, bias=True)\n",
              "  (linear2): Linear(in_features=500, out_features=125, bias=True)\n",
              "  (linear3): Linear(in_features=125, out_features=5, bias=True)\n",
              ")"
            ]
          },
          "metadata": {},
          "execution_count": 50
        }
      ]
    },
    {
      "cell_type": "code",
      "source": [
        "loss_array=[]\n",
        "epochs = 15\n",
        "for  i in range(epochs):\n",
        "  for idx,(x_train,y_train) in enumerate(train_batch):\n",
        "    brain.zero_grad()\n",
        "    prediction =brain.forward(x_train.float())\n",
        "    loss=lossfunction(prediction,y_train)\n",
        "    loss.backward()\n",
        "    optimizer.step()\n",
        "  print(loss)\n",
        "\n",
        "    \n",
        "\n"
      ],
      "metadata": {
        "colab": {
          "base_uri": "https://localhost:8080/"
        },
        "id": "tQ4pD__iYn7B",
        "outputId": "161b05fd-6bbe-4810-855b-061fcce8cdfa"
      },
      "execution_count": 39,
      "outputs": [
        {
          "output_type": "stream",
          "name": "stdout",
          "text": [
            "tensor(3.6162, grad_fn=<NllLossBackward0>)\n",
            "tensor(5.4144, grad_fn=<NllLossBackward0>)\n",
            "tensor(1.1345, grad_fn=<NllLossBackward0>)\n",
            "tensor(3.4866, grad_fn=<NllLossBackward0>)\n",
            "tensor(2.6037, grad_fn=<NllLossBackward0>)\n",
            "tensor(0.9854, grad_fn=<NllLossBackward0>)\n",
            "tensor(0.8592, grad_fn=<NllLossBackward0>)\n",
            "tensor(0.6181, grad_fn=<NllLossBackward0>)\n",
            "tensor(0.5162, grad_fn=<NllLossBackward0>)\n",
            "tensor(0.4637, grad_fn=<NllLossBackward0>)\n",
            "tensor(0.3945, grad_fn=<NllLossBackward0>)\n",
            "tensor(0.3575, grad_fn=<NllLossBackward0>)\n",
            "tensor(0.3067, grad_fn=<NllLossBackward0>)\n",
            "tensor(0.3005, grad_fn=<NllLossBackward0>)\n",
            "tensor(0.4629, grad_fn=<NllLossBackward0>)\n"
          ]
        }
      ]
    },
    {
      "cell_type": "code",
      "source": [
        "x_test,y_test = converting_mat_to_tensors_test(all_data_test,[],[])"
      ],
      "metadata": {
        "colab": {
          "base_uri": "https://localhost:8080/",
          "height": 49,
          "referenced_widgets": [
            "29baded81bd7435ebc33dea486c14ff8",
            "e1be1240e6e1403db0d12299bdb2bd2a",
            "a3d9aa6024b04bd0bff5f311849259e3",
            "3011c2c130094398b9e1e0be9e831850",
            "59a786de6d304ef5839528c1bac05e0a",
            "f34fc6797d80422da1cd48359b60db03",
            "0ae40e2bb7f544e0b79b7f4740a61f72",
            "06796386b4b44e76baaa77e1f232fb44",
            "df4e566c881244239b9ca527cb5b8d2a",
            "dd35820f31194222a34a45a0a12f5b2e",
            "d0a4d02ce98949b18d17ea740f167b4c"
          ]
        },
        "id": "aOcxDZy0hKVJ",
        "outputId": "17eafd30-74ad-47bc-b7f9-190082bb6595"
      },
      "execution_count": 40,
      "outputs": [
        {
          "output_type": "display_data",
          "data": {
            "text/plain": [
              "  0%|          | 0/1 [00:00<?, ?it/s]"
            ],
            "application/vnd.jupyter.widget-view+json": {
              "version_major": 2,
              "version_minor": 0,
              "model_id": "29baded81bd7435ebc33dea486c14ff8"
            }
          },
          "metadata": {}
        }
      ]
    },
    {
      "cell_type": "code",
      "source": [
        "data_loader_prep_test = preperation_for_dataloader(x_test,y_test)\n"
      ],
      "metadata": {
        "id": "j8_2XiPiqZQI"
      },
      "execution_count": 41,
      "outputs": []
    },
    {
      "cell_type": "code",
      "source": [
        "test_batch = dl(data_loader_prep_test ,batch_size=288)"
      ],
      "metadata": {
        "id": "X8jPh7ptqp9D"
      },
      "execution_count": 42,
      "outputs": []
    },
    {
      "cell_type": "code",
      "source": [
        "correct_train =0\n",
        "total_train =0\n",
        "with torch.no_grad():\n",
        "  for idx,(x_train,y_train) in enumerate(train_batch):\n",
        "    prediction = brain.forward(x_train.float())\n",
        "    \n",
        "    for idx,predicted_probability in enumerate(prediction):\n",
        "      if(torch.argmax(predicted_probability)==y_train[idx]):\n",
        "        correct_train+=1\n",
        "      total_train+=1\n"
      ],
      "metadata": {
        "id": "AM8KYvT-b4b1"
      },
      "execution_count": 43,
      "outputs": []
    },
    {
      "cell_type": "code",
      "source": [
        "print(correct_train)"
      ],
      "metadata": {
        "colab": {
          "base_uri": "https://localhost:8080/"
        },
        "id": "ZlzGp-qXdUu3",
        "outputId": "2d1ce513-a78c-4a28-d7bb-38ba494719ca"
      },
      "execution_count": 44,
      "outputs": [
        {
          "output_type": "stream",
          "name": "stdout",
          "text": [
            "2968\n"
          ]
        }
      ]
    },
    {
      "cell_type": "code",
      "source": [
        "print(total_train)"
      ],
      "metadata": {
        "colab": {
          "base_uri": "https://localhost:8080/"
        },
        "id": "ueQevJCBdX5k",
        "outputId": "f31139ee-b87b-4f2c-d770-7daf1ce4eb17"
      },
      "execution_count": 45,
      "outputs": [
        {
          "output_type": "stream",
          "name": "stdout",
          "text": [
            "4608\n"
          ]
        }
      ]
    },
    {
      "cell_type": "code",
      "source": [
        "print(\"Training accuracy is\",correct_train/total_train)"
      ],
      "metadata": {
        "colab": {
          "base_uri": "https://localhost:8080/"
        },
        "id": "OJYkZdE-z1Bw",
        "outputId": "128e3d45-29de-4209-9e3b-34f2d6a2bfc0"
      },
      "execution_count": 47,
      "outputs": [
        {
          "output_type": "stream",
          "name": "stdout",
          "text": [
            "Training accuracy is 0.6440972222222222\n"
          ]
        }
      ]
    },
    {
      "cell_type": "code",
      "source": [
        "def make_plot(y):\n",
        "  n=len(y)\n",
        "  y=np.array(y)\n",
        "\n",
        "  x=[]\n",
        "  for i in range(n):\n",
        "    x.append(i+1)\n",
        "  x=np.array(x)\n",
        "  plt.plot(x,y,x_label=\"no_of_epochs\",y_label=\"training_loss\")\n",
        "  \n"
      ],
      "metadata": {
        "id": "t4BIMC-l0PIH"
      },
      "execution_count": null,
      "outputs": []
    },
    {
      "cell_type": "code",
      "source": [
        "correct =0\n",
        "total =0\n",
        "with torch.no_grad():\n",
        "  for idx,(x_test,y_test) in enumerate(test_batch):\n",
        "    prediction = brain.forward(x_test.float())\n",
        "    \n",
        "    for idx,predicted_probability in enumerate(prediction):\n",
        "      if(torch.argmax(predicted_probability)==y_test[idx]):\n",
        "        correct+=1\n",
        "      total+=1\n"
      ],
      "metadata": {
        "id": "jBwewPJZeFlQ"
      },
      "execution_count": 48,
      "outputs": []
    },
    {
      "cell_type": "code",
      "source": [
        "\n",
        "print(\"Test accuracy is\",correct/total)"
      ],
      "metadata": {
        "colab": {
          "base_uri": "https://localhost:8080/"
        },
        "id": "9Mknr4J4rIUg",
        "outputId": "50ba2354-777b-42fa-840e-7cb763e71ca0"
      },
      "execution_count": 49,
      "outputs": [
        {
          "output_type": "stream",
          "name": "stdout",
          "text": [
            "Test accuracy is 0.4027777777777778\n"
          ]
        }
      ]
    },
    {
      "cell_type": "code",
      "source": [],
      "metadata": {
        "id": "gAwu9M482O_b"
      },
      "execution_count": null,
      "outputs": []
    }
  ]
}