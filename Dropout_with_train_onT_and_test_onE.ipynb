{
  "nbformat": 4,
  "nbformat_minor": 0,
  "metadata": {
    "colab": {
      "provenance": [],
      "mount_file_id": "https://github.com/Anchaliya75/Brain-Computer-Interface/blob/main/BCI_A01T.ipynb",
      "authorship_tag": "ABX9TyO55LvpY6+ihXKeJBQZst5i",
      "include_colab_link": true
    },
    "kernelspec": {
      "name": "python3",
      "display_name": "Python 3"
    },
    "language_info": {
      "name": "python"
    },
    "widgets": {
      "application/vnd.jupyter.widget-state+json": {
        "bc68a06d3fe8449c9579209169395358": {
          "model_module": "@jupyter-widgets/controls",
          "model_name": "HBoxModel",
          "model_module_version": "1.5.0",
          "state": {
            "_dom_classes": [],
            "_model_module": "@jupyter-widgets/controls",
            "_model_module_version": "1.5.0",
            "_model_name": "HBoxModel",
            "_view_count": null,
            "_view_module": "@jupyter-widgets/controls",
            "_view_module_version": "1.5.0",
            "_view_name": "HBoxView",
            "box_style": "",
            "children": [
              "IPY_MODEL_47c1fe578683479c92a2963802009069",
              "IPY_MODEL_c2b42fa06bb84c059364dac17d3bca1e",
              "IPY_MODEL_40389e1f4e4542cf94d2d66ac7d08ad9"
            ],
            "layout": "IPY_MODEL_94a7e67c269442c0b9d561b7ebd2b4c7"
          }
        },
        "47c1fe578683479c92a2963802009069": {
          "model_module": "@jupyter-widgets/controls",
          "model_name": "HTMLModel",
          "model_module_version": "1.5.0",
          "state": {
            "_dom_classes": [],
            "_model_module": "@jupyter-widgets/controls",
            "_model_module_version": "1.5.0",
            "_model_name": "HTMLModel",
            "_view_count": null,
            "_view_module": "@jupyter-widgets/controls",
            "_view_module_version": "1.5.0",
            "_view_name": "HTMLView",
            "description": "",
            "description_tooltip": null,
            "layout": "IPY_MODEL_ca25d41a6425467c8e970c969b5cf462",
            "placeholder": "​",
            "style": "IPY_MODEL_c575dab923f149f7a4a5a3eb3c084685",
            "value": "100%"
          }
        },
        "c2b42fa06bb84c059364dac17d3bca1e": {
          "model_module": "@jupyter-widgets/controls",
          "model_name": "FloatProgressModel",
          "model_module_version": "1.5.0",
          "state": {
            "_dom_classes": [],
            "_model_module": "@jupyter-widgets/controls",
            "_model_module_version": "1.5.0",
            "_model_name": "FloatProgressModel",
            "_view_count": null,
            "_view_module": "@jupyter-widgets/controls",
            "_view_module_version": "1.5.0",
            "_view_name": "ProgressView",
            "bar_style": "success",
            "description": "",
            "description_tooltip": null,
            "layout": "IPY_MODEL_93307d3fd86d48d7a6382d905d96fe9e",
            "max": 9,
            "min": 0,
            "orientation": "horizontal",
            "style": "IPY_MODEL_057cd98eeb1b47b9829822a02c002ddf",
            "value": 9
          }
        },
        "40389e1f4e4542cf94d2d66ac7d08ad9": {
          "model_module": "@jupyter-widgets/controls",
          "model_name": "HTMLModel",
          "model_module_version": "1.5.0",
          "state": {
            "_dom_classes": [],
            "_model_module": "@jupyter-widgets/controls",
            "_model_module_version": "1.5.0",
            "_model_name": "HTMLModel",
            "_view_count": null,
            "_view_module": "@jupyter-widgets/controls",
            "_view_module_version": "1.5.0",
            "_view_name": "HTMLView",
            "description": "",
            "description_tooltip": null,
            "layout": "IPY_MODEL_3d22befb39ed41bcbd2924c6fbf0bfe8",
            "placeholder": "​",
            "style": "IPY_MODEL_9dc904647cfd4f5aa0795a798e99db2f",
            "value": " 9/9 [00:00&lt;00:00, 168.04it/s]"
          }
        },
        "94a7e67c269442c0b9d561b7ebd2b4c7": {
          "model_module": "@jupyter-widgets/base",
          "model_name": "LayoutModel",
          "model_module_version": "1.2.0",
          "state": {
            "_model_module": "@jupyter-widgets/base",
            "_model_module_version": "1.2.0",
            "_model_name": "LayoutModel",
            "_view_count": null,
            "_view_module": "@jupyter-widgets/base",
            "_view_module_version": "1.2.0",
            "_view_name": "LayoutView",
            "align_content": null,
            "align_items": null,
            "align_self": null,
            "border": null,
            "bottom": null,
            "display": null,
            "flex": null,
            "flex_flow": null,
            "grid_area": null,
            "grid_auto_columns": null,
            "grid_auto_flow": null,
            "grid_auto_rows": null,
            "grid_column": null,
            "grid_gap": null,
            "grid_row": null,
            "grid_template_areas": null,
            "grid_template_columns": null,
            "grid_template_rows": null,
            "height": null,
            "justify_content": null,
            "justify_items": null,
            "left": null,
            "margin": null,
            "max_height": null,
            "max_width": null,
            "min_height": null,
            "min_width": null,
            "object_fit": null,
            "object_position": null,
            "order": null,
            "overflow": null,
            "overflow_x": null,
            "overflow_y": null,
            "padding": null,
            "right": null,
            "top": null,
            "visibility": null,
            "width": null
          }
        },
        "ca25d41a6425467c8e970c969b5cf462": {
          "model_module": "@jupyter-widgets/base",
          "model_name": "LayoutModel",
          "model_module_version": "1.2.0",
          "state": {
            "_model_module": "@jupyter-widgets/base",
            "_model_module_version": "1.2.0",
            "_model_name": "LayoutModel",
            "_view_count": null,
            "_view_module": "@jupyter-widgets/base",
            "_view_module_version": "1.2.0",
            "_view_name": "LayoutView",
            "align_content": null,
            "align_items": null,
            "align_self": null,
            "border": null,
            "bottom": null,
            "display": null,
            "flex": null,
            "flex_flow": null,
            "grid_area": null,
            "grid_auto_columns": null,
            "grid_auto_flow": null,
            "grid_auto_rows": null,
            "grid_column": null,
            "grid_gap": null,
            "grid_row": null,
            "grid_template_areas": null,
            "grid_template_columns": null,
            "grid_template_rows": null,
            "height": null,
            "justify_content": null,
            "justify_items": null,
            "left": null,
            "margin": null,
            "max_height": null,
            "max_width": null,
            "min_height": null,
            "min_width": null,
            "object_fit": null,
            "object_position": null,
            "order": null,
            "overflow": null,
            "overflow_x": null,
            "overflow_y": null,
            "padding": null,
            "right": null,
            "top": null,
            "visibility": null,
            "width": null
          }
        },
        "c575dab923f149f7a4a5a3eb3c084685": {
          "model_module": "@jupyter-widgets/controls",
          "model_name": "DescriptionStyleModel",
          "model_module_version": "1.5.0",
          "state": {
            "_model_module": "@jupyter-widgets/controls",
            "_model_module_version": "1.5.0",
            "_model_name": "DescriptionStyleModel",
            "_view_count": null,
            "_view_module": "@jupyter-widgets/base",
            "_view_module_version": "1.2.0",
            "_view_name": "StyleView",
            "description_width": ""
          }
        },
        "93307d3fd86d48d7a6382d905d96fe9e": {
          "model_module": "@jupyter-widgets/base",
          "model_name": "LayoutModel",
          "model_module_version": "1.2.0",
          "state": {
            "_model_module": "@jupyter-widgets/base",
            "_model_module_version": "1.2.0",
            "_model_name": "LayoutModel",
            "_view_count": null,
            "_view_module": "@jupyter-widgets/base",
            "_view_module_version": "1.2.0",
            "_view_name": "LayoutView",
            "align_content": null,
            "align_items": null,
            "align_self": null,
            "border": null,
            "bottom": null,
            "display": null,
            "flex": null,
            "flex_flow": null,
            "grid_area": null,
            "grid_auto_columns": null,
            "grid_auto_flow": null,
            "grid_auto_rows": null,
            "grid_column": null,
            "grid_gap": null,
            "grid_row": null,
            "grid_template_areas": null,
            "grid_template_columns": null,
            "grid_template_rows": null,
            "height": null,
            "justify_content": null,
            "justify_items": null,
            "left": null,
            "margin": null,
            "max_height": null,
            "max_width": null,
            "min_height": null,
            "min_width": null,
            "object_fit": null,
            "object_position": null,
            "order": null,
            "overflow": null,
            "overflow_x": null,
            "overflow_y": null,
            "padding": null,
            "right": null,
            "top": null,
            "visibility": null,
            "width": null
          }
        },
        "057cd98eeb1b47b9829822a02c002ddf": {
          "model_module": "@jupyter-widgets/controls",
          "model_name": "ProgressStyleModel",
          "model_module_version": "1.5.0",
          "state": {
            "_model_module": "@jupyter-widgets/controls",
            "_model_module_version": "1.5.0",
            "_model_name": "ProgressStyleModel",
            "_view_count": null,
            "_view_module": "@jupyter-widgets/base",
            "_view_module_version": "1.2.0",
            "_view_name": "StyleView",
            "bar_color": null,
            "description_width": ""
          }
        },
        "3d22befb39ed41bcbd2924c6fbf0bfe8": {
          "model_module": "@jupyter-widgets/base",
          "model_name": "LayoutModel",
          "model_module_version": "1.2.0",
          "state": {
            "_model_module": "@jupyter-widgets/base",
            "_model_module_version": "1.2.0",
            "_model_name": "LayoutModel",
            "_view_count": null,
            "_view_module": "@jupyter-widgets/base",
            "_view_module_version": "1.2.0",
            "_view_name": "LayoutView",
            "align_content": null,
            "align_items": null,
            "align_self": null,
            "border": null,
            "bottom": null,
            "display": null,
            "flex": null,
            "flex_flow": null,
            "grid_area": null,
            "grid_auto_columns": null,
            "grid_auto_flow": null,
            "grid_auto_rows": null,
            "grid_column": null,
            "grid_gap": null,
            "grid_row": null,
            "grid_template_areas": null,
            "grid_template_columns": null,
            "grid_template_rows": null,
            "height": null,
            "justify_content": null,
            "justify_items": null,
            "left": null,
            "margin": null,
            "max_height": null,
            "max_width": null,
            "min_height": null,
            "min_width": null,
            "object_fit": null,
            "object_position": null,
            "order": null,
            "overflow": null,
            "overflow_x": null,
            "overflow_y": null,
            "padding": null,
            "right": null,
            "top": null,
            "visibility": null,
            "width": null
          }
        },
        "9dc904647cfd4f5aa0795a798e99db2f": {
          "model_module": "@jupyter-widgets/controls",
          "model_name": "DescriptionStyleModel",
          "model_module_version": "1.5.0",
          "state": {
            "_model_module": "@jupyter-widgets/controls",
            "_model_module_version": "1.5.0",
            "_model_name": "DescriptionStyleModel",
            "_view_count": null,
            "_view_module": "@jupyter-widgets/base",
            "_view_module_version": "1.2.0",
            "_view_name": "StyleView",
            "description_width": ""
          }
        },
        "52d5830c612d4bb0bb5774d42c4cdfcc": {
          "model_module": "@jupyter-widgets/controls",
          "model_name": "HBoxModel",
          "model_module_version": "1.5.0",
          "state": {
            "_dom_classes": [],
            "_model_module": "@jupyter-widgets/controls",
            "_model_module_version": "1.5.0",
            "_model_name": "HBoxModel",
            "_view_count": null,
            "_view_module": "@jupyter-widgets/controls",
            "_view_module_version": "1.5.0",
            "_view_name": "HBoxView",
            "box_style": "",
            "children": [
              "IPY_MODEL_e9c6dd89b8f7432bbbc5e2e648c6979d",
              "IPY_MODEL_7a36e4cb1e044190843d9ae4943a0635",
              "IPY_MODEL_9cbeecd8b3ff430cad522b436f52fbdd"
            ],
            "layout": "IPY_MODEL_4e9b156df617483abe1d76f19af49e8b"
          }
        },
        "e9c6dd89b8f7432bbbc5e2e648c6979d": {
          "model_module": "@jupyter-widgets/controls",
          "model_name": "HTMLModel",
          "model_module_version": "1.5.0",
          "state": {
            "_dom_classes": [],
            "_model_module": "@jupyter-widgets/controls",
            "_model_module_version": "1.5.0",
            "_model_name": "HTMLModel",
            "_view_count": null,
            "_view_module": "@jupyter-widgets/controls",
            "_view_module_version": "1.5.0",
            "_view_name": "HTMLView",
            "description": "",
            "description_tooltip": null,
            "layout": "IPY_MODEL_d150d2d34b554fdfbcc907f468e60662",
            "placeholder": "​",
            "style": "IPY_MODEL_bf8cfe46e1b243cca5a0a80ab7c60051",
            "value": "100%"
          }
        },
        "7a36e4cb1e044190843d9ae4943a0635": {
          "model_module": "@jupyter-widgets/controls",
          "model_name": "FloatProgressModel",
          "model_module_version": "1.5.0",
          "state": {
            "_dom_classes": [],
            "_model_module": "@jupyter-widgets/controls",
            "_model_module_version": "1.5.0",
            "_model_name": "FloatProgressModel",
            "_view_count": null,
            "_view_module": "@jupyter-widgets/controls",
            "_view_module_version": "1.5.0",
            "_view_name": "ProgressView",
            "bar_style": "success",
            "description": "",
            "description_tooltip": null,
            "layout": "IPY_MODEL_7445058d44824442a490b5e148900abc",
            "max": 9,
            "min": 0,
            "orientation": "horizontal",
            "style": "IPY_MODEL_1e5c7687c507468cbd721fe1a43d3043",
            "value": 9
          }
        },
        "9cbeecd8b3ff430cad522b436f52fbdd": {
          "model_module": "@jupyter-widgets/controls",
          "model_name": "HTMLModel",
          "model_module_version": "1.5.0",
          "state": {
            "_dom_classes": [],
            "_model_module": "@jupyter-widgets/controls",
            "_model_module_version": "1.5.0",
            "_model_name": "HTMLModel",
            "_view_count": null,
            "_view_module": "@jupyter-widgets/controls",
            "_view_module_version": "1.5.0",
            "_view_name": "HTMLView",
            "description": "",
            "description_tooltip": null,
            "layout": "IPY_MODEL_0082e43c2cc946a7a5cba35a6ea50a40",
            "placeholder": "​",
            "style": "IPY_MODEL_0dcbe86b5bf74c07bdea773d80b3c42b",
            "value": " 9/9 [00:00&lt;00:00, 183.93it/s]"
          }
        },
        "4e9b156df617483abe1d76f19af49e8b": {
          "model_module": "@jupyter-widgets/base",
          "model_name": "LayoutModel",
          "model_module_version": "1.2.0",
          "state": {
            "_model_module": "@jupyter-widgets/base",
            "_model_module_version": "1.2.0",
            "_model_name": "LayoutModel",
            "_view_count": null,
            "_view_module": "@jupyter-widgets/base",
            "_view_module_version": "1.2.0",
            "_view_name": "LayoutView",
            "align_content": null,
            "align_items": null,
            "align_self": null,
            "border": null,
            "bottom": null,
            "display": null,
            "flex": null,
            "flex_flow": null,
            "grid_area": null,
            "grid_auto_columns": null,
            "grid_auto_flow": null,
            "grid_auto_rows": null,
            "grid_column": null,
            "grid_gap": null,
            "grid_row": null,
            "grid_template_areas": null,
            "grid_template_columns": null,
            "grid_template_rows": null,
            "height": null,
            "justify_content": null,
            "justify_items": null,
            "left": null,
            "margin": null,
            "max_height": null,
            "max_width": null,
            "min_height": null,
            "min_width": null,
            "object_fit": null,
            "object_position": null,
            "order": null,
            "overflow": null,
            "overflow_x": null,
            "overflow_y": null,
            "padding": null,
            "right": null,
            "top": null,
            "visibility": null,
            "width": null
          }
        },
        "d150d2d34b554fdfbcc907f468e60662": {
          "model_module": "@jupyter-widgets/base",
          "model_name": "LayoutModel",
          "model_module_version": "1.2.0",
          "state": {
            "_model_module": "@jupyter-widgets/base",
            "_model_module_version": "1.2.0",
            "_model_name": "LayoutModel",
            "_view_count": null,
            "_view_module": "@jupyter-widgets/base",
            "_view_module_version": "1.2.0",
            "_view_name": "LayoutView",
            "align_content": null,
            "align_items": null,
            "align_self": null,
            "border": null,
            "bottom": null,
            "display": null,
            "flex": null,
            "flex_flow": null,
            "grid_area": null,
            "grid_auto_columns": null,
            "grid_auto_flow": null,
            "grid_auto_rows": null,
            "grid_column": null,
            "grid_gap": null,
            "grid_row": null,
            "grid_template_areas": null,
            "grid_template_columns": null,
            "grid_template_rows": null,
            "height": null,
            "justify_content": null,
            "justify_items": null,
            "left": null,
            "margin": null,
            "max_height": null,
            "max_width": null,
            "min_height": null,
            "min_width": null,
            "object_fit": null,
            "object_position": null,
            "order": null,
            "overflow": null,
            "overflow_x": null,
            "overflow_y": null,
            "padding": null,
            "right": null,
            "top": null,
            "visibility": null,
            "width": null
          }
        },
        "bf8cfe46e1b243cca5a0a80ab7c60051": {
          "model_module": "@jupyter-widgets/controls",
          "model_name": "DescriptionStyleModel",
          "model_module_version": "1.5.0",
          "state": {
            "_model_module": "@jupyter-widgets/controls",
            "_model_module_version": "1.5.0",
            "_model_name": "DescriptionStyleModel",
            "_view_count": null,
            "_view_module": "@jupyter-widgets/base",
            "_view_module_version": "1.2.0",
            "_view_name": "StyleView",
            "description_width": ""
          }
        },
        "7445058d44824442a490b5e148900abc": {
          "model_module": "@jupyter-widgets/base",
          "model_name": "LayoutModel",
          "model_module_version": "1.2.0",
          "state": {
            "_model_module": "@jupyter-widgets/base",
            "_model_module_version": "1.2.0",
            "_model_name": "LayoutModel",
            "_view_count": null,
            "_view_module": "@jupyter-widgets/base",
            "_view_module_version": "1.2.0",
            "_view_name": "LayoutView",
            "align_content": null,
            "align_items": null,
            "align_self": null,
            "border": null,
            "bottom": null,
            "display": null,
            "flex": null,
            "flex_flow": null,
            "grid_area": null,
            "grid_auto_columns": null,
            "grid_auto_flow": null,
            "grid_auto_rows": null,
            "grid_column": null,
            "grid_gap": null,
            "grid_row": null,
            "grid_template_areas": null,
            "grid_template_columns": null,
            "grid_template_rows": null,
            "height": null,
            "justify_content": null,
            "justify_items": null,
            "left": null,
            "margin": null,
            "max_height": null,
            "max_width": null,
            "min_height": null,
            "min_width": null,
            "object_fit": null,
            "object_position": null,
            "order": null,
            "overflow": null,
            "overflow_x": null,
            "overflow_y": null,
            "padding": null,
            "right": null,
            "top": null,
            "visibility": null,
            "width": null
          }
        },
        "1e5c7687c507468cbd721fe1a43d3043": {
          "model_module": "@jupyter-widgets/controls",
          "model_name": "ProgressStyleModel",
          "model_module_version": "1.5.0",
          "state": {
            "_model_module": "@jupyter-widgets/controls",
            "_model_module_version": "1.5.0",
            "_model_name": "ProgressStyleModel",
            "_view_count": null,
            "_view_module": "@jupyter-widgets/base",
            "_view_module_version": "1.2.0",
            "_view_name": "StyleView",
            "bar_color": null,
            "description_width": ""
          }
        },
        "0082e43c2cc946a7a5cba35a6ea50a40": {
          "model_module": "@jupyter-widgets/base",
          "model_name": "LayoutModel",
          "model_module_version": "1.2.0",
          "state": {
            "_model_module": "@jupyter-widgets/base",
            "_model_module_version": "1.2.0",
            "_model_name": "LayoutModel",
            "_view_count": null,
            "_view_module": "@jupyter-widgets/base",
            "_view_module_version": "1.2.0",
            "_view_name": "LayoutView",
            "align_content": null,
            "align_items": null,
            "align_self": null,
            "border": null,
            "bottom": null,
            "display": null,
            "flex": null,
            "flex_flow": null,
            "grid_area": null,
            "grid_auto_columns": null,
            "grid_auto_flow": null,
            "grid_auto_rows": null,
            "grid_column": null,
            "grid_gap": null,
            "grid_row": null,
            "grid_template_areas": null,
            "grid_template_columns": null,
            "grid_template_rows": null,
            "height": null,
            "justify_content": null,
            "justify_items": null,
            "left": null,
            "margin": null,
            "max_height": null,
            "max_width": null,
            "min_height": null,
            "min_width": null,
            "object_fit": null,
            "object_position": null,
            "order": null,
            "overflow": null,
            "overflow_x": null,
            "overflow_y": null,
            "padding": null,
            "right": null,
            "top": null,
            "visibility": null,
            "width": null
          }
        },
        "0dcbe86b5bf74c07bdea773d80b3c42b": {
          "model_module": "@jupyter-widgets/controls",
          "model_name": "DescriptionStyleModel",
          "model_module_version": "1.5.0",
          "state": {
            "_model_module": "@jupyter-widgets/controls",
            "_model_module_version": "1.5.0",
            "_model_name": "DescriptionStyleModel",
            "_view_count": null,
            "_view_module": "@jupyter-widgets/base",
            "_view_module_version": "1.2.0",
            "_view_name": "StyleView",
            "description_width": ""
          }
        }
      }
    }
  },
  "cells": [
    {
      "cell_type": "markdown",
      "metadata": {
        "id": "view-in-github",
        "colab_type": "text"
      },
      "source": [
        "<a href=\"https://colab.research.google.com/github/Anchaliya75/Brain-Computer-Interface/blob/main/Dropout_with_train_onT_and_test_onE.ipynb\" target=\"_parent\"><img src=\"https://colab.research.google.com/assets/colab-badge.svg\" alt=\"Open In Colab\"/></a>"
      ]
    },
    {
      "cell_type": "code",
      "source": [
        "!pip install torchinfo"
      ],
      "metadata": {
        "id": "0c1wKLA6luL5",
        "outputId": "59185406-375c-4507-a2d6-2e191cfe945d",
        "colab": {
          "base_uri": "https://localhost:8080/"
        }
      },
      "execution_count": 101,
      "outputs": [
        {
          "output_type": "stream",
          "name": "stdout",
          "text": [
            "Looking in indexes: https://pypi.org/simple, https://us-python.pkg.dev/colab-wheels/public/simple/\n",
            "Requirement already satisfied: torchinfo in /usr/local/lib/python3.8/dist-packages (1.7.1)\n"
          ]
        }
      ]
    },
    {
      "cell_type": "code",
      "execution_count": 102,
      "metadata": {
        "id": "eqfLnRtmf6ZW"
      },
      "outputs": [],
      "source": [
        "import pandas as pd\n",
        "import numpy as np\n",
        "import matplotlib.pyplot as plt\n",
        "from tqdm.notebook import tqdm\n",
        "import torch\n",
        "import torch.nn.functional as F\n",
        "import torch.nn as nn\n",
        "import torch.optim as optim\n",
        "from torch.utils.data import DataLoader as dl\n",
        "import matplotlib.pyplot as plt\n",
        "from torchinfo import summary\n"
      ]
    },
    {
      "cell_type": "code",
      "source": [
        "from google.colab import drive\n",
        "drive.mount('/content/drive')"
      ],
      "metadata": {
        "id": "JNn8VtS5jUYG",
        "outputId": "f9925a0f-e137-4633-d5b6-ec6a677f96fd",
        "colab": {
          "base_uri": "https://localhost:8080/"
        }
      },
      "execution_count": 103,
      "outputs": [
        {
          "output_type": "stream",
          "name": "stdout",
          "text": [
            "Drive already mounted at /content/drive; to attempt to forcibly remount, call drive.mount(\"/content/drive\", force_remount=True).\n"
          ]
        }
      ]
    },
    {
      "cell_type": "code",
      "source": [
        "from scipy.io import loadmat\n",
        "matfile  =\"/content/drive/MyDrive/BCI Competition IV 2a dataset/BCI/A01T.mat\"\n",
        "matfile2 =\"/content/drive/MyDrive/BCI Competition IV 2a dataset/BCI/A02T.mat\"\n",
        "matfile3= \"/content/drive/MyDrive/BCI Competition IV 2a dataset/BCI/A03T.mat\"\n",
        "matfile4 = \"/content/drive/MyDrive/BCI Competition IV 2a dataset/BCI/A04T.mat\"\n",
        "matfile5 = \"/content/drive/MyDrive/BCI Competition IV 2a dataset/BCI/A05T.mat\"\n",
        "matfile6= \"/content/drive/MyDrive/BCI Competition IV 2a dataset/BCI/A06T.mat\"\n",
        "matfile7 = \"/content/drive/MyDrive/BCI Competition IV 2a dataset/BCI/A07T.mat\"\n",
        "matfile8 =\"/content/drive/MyDrive/BCI Competition IV 2a dataset/BCI/A08T.mat\"\n",
        "matfile9 = \"/content/drive/MyDrive/BCI Competition IV 2a dataset/BCI/A09T.mat\"\n",
        "matfilee1=\"/content/drive/MyDrive/BCI Competition IV 2a dataset/BCI/A01E.mat\"\n",
        "matfilee2= \"/content/drive/MyDrive/BCI Competition IV 2a dataset/BCI/A02E.mat\"\n",
        "matfilee3=\"/content/drive/MyDrive/BCI Competition IV 2a dataset/BCI/A03E.mat\"\n",
        "matfilee4=\"/content/drive/MyDrive/BCI Competition IV 2a dataset/BCI/A05E.mat\"\n",
        "matfilee5=\"/content/drive/MyDrive/BCI Competition IV 2a dataset/BCI/A04E.mat\"\n",
        "matfilee6=\"/content/drive/MyDrive/BCI Competition IV 2a dataset/BCI/A06E.mat\"\n",
        "matfilee7=\"/content/drive/MyDrive/BCI Competition IV 2a dataset/BCI/A07E.mat\"\n",
        "matfilee8=\"/content/drive/MyDrive/BCI Competition IV 2a dataset/BCI/A08E.mat\"\n",
        "matfilee9=\"/content/drive/MyDrive/BCI Competition IV 2a dataset/BCI/A09E.mat\"\n",
        "data1 = loadmat(matfile)['data']\n",
        "data2 = loadmat(matfile2)['data']\n",
        "data3 = loadmat(matfile3)['data']\n",
        "data4 = loadmat(matfile4)['data']\n",
        "data5 = loadmat(matfile5)['data']\n",
        "data6 = loadmat(matfile6)['data']\n",
        "data7 = loadmat(matfile7)['data']\n",
        "data8 = loadmat(matfile8)['data']\n",
        "data9 = loadmat(matfile9)['data']\n",
        "data1e= loadmat(matfilee1)['data']\n",
        "data2e= loadmat(matfilee2)['data']\n",
        "data3e= loadmat(matfilee3)['data']\n",
        "data4e= loadmat(matfilee4)['data']\n",
        "data5e= loadmat(matfilee5)['data']\n",
        "data6e= loadmat(matfilee6)['data']\n",
        "data7e= loadmat(matfilee7)['data']\n",
        "data8e= loadmat(matfilee8)['data']\n",
        "data9e= loadmat(matfilee9)['data']\n",
        "\n",
        "\n",
        "\n",
        "\n",
        "all_data = [data1,data2,data3,data4,data5,data6,data7,data8,data9]\n",
        "all_data_test =[data1e,data2e,data3e,data4e,data5e,data6e,data7e,data8e,data9e]"
      ],
      "metadata": {
        "id": "n-ga7QcngP0Y"
      },
      "execution_count": 104,
      "outputs": []
    },
    {
      "cell_type": "code",
      "source": [
        "batch_size=288"
      ],
      "metadata": {
        "id": "Kcxe_k6_PcKZ"
      },
      "execution_count": 105,
      "outputs": []
    },
    {
      "cell_type": "code",
      "source": [
        "def sampling(x):\n",
        "  mini =1e9\n",
        "  ma=0\n",
        "  for  i in range(len(x)):\n",
        "        mini =min(mini,x[i].shape[0])\n",
        "        x_updated=[]\n",
        "  for i  in range(len(x)):\n",
        "        x_a = x[i][:mini-5]\n",
        "        x_updated.append(x_a)\n",
        "     \n",
        "  return x_updated\n",
        "\n",
        "\n"
      ],
      "metadata": {
        "id": "rnu7imVEwxEX"
      },
      "execution_count": 106,
      "outputs": []
    },
    {
      "cell_type": "code",
      "source": [
        "def converting_mat_to_tensors(all_data,x,y):\n",
        "  subjects  = len(all_data)\n",
        "  for  a  in tqdm(range(subjects)):\n",
        "      data = all_data[a]\n",
        "      \n",
        "      if(a==3):\n",
        "        \n",
        "        for i in range(1,7):\n",
        "          samples = data[0,i][0,0][1]\n",
        "          n =len(samples)\n",
        "          prev= data[0,i][0,0][1][0][0]\n",
        "          for j in range(1,n):\n",
        "            take  = data[0,i][0,0][1][j][0]\n",
        "            x.append(data[0,i][0,0][0][prev:take,0:22])\n",
        "            y.append(data[0,i][0,0][2][j-1][0])\n",
        "            prev = take\n",
        "          x.append(data[0,i][0,0][0][prev:,0:22]) \n",
        "          y.append(data[0,i][0,0][2][j][0])\n",
        "\n",
        "      else:\n",
        "        \n",
        "        for i in range(3,9):\n",
        "          samples = data[0,i][0,0][1]\n",
        "          n =len(samples)\n",
        "          prev= data[0,i][0,0][1][0][0]\n",
        "          for j in range(1,n):\n",
        "            take  = data[0,i][0,0][1][j][0]\n",
        "            x.append(data[0,i][0,0][0][prev:take,0:22])\n",
        "            y.append(data[0,i][0,0][2][j-1][0])\n",
        "            prev = take\n",
        "          x.append(data[0,i][0,0][0][prev:,0:22]) \n",
        "          y.append(data[0,i][0,0][2][j][0])\n",
        "  a=sampling(x)\n",
        "  a=torch.tensor(a)\n",
        "  dim1=a.shape[0]\n",
        "  dim2=a.shape[1]\n",
        "  dim3=a.shape[2]\n",
        "  a=a.reshape(dim1,1,dim2,dim3)\n",
        "  return a,torch.tensor(y)\n",
        "  \n",
        "  \n",
        "  \n"
      ],
      "metadata": {
        "id": "Es-TCuLxs40A"
      },
      "execution_count": 107,
      "outputs": []
    },
    {
      "cell_type": "code",
      "source": [
        "def converting_mat_to_tensors_test(all_data,x,y):\n",
        "  subjects  = len(all_data)\n",
        "  for  a  in tqdm(range(subjects)):\n",
        "      data = all_data[a]\n",
        "      \n",
        "      if(a==3):\n",
        "        \n",
        "        for i in range(3,9):\n",
        "          samples = data[0,i][0,0][1]\n",
        "          n =len(samples)\n",
        "          prev= data[0,i][0,0][1][0][0]\n",
        "          for j in range(1,n):\n",
        "            take  = data[0,i][0,0][1][j][0]\n",
        "            x.append(data[0,i][0,0][0][prev:take,0:22])\n",
        "            y.append(data[0,i][0,0][2][j-1][0])\n",
        "            prev = take\n",
        "          x.append(data[0,i][0,0][0][prev:,0:22]) \n",
        "          y.append(data[0,i][0,0][2][j][0])\n",
        "\n",
        "      else:\n",
        "        \n",
        "        for i in range(3,9):\n",
        "          samples = data[0,i][0,0][1]\n",
        "          n =len(samples)\n",
        "          prev= data[0,i][0,0][1][0][0]\n",
        "          for j in range(1,n):\n",
        "            take  = data[0,i][0,0][1][j][0]\n",
        "            x.append(data[0,i][0,0][0][prev:take,0:22])\n",
        "            y.append(data[0,i][0,0][2][j-1][0])\n",
        "            prev = take\n",
        "          x.append(data[0,i][0,0][0][prev:,0:22]) \n",
        "          y.append(data[0,i][0,0][2][j][0])\n",
        "  a=sampling(x)\n",
        "  a=torch.tensor(a)\n",
        "  dim1=a.shape[0]\n",
        "  dim2=a.shape[1]\n",
        "  dim3=a.shape[2]\n",
        "  a=a.reshape(dim1,1,dim2,dim3)\n",
        "  return a,torch.tensor(y)\n",
        "  \n",
        "  \n",
        "  \n"
      ],
      "metadata": {
        "id": "jQ7FnfW8n9CM"
      },
      "execution_count": 108,
      "outputs": []
    },
    {
      "cell_type": "code",
      "source": [
        "def preperation_for_dataloader(x,y):\n",
        "  array=[]\n",
        "  for i in range(len(y)):\n",
        "    array.append((x[i],y[i]))\n",
        "  return array\n"
      ],
      "metadata": {
        "id": "FTotkCB839Tc"
      },
      "execution_count": 109,
      "outputs": []
    },
    {
      "cell_type": "code",
      "source": [
        "x,y=converting_mat_to_tensors(all_data,[],[])\n"
      ],
      "metadata": {
        "colab": {
          "base_uri": "https://localhost:8080/",
          "height": 49,
          "referenced_widgets": [
            "bc68a06d3fe8449c9579209169395358",
            "47c1fe578683479c92a2963802009069",
            "c2b42fa06bb84c059364dac17d3bca1e",
            "40389e1f4e4542cf94d2d66ac7d08ad9",
            "94a7e67c269442c0b9d561b7ebd2b4c7",
            "ca25d41a6425467c8e970c969b5cf462",
            "c575dab923f149f7a4a5a3eb3c084685",
            "93307d3fd86d48d7a6382d905d96fe9e",
            "057cd98eeb1b47b9829822a02c002ddf",
            "3d22befb39ed41bcbd2924c6fbf0bfe8",
            "9dc904647cfd4f5aa0795a798e99db2f"
          ]
        },
        "id": "3uk3pLnWto8j",
        "outputId": "db348f65-6495-46e7-e2a4-c3a04669bfb4"
      },
      "execution_count": 110,
      "outputs": [
        {
          "output_type": "display_data",
          "data": {
            "text/plain": [
              "  0%|          | 0/9 [00:00<?, ?it/s]"
            ],
            "application/vnd.jupyter.widget-view+json": {
              "version_major": 2,
              "version_minor": 0,
              "model_id": "bc68a06d3fe8449c9579209169395358"
            }
          },
          "metadata": {}
        }
      ]
    },
    {
      "cell_type": "code",
      "source": [
        "data_loader_prep = preperation_for_dataloader(x,y)\n"
      ],
      "metadata": {
        "id": "XmtQp4xZ4vuc"
      },
      "execution_count": 111,
      "outputs": []
    },
    {
      "cell_type": "code",
      "source": [
        "# (a,b)=data_loader_prep[0]\n",
        "# print(a.size())"
      ],
      "metadata": {
        "id": "yfHOiHAFQ2UT"
      },
      "execution_count": 12,
      "outputs": []
    },
    {
      "cell_type": "code",
      "source": [
        "train_batch = dl(data_loader_prep ,batch_size=288)"
      ],
      "metadata": {
        "id": "072Gm6Kl7t0C"
      },
      "execution_count": 112,
      "outputs": []
    },
    {
      "cell_type": "code",
      "source": [
        "for idx,(a,b) in enumerate(train_batch):\n",
        "  print(a.shape)\n",
        "  print(b.shape)\n",
        "  break"
      ],
      "metadata": {
        "colab": {
          "base_uri": "https://localhost:8080/"
        },
        "id": "BReHxvBo8RyB",
        "outputId": "911564f9-002a-4921-ada3-4e68d853e751"
      },
      "execution_count": 113,
      "outputs": [
        {
          "output_type": "stream",
          "name": "stdout",
          "text": [
            "torch.Size([288, 1, 1890, 22])\n",
            "torch.Size([288])\n"
          ]
        }
      ]
    },
    {
      "cell_type": "code",
      "source": [
        "class BCI(nn.Module):\n",
        "  def __init__(self):\n",
        "    super().__init__()\n",
        "    self.conv1=nn.Conv2d(in_channels=1 ,out_channels=3,kernel_size=3 ,padding =1)\n",
        "    self.maxpool =nn.MaxPool2d(2)\n",
        "    self.dropout1 = nn.Dropout(0.5)\n",
        "    self.linear1 = nn.Linear(945*11*3,100)\n",
        "    self.dropout2 = nn.Dropout(0.5)\n",
        "    self.linear2=nn.Linear(100,25)\n",
        "    self.dropout3 = nn.Dropout(0.5)\n",
        "    self.linear3=nn.Linear(25,5)\n",
        "    self.dropout4=nn.Dropout(0.5)\n",
        "  def forward(self,input_data):\n",
        "\n",
        "    x= self.conv1(input_data)\n",
        "    \n",
        "    x= self.maxpool(x)\n",
        "    \n",
        "    x=x.reshape(288,-1)\n",
        "    x= F.relu(self.linear1(x))\n",
        "    x=F.relu(self.linear2(x))\n",
        "    x=self.linear3(x)\n",
        "    return x\n",
        "\n"
      ],
      "metadata": {
        "id": "9ZG3H1q5Ichs"
      },
      "execution_count": 115,
      "outputs": []
    },
    {
      "cell_type": "code",
      "source": [
        "brain = BCI()\n",
        "lossfunction  =nn.CrossEntropyLoss()\n",
        "optimizer = optim.Adam(brain.parameters(),lr =0.001)"
      ],
      "metadata": {
        "id": "5eg74huYFrLo"
      },
      "execution_count": 116,
      "outputs": []
    },
    {
      "cell_type": "code",
      "source": [
        "brain"
      ],
      "metadata": {
        "id": "o05oE4uwlfpi",
        "outputId": "9fb5f1cf-250f-42de-aefd-b27a45c02f1a",
        "colab": {
          "base_uri": "https://localhost:8080/"
        }
      },
      "execution_count": 117,
      "outputs": [
        {
          "output_type": "execute_result",
          "data": {
            "text/plain": [
              "BCI(\n",
              "  (conv1): Conv2d(1, 3, kernel_size=(3, 3), stride=(1, 1), padding=(1, 1))\n",
              "  (maxpool): MaxPool2d(kernel_size=2, stride=2, padding=0, dilation=1, ceil_mode=False)\n",
              "  (dropout1): Dropout(p=0.5, inplace=False)\n",
              "  (linear1): Linear(in_features=31185, out_features=100, bias=True)\n",
              "  (dropout2): Dropout(p=0.5, inplace=False)\n",
              "  (linear2): Linear(in_features=100, out_features=25, bias=True)\n",
              "  (dropout3): Dropout(p=0.5, inplace=False)\n",
              "  (linear3): Linear(in_features=25, out_features=5, bias=True)\n",
              "  (dropout4): Dropout(p=0.5, inplace=False)\n",
              ")"
            ]
          },
          "metadata": {},
          "execution_count": 117
        }
      ]
    },
    {
      "cell_type": "code",
      "source": [
        "summary(brain,(288,1,1890,22))"
      ],
      "metadata": {
        "id": "FfDvMKsvmntk",
        "outputId": "43e75773-9d40-44d5-ba45-8f50ee0c2cf8",
        "colab": {
          "base_uri": "https://localhost:8080/"
        }
      },
      "execution_count": 118,
      "outputs": [
        {
          "output_type": "execute_result",
          "data": {
            "text/plain": [
              "==========================================================================================\n",
              "Layer (type:depth-idx)                   Output Shape              Param #\n",
              "==========================================================================================\n",
              "BCI                                      [288, 5]                  --\n",
              "├─Conv2d: 1-1                            [288, 3, 1890, 22]        30\n",
              "├─MaxPool2d: 1-2                         [288, 3, 945, 11]         --\n",
              "├─Linear: 1-3                            [288, 100]                3,118,600\n",
              "├─Linear: 1-4                            [288, 25]                 2,525\n",
              "├─Linear: 1-5                            [288, 5]                  130\n",
              "==========================================================================================\n",
              "Total params: 3,121,285\n",
              "Trainable params: 3,121,285\n",
              "Non-trainable params: 0\n",
              "Total mult-adds (G): 1.26\n",
              "==========================================================================================\n",
              "Input size (MB): 47.90\n",
              "Forward/backward pass size (MB): 287.70\n",
              "Params size (MB): 12.49\n",
              "Estimated Total Size (MB): 348.09\n",
              "=========================================================================================="
            ]
          },
          "metadata": {},
          "execution_count": 118
        }
      ]
    },
    {
      "cell_type": "code",
      "source": [
        "loss_array=[]\n",
        "epochs_array=[]\n",
        "epochs = 20\n",
        "for i in range(epochs):\n",
        "    epochs_array.append(i+1)\n",
        "\n",
        "for  i in range(epochs):\n",
        "  one_epoch_loss =0\n",
        "  cnt =0\n",
        "  for idx,(x_train,y_train) in enumerate(train_batch):\n",
        "    # print(x_train.size())\n",
        "    cnt+=1\n",
        "    brain.zero_grad()\n",
        "    prediction =brain.forward(x_train.float())\n",
        "    loss=lossfunction(prediction,y_train)\n",
        "    h=loss\n",
        "    one_epoch_loss += float(h.item())\n",
        "    loss.backward()\n",
        "    optimizer.step()\n",
        "  one_epoch_loss = one_epoch_loss/cnt\n",
        "  loss_array.append(one_epoch_loss)"
      ],
      "metadata": {
        "id": "tQ4pD__iYn7B"
      },
      "execution_count": 142,
      "outputs": []
    },
    {
      "cell_type": "code",
      "source": [
        "\n",
        "plt.plot(epochs_array, loss_array)\n",
        "# plt.figure(figsize=(16,9))\n",
        "plt.xlabel('Epoch')\n",
        "plt.ylabel('Loss')\n",
        "plt.title('Epoch vs Loss')\n",
        "plt.show()"
      ],
      "metadata": {
        "id": "j90yKBZLrYw7",
        "outputId": "00d5fc50-2a55-43ae-a893-e3495d2df464",
        "colab": {
          "base_uri": "https://localhost:8080/",
          "height": 295
        }
      },
      "execution_count": 143,
      "outputs": [
        {
          "output_type": "display_data",
          "data": {
            "text/plain": [
              "<Figure size 432x288 with 1 Axes>"
            ],
            "image/png": "[encoded data removed]"
          },
          "metadata": {
            "needs_background": "light"
          }
        }
      ]
    },
    {
      "cell_type": "code",
      "source": [
        "\n",
        "x_test,y_test = converting_mat_to_tensors_test(all_data_test,[],[])"
      ],
      "metadata": {
        "colab": {
          "base_uri": "https://localhost:8080/",
          "height": 49,
          "referenced_widgets": [
            "52d5830c612d4bb0bb5774d42c4cdfcc",
            "e9c6dd89b8f7432bbbc5e2e648c6979d",
            "7a36e4cb1e044190843d9ae4943a0635",
            "9cbeecd8b3ff430cad522b436f52fbdd",
            "4e9b156df617483abe1d76f19af49e8b",
            "d150d2d34b554fdfbcc907f468e60662",
            "bf8cfe46e1b243cca5a0a80ab7c60051",
            "7445058d44824442a490b5e148900abc",
            "1e5c7687c507468cbd721fe1a43d3043",
            "0082e43c2cc946a7a5cba35a6ea50a40",
            "0dcbe86b5bf74c07bdea773d80b3c42b"
          ]
        },
        "id": "aOcxDZy0hKVJ",
        "outputId": "310db35b-a68c-413d-bde2-32c4649eb7a0"
      },
      "execution_count": 144,
      "outputs": [
        {
          "output_type": "display_data",
          "data": {
            "text/plain": [
              "  0%|          | 0/9 [00:00<?, ?it/s]"
            ],
            "application/vnd.jupyter.widget-view+json": {
              "version_major": 2,
              "version_minor": 0,
              "model_id": "52d5830c612d4bb0bb5774d42c4cdfcc"
            }
          },
          "metadata": {}
        }
      ]
    },
    {
      "cell_type": "code",
      "source": [
        "data_loader_prep_test = preperation_for_dataloader(x_test,y_test)\n"
      ],
      "metadata": {
        "id": "j8_2XiPiqZQI"
      },
      "execution_count": 145,
      "outputs": []
    },
    {
      "cell_type": "code",
      "source": [
        "test_batch = dl(data_loader_prep_test ,batch_size=288)"
      ],
      "metadata": {
        "id": "X8jPh7ptqp9D"
      },
      "execution_count": 146,
      "outputs": []
    },
    {
      "cell_type": "code",
      "source": [
        "correct_train =0\n",
        "total_train =0\n",
        "with torch.no_grad():\n",
        "  for idx,(x_train,y_train) in enumerate(train_batch):\n",
        "    prediction = brain.forward(x_train.float())\n",
        "    \n",
        "    for idx,predicted_probability in enumerate(prediction):\n",
        "      if(torch.argmax(predicted_probability)==y_train[idx]):\n",
        "        correct_train+=1\n",
        "      total_train+=1\n"
      ],
      "metadata": {
        "id": "AM8KYvT-b4b1"
      },
      "execution_count": 147,
      "outputs": []
    },
    {
      "cell_type": "code",
      "source": [
        "print(correct_train)"
      ],
      "metadata": {
        "colab": {
          "base_uri": "https://localhost:8080/"
        },
        "id": "ZlzGp-qXdUu3",
        "outputId": "ac6c72fa-2b31-4e34-bfee-eba45ed04a8e"
      },
      "execution_count": 148,
      "outputs": [
        {
          "output_type": "stream",
          "name": "stdout",
          "text": [
            "2592\n"
          ]
        }
      ]
    },
    {
      "cell_type": "code",
      "source": [
        "print(total_train)"
      ],
      "metadata": {
        "colab": {
          "base_uri": "https://localhost:8080/"
        },
        "id": "ueQevJCBdX5k",
        "outputId": "60819820-7c69-4243-c443-65dade0e5a1b"
      },
      "execution_count": 149,
      "outputs": [
        {
          "output_type": "stream",
          "name": "stdout",
          "text": [
            "2592\n"
          ]
        }
      ]
    },
    {
      "cell_type": "code",
      "source": [
        "print(\"Training accuracy is\",correct_train/total_train)"
      ],
      "metadata": {
        "colab": {
          "base_uri": "https://localhost:8080/"
        },
        "id": "OJYkZdE-z1Bw",
        "outputId": "4d9f8014-e374-4754-c450-30676bc7932e"
      },
      "execution_count": 150,
      "outputs": [
        {
          "output_type": "stream",
          "name": "stdout",
          "text": [
            "Training accuracy is 1.0\n"
          ]
        }
      ]
    },
    {
      "cell_type": "code",
      "source": [
        "def make_plot(y):\n",
        "  n=len(y)\n",
        "  y=np.array(y)\n",
        "\n",
        "  x=[]\n",
        "  for i in range(n):\n",
        "    x.append(i+1)\n",
        "  x=np.array(x)\n",
        "  plt.plot(x,y,x_label=\"no_of_epochs\",y_label=\"training_loss\")\n",
        "  \n"
      ],
      "metadata": {
        "id": "t4BIMC-l0PIH"
      },
      "execution_count": 151,
      "outputs": []
    },
    {
      "cell_type": "code",
      "source": [
        "correct =0\n",
        "total =0\n",
        "with torch.no_grad():\n",
        "  for idx,(x_test,y_test) in enumerate(test_batch):\n",
        "    prediction = brain.forward(x_test.float())\n",
        "    \n",
        "    for idx,predicted_probability in enumerate(prediction):\n",
        "      if(torch.argmax(predicted_probability)==y_test[idx]):\n",
        "        correct+=1\n",
        "      total+=1\n"
      ],
      "metadata": {
        "id": "jBwewPJZeFlQ"
      },
      "execution_count": 152,
      "outputs": []
    },
    {
      "cell_type": "code",
      "source": [
        "\n",
        "print(\"Test accuracy is\",correct/total)"
      ],
      "metadata": {
        "colab": {
          "base_uri": "https://localhost:8080/"
        },
        "id": "9Mknr4J4rIUg",
        "outputId": "2740d5e7-88d2-48ba-9ce4-760e7987c469"
      },
      "execution_count": 153,
      "outputs": [
        {
          "output_type": "stream",
          "name": "stdout",
          "text": [
            "Test accuracy is 0.33487654320987653\n"
          ]
        }
      ]
    },
    {
      "cell_type": "code",
      "source": [],
      "metadata": {
        "id": "gAwu9M482O_b"
      },
      "execution_count": 64,
      "outputs": []
    }
  ]
}