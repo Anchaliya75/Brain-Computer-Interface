{
  "nbformat": 4,
  "nbformat_minor": 0,
  "metadata": {
    "colab": {
      "provenance": [],
      "mount_file_id": "https://github.com/Anchaliya75/Brain-Computer-Interface/blob/main/Training_all_t_and_e.ipynb",
      "authorship_tag": "ABX9TyM4XfXS2tmQ6/iK+jKCdIJE",
      "include_colab_link": true
    },
    "kernelspec": {
      "name": "python3",
      "display_name": "Python 3"
    },
    "language_info": {
      "name": "python"
    },
    "widgets": {
      "application/vnd.jupyter.widget-state+json": {
        "2cd3910cc2e24fb7b68c21539c80142d": {
          "model_module": "@jupyter-widgets/controls",
          "model_name": "HBoxModel",
          "model_module_version": "1.5.0",
          "state": {
            "_dom_classes": [],
            "_model_module": "@jupyter-widgets/controls",
            "_model_module_version": "1.5.0",
            "_model_name": "HBoxModel",
            "_view_count": null,
            "_view_module": "@jupyter-widgets/controls",
            "_view_module_version": "1.5.0",
            "_view_name": "HBoxView",
            "box_style": "",
            "children": [
              "IPY_MODEL_199dd599d03044908c51ef0d1912614f",
              "IPY_MODEL_bdca0623aa424fd29d72ad7eac02dacc",
              "IPY_MODEL_5e78c708f19e49dfacdb0c81d51618d2"
            ],
            "layout": "IPY_MODEL_b212ddaf602c45fbbc91fd97049780ca"
          }
        },
        "199dd599d03044908c51ef0d1912614f": {
          "model_module": "@jupyter-widgets/controls",
          "model_name": "HTMLModel",
          "model_module_version": "1.5.0",
          "state": {
            "_dom_classes": [],
            "_model_module": "@jupyter-widgets/controls",
            "_model_module_version": "1.5.0",
            "_model_name": "HTMLModel",
            "_view_count": null,
            "_view_module": "@jupyter-widgets/controls",
            "_view_module_version": "1.5.0",
            "_view_name": "HTMLView",
            "description": "",
            "description_tooltip": null,
            "layout": "IPY_MODEL_9ee462d4e08648f0af112bafc14848cd",
            "placeholder": "​",
            "style": "IPY_MODEL_b0e0dc8ee4824f8697bc07225659b855",
            "value": "100%"
          }
        },
        "bdca0623aa424fd29d72ad7eac02dacc": {
          "model_module": "@jupyter-widgets/controls",
          "model_name": "FloatProgressModel",
          "model_module_version": "1.5.0",
          "state": {
            "_dom_classes": [],
            "_model_module": "@jupyter-widgets/controls",
            "_model_module_version": "1.5.0",
            "_model_name": "FloatProgressModel",
            "_view_count": null,
            "_view_module": "@jupyter-widgets/controls",
            "_view_module_version": "1.5.0",
            "_view_name": "ProgressView",
            "bar_style": "success",
            "description": "",
            "description_tooltip": null,
            "layout": "IPY_MODEL_6db2a3075dae45bd848c32575e40d04c",
            "max": 16,
            "min": 0,
            "orientation": "horizontal",
            "style": "IPY_MODEL_87b8136515b94473b03adecbd4a07f0f",
            "value": 16
          }
        },
        "5e78c708f19e49dfacdb0c81d51618d2": {
          "model_module": "@jupyter-widgets/controls",
          "model_name": "HTMLModel",
          "model_module_version": "1.5.0",
          "state": {
            "_dom_classes": [],
            "_model_module": "@jupyter-widgets/controls",
            "_model_module_version": "1.5.0",
            "_model_name": "HTMLModel",
            "_view_count": null,
            "_view_module": "@jupyter-widgets/controls",
            "_view_module_version": "1.5.0",
            "_view_name": "HTMLView",
            "description": "",
            "description_tooltip": null,
            "layout": "IPY_MODEL_3b424447d00a40ee9870e29fdcc25a7f",
            "placeholder": "​",
            "style": "IPY_MODEL_edc5222236e447b78ee68abfa097d307",
            "value": " 16/16 [00:00&lt;00:00, 261.54it/s]"
          }
        },
        "b212ddaf602c45fbbc91fd97049780ca": {
          "model_module": "@jupyter-widgets/base",
          "model_name": "LayoutModel",
          "model_module_version": "1.2.0",
          "state": {
            "_model_module": "@jupyter-widgets/base",
            "_model_module_version": "1.2.0",
            "_model_name": "LayoutModel",
            "_view_count": null,
            "_view_module": "@jupyter-widgets/base",
            "_view_module_version": "1.2.0",
            "_view_name": "LayoutView",
            "align_content": null,
            "align_items": null,
            "align_self": null,
            "border": null,
            "bottom": null,
            "display": null,
            "flex": null,
            "flex_flow": null,
            "grid_area": null,
            "grid_auto_columns": null,
            "grid_auto_flow": null,
            "grid_auto_rows": null,
            "grid_column": null,
            "grid_gap": null,
            "grid_row": null,
            "grid_template_areas": null,
            "grid_template_columns": null,
            "grid_template_rows": null,
            "height": null,
            "justify_content": null,
            "justify_items": null,
            "left": null,
            "margin": null,
            "max_height": null,
            "max_width": null,
            "min_height": null,
            "min_width": null,
            "object_fit": null,
            "object_position": null,
            "order": null,
            "overflow": null,
            "overflow_x": null,
            "overflow_y": null,
            "padding": null,
            "right": null,
            "top": null,
            "visibility": null,
            "width": null
          }
        },
        "9ee462d4e08648f0af112bafc14848cd": {
          "model_module": "@jupyter-widgets/base",
          "model_name": "LayoutModel",
          "model_module_version": "1.2.0",
          "state": {
            "_model_module": "@jupyter-widgets/base",
            "_model_module_version": "1.2.0",
            "_model_name": "LayoutModel",
            "_view_count": null,
            "_view_module": "@jupyter-widgets/base",
            "_view_module_version": "1.2.0",
            "_view_name": "LayoutView",
            "align_content": null,
            "align_items": null,
            "align_self": null,
            "border": null,
            "bottom": null,
            "display": null,
            "flex": null,
            "flex_flow": null,
            "grid_area": null,
            "grid_auto_columns": null,
            "grid_auto_flow": null,
            "grid_auto_rows": null,
            "grid_column": null,
            "grid_gap": null,
            "grid_row": null,
            "grid_template_areas": null,
            "grid_template_columns": null,
            "grid_template_rows": null,
            "height": null,
            "justify_content": null,
            "justify_items": null,
            "left": null,
            "margin": null,
            "max_height": null,
            "max_width": null,
            "min_height": null,
            "min_width": null,
            "object_fit": null,
            "object_position": null,
            "order": null,
            "overflow": null,
            "overflow_x": null,
            "overflow_y": null,
            "padding": null,
            "right": null,
            "top": null,
            "visibility": null,
            "width": null
          }
        },
        "b0e0dc8ee4824f8697bc07225659b855": {
          "model_module": "@jupyter-widgets/controls",
          "model_name": "DescriptionStyleModel",
          "model_module_version": "1.5.0",
          "state": {
            "_model_module": "@jupyter-widgets/controls",
            "_model_module_version": "1.5.0",
            "_model_name": "DescriptionStyleModel",
            "_view_count": null,
            "_view_module": "@jupyter-widgets/base",
            "_view_module_version": "1.2.0",
            "_view_name": "StyleView",
            "description_width": ""
          }
        },
        "6db2a3075dae45bd848c32575e40d04c": {
          "model_module": "@jupyter-widgets/base",
          "model_name": "LayoutModel",
          "model_module_version": "1.2.0",
          "state": {
            "_model_module": "@jupyter-widgets/base",
            "_model_module_version": "1.2.0",
            "_model_name": "LayoutModel",
            "_view_count": null,
            "_view_module": "@jupyter-widgets/base",
            "_view_module_version": "1.2.0",
            "_view_name": "LayoutView",
            "align_content": null,
            "align_items": null,
            "align_self": null,
            "border": null,
            "bottom": null,
            "display": null,
            "flex": null,
            "flex_flow": null,
            "grid_area": null,
            "grid_auto_columns": null,
            "grid_auto_flow": null,
            "grid_auto_rows": null,
            "grid_column": null,
            "grid_gap": null,
            "grid_row": null,
            "grid_template_areas": null,
            "grid_template_columns": null,
            "grid_template_rows": null,
            "height": null,
            "justify_content": null,
            "justify_items": null,
            "left": null,
            "margin": null,
            "max_height": null,
            "max_width": null,
            "min_height": null,
            "min_width": null,
            "object_fit": null,
            "object_position": null,
            "order": null,
            "overflow": null,
            "overflow_x": null,
            "overflow_y": null,
            "padding": null,
            "right": null,
            "top": null,
            "visibility": null,
            "width": null
          }
        },
        "87b8136515b94473b03adecbd4a07f0f": {
          "model_module": "@jupyter-widgets/controls",
          "model_name": "ProgressStyleModel",
          "model_module_version": "1.5.0",
          "state": {
            "_model_module": "@jupyter-widgets/controls",
            "_model_module_version": "1.5.0",
            "_model_name": "ProgressStyleModel",
            "_view_count": null,
            "_view_module": "@jupyter-widgets/base",
            "_view_module_version": "1.2.0",
            "_view_name": "StyleView",
            "bar_color": null,
            "description_width": ""
          }
        },
        "3b424447d00a40ee9870e29fdcc25a7f": {
          "model_module": "@jupyter-widgets/base",
          "model_name": "LayoutModel",
          "model_module_version": "1.2.0",
          "state": {
            "_model_module": "@jupyter-widgets/base",
            "_model_module_version": "1.2.0",
            "_model_name": "LayoutModel",
            "_view_count": null,
            "_view_module": "@jupyter-widgets/base",
            "_view_module_version": "1.2.0",
            "_view_name": "LayoutView",
            "align_content": null,
            "align_items": null,
            "align_self": null,
            "border": null,
            "bottom": null,
            "display": null,
            "flex": null,
            "flex_flow": null,
            "grid_area": null,
            "grid_auto_columns": null,
            "grid_auto_flow": null,
            "grid_auto_rows": null,
            "grid_column": null,
            "grid_gap": null,
            "grid_row": null,
            "grid_template_areas": null,
            "grid_template_columns": null,
            "grid_template_rows": null,
            "height": null,
            "justify_content": null,
            "justify_items": null,
            "left": null,
            "margin": null,
            "max_height": null,
            "max_width": null,
            "min_height": null,
            "min_width": null,
            "object_fit": null,
            "object_position": null,
            "order": null,
            "overflow": null,
            "overflow_x": null,
            "overflow_y": null,
            "padding": null,
            "right": null,
            "top": null,
            "visibility": null,
            "width": null
          }
        },
        "edc5222236e447b78ee68abfa097d307": {
          "model_module": "@jupyter-widgets/controls",
          "model_name": "DescriptionStyleModel",
          "model_module_version": "1.5.0",
          "state": {
            "_model_module": "@jupyter-widgets/controls",
            "_model_module_version": "1.5.0",
            "_model_name": "DescriptionStyleModel",
            "_view_count": null,
            "_view_module": "@jupyter-widgets/base",
            "_view_module_version": "1.2.0",
            "_view_name": "StyleView",
            "description_width": ""
          }
        },
        "86808bc0f6b04200ab2ebbc831d617cc": {
          "model_module": "@jupyter-widgets/controls",
          "model_name": "HBoxModel",
          "model_module_version": "1.5.0",
          "state": {
            "_dom_classes": [],
            "_model_module": "@jupyter-widgets/controls",
            "_model_module_version": "1.5.0",
            "_model_name": "HBoxModel",
            "_view_count": null,
            "_view_module": "@jupyter-widgets/controls",
            "_view_module_version": "1.5.0",
            "_view_name": "HBoxView",
            "box_style": "",
            "children": [
              "IPY_MODEL_44382e64b97c414687b64caece9c9d26",
              "IPY_MODEL_f5146b28c92645f78025778d570d410d",
              "IPY_MODEL_11639033802c42819be4378b5138ee86"
            ],
            "layout": "IPY_MODEL_f56f0f12a34a403e8bb81c6f950063a9"
          }
        },
        "44382e64b97c414687b64caece9c9d26": {
          "model_module": "@jupyter-widgets/controls",
          "model_name": "HTMLModel",
          "model_module_version": "1.5.0",
          "state": {
            "_dom_classes": [],
            "_model_module": "@jupyter-widgets/controls",
            "_model_module_version": "1.5.0",
            "_model_name": "HTMLModel",
            "_view_count": null,
            "_view_module": "@jupyter-widgets/controls",
            "_view_module_version": "1.5.0",
            "_view_name": "HTMLView",
            "description": "",
            "description_tooltip": null,
            "layout": "IPY_MODEL_6438fa459e434df9bdcc69f382ea0a48",
            "placeholder": "​",
            "style": "IPY_MODEL_23c1821d96f642d6b01f4257c2d25e8a",
            "value": "100%"
          }
        },
        "f5146b28c92645f78025778d570d410d": {
          "model_module": "@jupyter-widgets/controls",
          "model_name": "FloatProgressModel",
          "model_module_version": "1.5.0",
          "state": {
            "_dom_classes": [],
            "_model_module": "@jupyter-widgets/controls",
            "_model_module_version": "1.5.0",
            "_model_name": "FloatProgressModel",
            "_view_count": null,
            "_view_module": "@jupyter-widgets/controls",
            "_view_module_version": "1.5.0",
            "_view_name": "ProgressView",
            "bar_style": "success",
            "description": "",
            "description_tooltip": null,
            "layout": "IPY_MODEL_6f34527068dd42f8ac022f6e9ca3357e",
            "max": 1,
            "min": 0,
            "orientation": "horizontal",
            "style": "IPY_MODEL_3dc1a054111649cc9244c473bfcc390e",
            "value": 1
          }
        },
        "11639033802c42819be4378b5138ee86": {
          "model_module": "@jupyter-widgets/controls",
          "model_name": "HTMLModel",
          "model_module_version": "1.5.0",
          "state": {
            "_dom_classes": [],
            "_model_module": "@jupyter-widgets/controls",
            "_model_module_version": "1.5.0",
            "_model_name": "HTMLModel",
            "_view_count": null,
            "_view_module": "@jupyter-widgets/controls",
            "_view_module_version": "1.5.0",
            "_view_name": "HTMLView",
            "description": "",
            "description_tooltip": null,
            "layout": "IPY_MODEL_dadc095e48b845ce94e82700cf993b77",
            "placeholder": "​",
            "style": "IPY_MODEL_6098dcf6002e422bb475e15930e79689",
            "value": " 1/1 [00:00&lt;00:00, 37.78it/s]"
          }
        },
        "f56f0f12a34a403e8bb81c6f950063a9": {
          "model_module": "@jupyter-widgets/base",
          "model_name": "LayoutModel",
          "model_module_version": "1.2.0",
          "state": {
            "_model_module": "@jupyter-widgets/base",
            "_model_module_version": "1.2.0",
            "_model_name": "LayoutModel",
            "_view_count": null,
            "_view_module": "@jupyter-widgets/base",
            "_view_module_version": "1.2.0",
            "_view_name": "LayoutView",
            "align_content": null,
            "align_items": null,
            "align_self": null,
            "border": null,
            "bottom": null,
            "display": null,
            "flex": null,
            "flex_flow": null,
            "grid_area": null,
            "grid_auto_columns": null,
            "grid_auto_flow": null,
            "grid_auto_rows": null,
            "grid_column": null,
            "grid_gap": null,
            "grid_row": null,
            "grid_template_areas": null,
            "grid_template_columns": null,
            "grid_template_rows": null,
            "height": null,
            "justify_content": null,
            "justify_items": null,
            "left": null,
            "margin": null,
            "max_height": null,
            "max_width": null,
            "min_height": null,
            "min_width": null,
            "object_fit": null,
            "object_position": null,
            "order": null,
            "overflow": null,
            "overflow_x": null,
            "overflow_y": null,
            "padding": null,
            "right": null,
            "top": null,
            "visibility": null,
            "width": null
          }
        },
        "6438fa459e434df9bdcc69f382ea0a48": {
          "model_module": "@jupyter-widgets/base",
          "model_name": "LayoutModel",
          "model_module_version": "1.2.0",
          "state": {
            "_model_module": "@jupyter-widgets/base",
            "_model_module_version": "1.2.0",
            "_model_name": "LayoutModel",
            "_view_count": null,
            "_view_module": "@jupyter-widgets/base",
            "_view_module_version": "1.2.0",
            "_view_name": "LayoutView",
            "align_content": null,
            "align_items": null,
            "align_self": null,
            "border": null,
            "bottom": null,
            "display": null,
            "flex": null,
            "flex_flow": null,
            "grid_area": null,
            "grid_auto_columns": null,
            "grid_auto_flow": null,
            "grid_auto_rows": null,
            "grid_column": null,
            "grid_gap": null,
            "grid_row": null,
            "grid_template_areas": null,
            "grid_template_columns": null,
            "grid_template_rows": null,
            "height": null,
            "justify_content": null,
            "justify_items": null,
            "left": null,
            "margin": null,
            "max_height": null,
            "max_width": null,
            "min_height": null,
            "min_width": null,
            "object_fit": null,
            "object_position": null,
            "order": null,
            "overflow": null,
            "overflow_x": null,
            "overflow_y": null,
            "padding": null,
            "right": null,
            "top": null,
            "visibility": null,
            "width": null
          }
        },
        "23c1821d96f642d6b01f4257c2d25e8a": {
          "model_module": "@jupyter-widgets/controls",
          "model_name": "DescriptionStyleModel",
          "model_module_version": "1.5.0",
          "state": {
            "_model_module": "@jupyter-widgets/controls",
            "_model_module_version": "1.5.0",
            "_model_name": "DescriptionStyleModel",
            "_view_count": null,
            "_view_module": "@jupyter-widgets/base",
            "_view_module_version": "1.2.0",
            "_view_name": "StyleView",
            "description_width": ""
          }
        },
        "6f34527068dd42f8ac022f6e9ca3357e": {
          "model_module": "@jupyter-widgets/base",
          "model_name": "LayoutModel",
          "model_module_version": "1.2.0",
          "state": {
            "_model_module": "@jupyter-widgets/base",
            "_model_module_version": "1.2.0",
            "_model_name": "LayoutModel",
            "_view_count": null,
            "_view_module": "@jupyter-widgets/base",
            "_view_module_version": "1.2.0",
            "_view_name": "LayoutView",
            "align_content": null,
            "align_items": null,
            "align_self": null,
            "border": null,
            "bottom": null,
            "display": null,
            "flex": null,
            "flex_flow": null,
            "grid_area": null,
            "grid_auto_columns": null,
            "grid_auto_flow": null,
            "grid_auto_rows": null,
            "grid_column": null,
            "grid_gap": null,
            "grid_row": null,
            "grid_template_areas": null,
            "grid_template_columns": null,
            "grid_template_rows": null,
            "height": null,
            "justify_content": null,
            "justify_items": null,
            "left": null,
            "margin": null,
            "max_height": null,
            "max_width": null,
            "min_height": null,
            "min_width": null,
            "object_fit": null,
            "object_position": null,
            "order": null,
            "overflow": null,
            "overflow_x": null,
            "overflow_y": null,
            "padding": null,
            "right": null,
            "top": null,
            "visibility": null,
            "width": null
          }
        },
        "3dc1a054111649cc9244c473bfcc390e": {
          "model_module": "@jupyter-widgets/controls",
          "model_name": "ProgressStyleModel",
          "model_module_version": "1.5.0",
          "state": {
            "_model_module": "@jupyter-widgets/controls",
            "_model_module_version": "1.5.0",
            "_model_name": "ProgressStyleModel",
            "_view_count": null,
            "_view_module": "@jupyter-widgets/base",
            "_view_module_version": "1.2.0",
            "_view_name": "StyleView",
            "bar_color": null,
            "description_width": ""
          }
        },
        "dadc095e48b845ce94e82700cf993b77": {
          "model_module": "@jupyter-widgets/base",
          "model_name": "LayoutModel",
          "model_module_version": "1.2.0",
          "state": {
            "_model_module": "@jupyter-widgets/base",
            "_model_module_version": "1.2.0",
            "_model_name": "LayoutModel",
            "_view_count": null,
            "_view_module": "@jupyter-widgets/base",
            "_view_module_version": "1.2.0",
            "_view_name": "LayoutView",
            "align_content": null,
            "align_items": null,
            "align_self": null,
            "border": null,
            "bottom": null,
            "display": null,
            "flex": null,
            "flex_flow": null,
            "grid_area": null,
            "grid_auto_columns": null,
            "grid_auto_flow": null,
            "grid_auto_rows": null,
            "grid_column": null,
            "grid_gap": null,
            "grid_row": null,
            "grid_template_areas": null,
            "grid_template_columns": null,
            "grid_template_rows": null,
            "height": null,
            "justify_content": null,
            "justify_items": null,
            "left": null,
            "margin": null,
            "max_height": null,
            "max_width": null,
            "min_height": null,
            "min_width": null,
            "object_fit": null,
            "object_position": null,
            "order": null,
            "overflow": null,
            "overflow_x": null,
            "overflow_y": null,
            "padding": null,
            "right": null,
            "top": null,
            "visibility": null,
            "width": null
          }
        },
        "6098dcf6002e422bb475e15930e79689": {
          "model_module": "@jupyter-widgets/controls",
          "model_name": "DescriptionStyleModel",
          "model_module_version": "1.5.0",
          "state": {
            "_model_module": "@jupyter-widgets/controls",
            "_model_module_version": "1.5.0",
            "_model_name": "DescriptionStyleModel",
            "_view_count": null,
            "_view_module": "@jupyter-widgets/base",
            "_view_module_version": "1.2.0",
            "_view_name": "StyleView",
            "description_width": ""
          }
        }
      }
    }
  },
  "cells": [
    {
      "cell_type": "markdown",
      "metadata": {
        "id": "view-in-github",
        "colab_type": "text"
      },
      "source": [
        "<a href=\"https://colab.research.google.com/github/Anchaliya75/Brain-Computer-Interface/blob/main/testA7e_visualisation.ipynb\" target=\"_parent\"><img src=\"https://colab.research.google.com/assets/colab-badge.svg\" alt=\"Open In Colab\"/></a>"
      ]
    },
    {
      "cell_type": "code",
      "source": [
        "!pip install torchinfo"
      ],
      "metadata": {
        "id": "DB7q97c2m0LS",
        "outputId": "177a26a9-ba37-4b62-856e-ef026f2a99b3",
        "colab": {
          "base_uri": "https://localhost:8080/"
        }
      },
      "execution_count": 68,
      "outputs": [
        {
          "output_type": "stream",
          "name": "stdout",
          "text": [
            "Looking in indexes: https://pypi.org/simple, https://us-python.pkg.dev/colab-wheels/public/simple/\n",
            "Collecting torchinfo\n",
            "  Downloading torchinfo-1.7.1-py3-none-any.whl (22 kB)\n",
            "Installing collected packages: torchinfo\n",
            "Successfully installed torchinfo-1.7.1\n"
          ]
        }
      ]
    },
    {
      "cell_type": "code",
      "execution_count": 90,
      "metadata": {
        "id": "eqfLnRtmf6ZW"
      },
      "outputs": [],
      "source": [
        "import pandas as pd\n",
        "import numpy as np\n",
        "import matplotlib.pyplot as plt\n",
        "from tqdm.notebook import tqdm\n",
        "import torch\n",
        "import torch.nn.functional as F\n",
        "import torch.nn as nn\n",
        "import torch.optim as optim\n",
        "from torch.utils.data import DataLoader as dl\n",
        "import matplotlib.pyplot as plt\n",
        "from torchinfo import summary\n"
      ]
    },
    {
      "cell_type": "code",
      "source": [
        "from scipy.io import loadmat\n",
        "matfile  =\"/content/drive/MyDrive/BCI Competition IV 2a dataset/BCI/A01T.mat\"\n",
        "matfile2 =\"/content/drive/MyDrive/BCI Competition IV 2a dataset/BCI/A02T.mat\"\n",
        "matfile3= \"/content/drive/MyDrive/BCI Competition IV 2a dataset/BCI/A03T.mat\"\n",
        "matfile4 = \"/content/drive/MyDrive/BCI Competition IV 2a dataset/BCI/A04T.mat\"\n",
        "matfile5 = \"/content/drive/MyDrive/BCI Competition IV 2a dataset/BCI/A05T.mat\"\n",
        "matfile6= \"/content/drive/MyDrive/BCI Competition IV 2a dataset/BCI/A06T.mat\"\n",
        "matfile7 = \"/content/drive/MyDrive/BCI Competition IV 2a dataset/BCI/A07T.mat\"\n",
        "matfile8 =\"/content/drive/MyDrive/BCI Competition IV 2a dataset/BCI/A08T.mat\"\n",
        "matfile9 = \"/content/drive/MyDrive/BCI Competition IV 2a dataset/BCI/A09T.mat\"\n",
        "matfilee1=\"/content/drive/MyDrive/BCI Competition IV 2a dataset/BCI/A01E.mat\"\n",
        "matfilee2= \"/content/drive/MyDrive/BCI Competition IV 2a dataset/BCI/A02E.mat\"\n",
        "matfilee3=\"/content/drive/MyDrive/BCI Competition IV 2a dataset/BCI/A03E.mat\"\n",
        "matfilee4=\"/content/drive/MyDrive/BCI Competition IV 2a dataset/BCI/A04E.mat\"\n",
        "matfilee5=\"/content/drive/MyDrive/BCI Competition IV 2a dataset/BCI/A05E.mat\"\n",
        "matfilee6=\"/content/drive/MyDrive/BCI Competition IV 2a dataset/BCI/A06E.mat\"\n",
        "matfilee7=\"/content/drive/MyDrive/BCI Competition IV 2a dataset/BCI/A07E.mat\"\n",
        "matfilee8=\"/content/drive/MyDrive/BCI Competition IV 2a dataset/BCI/A08E.mat\"\n",
        "matfilee9=\"/content/drive/MyDrive/BCI Competition IV 2a dataset/BCI/A09T.mat\"\n",
        "data1 = loadmat(matfile)['data']\n",
        "data2 = loadmat(matfile2)['data']\n",
        "data3 = loadmat(matfile3)['data']\n",
        "data4 = loadmat(matfile4)['data']\n",
        "data5 = loadmat(matfile5)['data']\n",
        "data6 = loadmat(matfile6)['data']\n",
        "data7 = loadmat(matfile7)['data']\n",
        "data8 = loadmat(matfile8)['data']\n",
        "data9 = loadmat(matfile9)['data']\n",
        "data1e= loadmat(matfilee1)['data']\n",
        "data2e= loadmat(matfilee2)['data']\n",
        "data3e= loadmat(matfilee3)['data']\n",
        "data4e= loadmat(matfilee4)['data']\n",
        "data5e= loadmat(matfilee5)['data']\n",
        "data6e= loadmat(matfilee6)['data']\n",
        "data7e= loadmat(matfilee7)['data']\n",
        "data8e= loadmat(matfilee8)['data']\n",
        "data9e= loadmat(matfilee9)['data']\n",
        "\n",
        "\n",
        "#Removing data3e due to smaller data-interval\n",
        "\n",
        "# all_data = [data1,data2,data3,data4,data5,data6,data7,data8,data9]\n",
        "# all_data_test =[data1e,data2e,data3e,data4e,data5e,data6e,data7e,data8e,data9e]\n",
        "all_data  = [data1,data2,data3,data4,data5,data6,data7,data8,data9,data1e,data2e,data3e,data5e,data6e,data8e,data9e]\n",
        "all_data_test = [data7e]\n",
        "# Doing Cross Validation on all"
      ],
      "metadata": {
        "id": "n-ga7QcngP0Y"
      },
      "execution_count": 91,
      "outputs": []
    },
    {
      "cell_type": "code",
      "source": [
        "batch_size=288"
      ],
      "metadata": {
        "id": "Kcxe_k6_PcKZ"
      },
      "execution_count": 92,
      "outputs": []
    },
    {
      "cell_type": "code",
      "source": [
        "def sampling(x):\n",
        "  mini =1e9\n",
        "  ma=0\n",
        "  for  i in range(len(x)):\n",
        "        mini =min(mini,x[i].shape[0])\n",
        "        x_updated=[]\n",
        "  for i  in range(len(x)):\n",
        "        x_a = x[i][:mini-5]\n",
        "        x_updated.append(x_a)\n",
        "     \n",
        "  return x_updated\n",
        "\n",
        "\n"
      ],
      "metadata": {
        "id": "rnu7imVEwxEX"
      },
      "execution_count": 93,
      "outputs": []
    },
    {
      "cell_type": "code",
      "source": [
        "def converting_mat_to_tensors(all_data,x,y):\n",
        "  subjects  = len(all_data)\n",
        "  for  a  in tqdm(range(subjects)):\n",
        "      data = all_data[a]\n",
        "      \n",
        "      if(a==3):\n",
        "        \n",
        "        \n",
        "        for i in range(1,7):\n",
        "          samples = data[0,i][0,0][1]\n",
        "          n =len(samples)\n",
        "          prev= data[0,i][0,0][1][0][0]\n",
        "          for j in range(1,n):\n",
        "            take  = data[0,i][0,0][1][j][0]\n",
        "            x.append(data[0,i][0,0][0][prev:take,0:22])\n",
        "            y.append(data[0,i][0,0][2][j-1][0])\n",
        "            prev = take\n",
        "          x.append(data[0,i][0,0][0][prev:,0:22]) \n",
        "          y.append(data[0,i][0,0][2][j][0])\n",
        "\n",
        "      else:\n",
        "        \n",
        "        for i in range(3,9):\n",
        "          samples = data[0,i][0,0][1]\n",
        "          n =len(samples)\n",
        "          prev= data[0,i][0,0][1][0][0]\n",
        "          for j in range(1,n):\n",
        "            take  = data[0,i][0,0][1][j][0]\n",
        "            x.append(data[0,i][0,0][0][prev:take,0:22])\n",
        "            y.append(data[0,i][0,0][2][j-1][0])\n",
        "            prev = take\n",
        "          x.append(data[0,i][0,0][0][prev:,0:22]) \n",
        "          y.append(data[0,i][0,0][2][j][0])\n",
        "  a=sampling(x)\n",
        "  a=torch.tensor(a)\n",
        "  dim1=a.shape[0]\n",
        "  dim2=a.shape[1]\n",
        "  dim3=a.shape[2]\n",
        "  a=a.reshape(dim1,1,dim2,dim3)\n",
        "  return a,torch.tensor(y)\n",
        "  \n",
        "  \n",
        "  \n"
      ],
      "metadata": {
        "id": "Es-TCuLxs40A"
      },
      "execution_count": 94,
      "outputs": []
    },
    {
      "cell_type": "code",
      "source": [
        "def converting_mat_to_tensors_test(all_data,x,y):\n",
        "  subjects  = len(all_data)\n",
        "  for  a  in tqdm(range(subjects)):\n",
        "      data = all_data[a]\n",
        "      \n",
        "      if(a==3):\n",
        "        \n",
        "        for i in range(3,9):\n",
        "          samples = data[0,i][0,0][1]\n",
        "          n =len(samples)\n",
        "          prev= data[0,i][0,0][1][0][0]\n",
        "          for j in range(1,n):\n",
        "            take  = data[0,i][0,0][1][j][0]\n",
        "            x.append(data[0,i][0,0][0][prev:take,0:22])\n",
        "            y.append(data[0,i][0,0][2][j-1][0])\n",
        "            prev = take\n",
        "          x.append(data[0,i][0,0][0][prev:,0:22]) \n",
        "          y.append(data[0,i][0,0][2][j][0])\n",
        "\n",
        "      else:\n",
        "        \n",
        "        for i in range(3,9):\n",
        "          samples = data[0,i][0,0][1]\n",
        "          n =len(samples)\n",
        "          prev= data[0,i][0,0][1][0][0]\n",
        "          for j in range(1,n):\n",
        "            take  = data[0,i][0,0][1][j][0]\n",
        "            x.append(data[0,i][0,0][0][prev:take,0:22])\n",
        "            y.append(data[0,i][0,0][2][j-1][0])\n",
        "            prev = take\n",
        "          x.append(data[0,i][0,0][0][prev:,0:22]) \n",
        "          y.append(data[0,i][0,0][2][j][0])\n",
        "  a=sampling(x)\n",
        "  a=torch.tensor(a)\n",
        "  dim1=a.shape[0]\n",
        "  dim2=a.shape[1]\n",
        "  dim3=a.shape[2]\n",
        "  a=a.reshape(dim1,1,dim2,dim3)\n",
        "  return a,torch.tensor(y)\n",
        "  \n",
        "  \n",
        "  \n"
      ],
      "metadata": {
        "id": "jQ7FnfW8n9CM"
      },
      "execution_count": 95,
      "outputs": []
    },
    {
      "cell_type": "code",
      "source": [
        "def preperation_for_dataloader(x,y):\n",
        "  array=[]\n",
        "  for i in range(len(y)):\n",
        "    array.append((x[i],y[i]))\n",
        "  return array\n"
      ],
      "metadata": {
        "id": "FTotkCB839Tc"
      },
      "execution_count": 96,
      "outputs": []
    },
    {
      "cell_type": "code",
      "source": [
        "x,y=converting_mat_to_tensors(all_data,[],[])\n"
      ],
      "metadata": {
        "colab": {
          "base_uri": "https://localhost:8080/",
          "height": 49,
          "referenced_widgets": [
            "2cd3910cc2e24fb7b68c21539c80142d",
            "199dd599d03044908c51ef0d1912614f",
            "bdca0623aa424fd29d72ad7eac02dacc",
            "5e78c708f19e49dfacdb0c81d51618d2",
            "b212ddaf602c45fbbc91fd97049780ca",
            "9ee462d4e08648f0af112bafc14848cd",
            "b0e0dc8ee4824f8697bc07225659b855",
            "6db2a3075dae45bd848c32575e40d04c",
            "87b8136515b94473b03adecbd4a07f0f",
            "3b424447d00a40ee9870e29fdcc25a7f",
            "edc5222236e447b78ee68abfa097d307"
          ]
        },
        "id": "3uk3pLnWto8j",
        "outputId": "c9f43a92-a631-4629-c656-7f73be1d40f5"
      },
      "execution_count": 97,
      "outputs": [
        {
          "output_type": "display_data",
          "data": {
            "text/plain": [
              "  0%|          | 0/16 [00:00<?, ?it/s]"
            ],
            "application/vnd.jupyter.widget-view+json": {
              "version_major": 2,
              "version_minor": 0,
              "model_id": "2cd3910cc2e24fb7b68c21539c80142d"
            }
          },
          "metadata": {}
        }
      ]
    },
    {
      "cell_type": "code",
      "source": [
        "x.shape"
      ],
      "metadata": {
        "id": "Xo2naFniiysE",
        "outputId": "79a2552f-e46b-498c-c663-fd319505c815",
        "colab": {
          "base_uri": "https://localhost:8080/"
        }
      },
      "execution_count": 98,
      "outputs": [
        {
          "output_type": "execute_result",
          "data": {
            "text/plain": [
              "torch.Size([4608, 1, 1890, 22])"
            ]
          },
          "metadata": {},
          "execution_count": 98
        }
      ]
    },
    {
      "cell_type": "code",
      "source": [
        "data_loader_prep = preperation_for_dataloader(x,y)\n"
      ],
      "metadata": {
        "id": "XmtQp4xZ4vuc"
      },
      "execution_count": 99,
      "outputs": []
    },
    {
      "cell_type": "code",
      "source": [
        "# (a,b)=data_loader_prep[0]\n",
        "# print(a.size())"
      ],
      "metadata": {
        "id": "yfHOiHAFQ2UT"
      },
      "execution_count": null,
      "outputs": []
    },
    {
      "cell_type": "code",
      "source": [
        "train_batch = dl(data_loader_prep ,batch_size=288)"
      ],
      "metadata": {
        "id": "072Gm6Kl7t0C"
      },
      "execution_count": 100,
      "outputs": []
    },
    {
      "cell_type": "code",
      "source": [
        "for idx,(a,b) in enumerate(train_batch):\n",
        "  print(a.shape)\n",
        "  print(b.shape)\n",
        "  break"
      ],
      "metadata": {
        "colab": {
          "base_uri": "https://localhost:8080/"
        },
        "id": "BReHxvBo8RyB",
        "outputId": "83236e13-bb66-480c-ff92-83ee53204080"
      },
      "execution_count": 101,
      "outputs": [
        {
          "output_type": "stream",
          "name": "stdout",
          "text": [
            "torch.Size([288, 1, 1890, 22])\n",
            "torch.Size([288])\n"
          ]
        }
      ]
    },
    {
      "cell_type": "code",
      "source": [
        "class BCI(nn.Module):\n",
        "  def __init__(self):\n",
        "    super().__init__()\n",
        "    self.conv1=nn.Conv2d(in_channels=1 ,out_channels=3,kernel_size=3 ,padding =1)\n",
        "    self.maxpool =nn.MaxPool2d(2)\n",
        "    self.linear1 = nn.Linear(945*11*3,500)\n",
        "    self.linear2=nn.Linear(500,125)\n",
        "    self.linear3=nn.Linear(125,5)\n",
        "  def forward(self,input_data):\n",
        "    # print(input_data.shape)\n",
        "    x= self.conv1(input_data)\n",
        "    # print(x.shape)\n",
        "    x= self.maxpool(x)\n",
        "    # print(x.shape)\n",
        "    x=x.reshape(288,-1)\n",
        "    x= F.relu(self.linear1(x))\n",
        "    x=F.relu(self.linear2(x))\n",
        "    x=self.linear3(x)\n",
        "    return x\n",
        "\n"
      ],
      "metadata": {
        "id": "9ZG3H1q5Ichs"
      },
      "execution_count": 105,
      "outputs": []
    },
    {
      "cell_type": "code",
      "source": [
        "brain = BCI()\n",
        "lossfunction  =nn.CrossEntropyLoss()\n",
        "optimizer = optim.Adam(brain.parameters(),lr =0.001)"
      ],
      "metadata": {
        "id": "5eg74huYFrLo"
      },
      "execution_count": 106,
      "outputs": []
    },
    {
      "cell_type": "code",
      "source": [
        "summary(brain,(288,1,1890,22))"
      ],
      "metadata": {
        "colab": {
          "base_uri": "https://localhost:8080/"
        },
        "id": "0Nezu4uDn3WQ",
        "outputId": "649e5dc8-cfd3-4dab-8ea0-26257b963da5"
      },
      "execution_count": 107,
      "outputs": [
        {
          "output_type": "execute_result",
          "data": {
            "text/plain": [
              "==========================================================================================\n",
              "Layer (type:depth-idx)                   Output Shape              Param #\n",
              "==========================================================================================\n",
              "BCI                                      [288, 5]                  --\n",
              "├─Conv2d: 1-1                            [288, 3, 1890, 22]        30\n",
              "├─MaxPool2d: 1-2                         [288, 3, 945, 11]         --\n",
              "├─Linear: 1-3                            [288, 500]                15,593,000\n",
              "├─Linear: 1-4                            [288, 125]                62,625\n",
              "├─Linear: 1-5                            [288, 5]                  630\n",
              "==========================================================================================\n",
              "Total params: 15,656,285\n",
              "Trainable params: 15,656,285\n",
              "Non-trainable params: 0\n",
              "Total mult-adds (G): 4.87\n",
              "==========================================================================================\n",
              "Input size (MB): 47.90\n",
              "Forward/backward pass size (MB): 288.85\n",
              "Params size (MB): 62.63\n",
              "Estimated Total Size (MB): 399.38\n",
              "=========================================================================================="
            ]
          },
          "metadata": {},
          "execution_count": 107
        }
      ]
    },
    {
      "cell_type": "code",
      "source": [
        "loss_array=[]\n",
        "epochs_array=[]\n",
        "epochs = 15\n",
        "for i in range(epochs):\n",
        "    epochs_array.append(i+1)\n",
        "\n",
        "for  i in range(epochs):\n",
        "  one_epoch_loss =0\n",
        "  cnt =0\n",
        "  for idx,(x_train,y_train) in enumerate(train_batch):\n",
        "    # print(x_train.size())\n",
        "    cnt+=1\n",
        "    brain.zero_grad()\n",
        "    prediction =brain.forward(x_train.float())\n",
        "    loss=lossfunction(prediction,y_train)\n",
        "    h=loss\n",
        "    one_epoch_loss += float(h.item())\n",
        "    loss.backward()\n",
        "    optimizer.step()\n",
        "  one_epoch_loss = one_epoch_loss/cnt\n",
        "  loss_array.append(one_epoch_loss)\n",
        "  \n",
        "\n",
        "    \n",
        "\n"
      ],
      "metadata": {
        "id": "tQ4pD__iYn7B"
      },
      "execution_count": 122,
      "outputs": []
    },
    {
      "cell_type": "code",
      "source": [
        "\n",
        "loss_array"
      ],
      "metadata": {
        "id": "ZshqN1Dnzd2Q",
        "outputId": "7b9ef77e-0762-4e01-aba7-5a5c3d7e5676",
        "colab": {
          "base_uri": "https://localhost:8080/"
        }
      },
      "execution_count": 123,
      "outputs": [
        {
          "output_type": "execute_result",
          "data": {
            "text/plain": [
              "[1.289158396422863,\n",
              " 1.1282379105687141,\n",
              " 1.0688595660030842,\n",
              " 1.0504818744957447,\n",
              " 0.9543762877583504,\n",
              " 0.9639383517205715,\n",
              " 1.0030908472836018,\n",
              " 0.8721279744058847,\n",
              " 0.7909681554883718,\n",
              " 0.7209124360233545,\n",
              " 0.6427460052073002,\n",
              " 0.5990016320720315,\n",
              " 0.49526112526655197,\n",
              " 0.4830149323679507,\n",
              " 0.48573050322011113]"
            ]
          },
          "metadata": {},
          "execution_count": 123
        }
      ]
    },
    {
      "cell_type": "code",
      "source": [
        "epochs_array"
      ],
      "metadata": {
        "id": "CizRH8Erub3w",
        "outputId": "8471b69a-8146-4555-df78-90644ac3be21",
        "colab": {
          "base_uri": "https://localhost:8080/"
        }
      },
      "execution_count": 125,
      "outputs": [
        {
          "output_type": "execute_result",
          "data": {
            "text/plain": [
              "[1, 2, 3, 4, 5, 6, 7, 8, 9, 10, 11, 12, 13, 14, 15]"
            ]
          },
          "metadata": {},
          "execution_count": 125
        }
      ]
    },
    {
      "cell_type": "code",
      "source": [
        "plt.plot(epochs_array, loss_array)\n",
        "# plt.figure(figsize=(16,9))\n",
        "plt.xlabel('Epoch')\n",
        "plt.ylabel('Loss')\n",
        "plt.title('Epoch vs Loss')\n",
        "plt.show()"
      ],
      "metadata": {
        "id": "Z6NpjvNQIQsM",
        "outputId": "88908836-5f27-4840-fea1-f55a2ae0f1cf",
        "colab": {
          "base_uri": "https://localhost:8080/",
          "height": 295
        }
      },
      "execution_count": 128,
      "outputs": [
        {
          "output_type": "display_data",
          "data": {
            "text/plain": [
              "<Figure size 432x288 with 1 Axes>"
            ],
            "image/png": "[encoded data removed]"
          },
          "metadata": {
            "needs_background": "light"
          }
        }
      ]
    },
    {
      "cell_type": "code",
      "source": [
        "x_test,y_test = converting_mat_to_tensors_test(all_data_test,[],[])"
      ],
      "metadata": {
        "colab": {
          "base_uri": "https://localhost:8080/",
          "height": 49,
          "referenced_widgets": [
            "86808bc0f6b04200ab2ebbc831d617cc",
            "44382e64b97c414687b64caece9c9d26",
            "f5146b28c92645f78025778d570d410d",
            "11639033802c42819be4378b5138ee86",
            "f56f0f12a34a403e8bb81c6f950063a9",
            "6438fa459e434df9bdcc69f382ea0a48",
            "23c1821d96f642d6b01f4257c2d25e8a",
            "6f34527068dd42f8ac022f6e9ca3357e",
            "3dc1a054111649cc9244c473bfcc390e",
            "dadc095e48b845ce94e82700cf993b77",
            "6098dcf6002e422bb475e15930e79689"
          ]
        },
        "id": "aOcxDZy0hKVJ",
        "outputId": "f098a3d2-289c-4592-e3c0-fbc6a7d81f0f"
      },
      "execution_count": 129,
      "outputs": [
        {
          "output_type": "display_data",
          "data": {
            "text/plain": [
              "  0%|          | 0/1 [00:00<?, ?it/s]"
            ],
            "application/vnd.jupyter.widget-view+json": {
              "version_major": 2,
              "version_minor": 0,
              "model_id": "86808bc0f6b04200ab2ebbc831d617cc"
            }
          },
          "metadata": {}
        }
      ]
    },
    {
      "cell_type": "code",
      "source": [
        "data_loader_prep_test = preperation_for_dataloader(x_test,y_test)\n"
      ],
      "metadata": {
        "id": "j8_2XiPiqZQI"
      },
      "execution_count": 130,
      "outputs": []
    },
    {
      "cell_type": "code",
      "source": [
        "test_batch = dl(data_loader_prep_test ,batch_size=288)"
      ],
      "metadata": {
        "id": "X8jPh7ptqp9D"
      },
      "execution_count": 131,
      "outputs": []
    },
    {
      "cell_type": "code",
      "source": [
        "correct_train =0\n",
        "total_train =0\n",
        "with torch.no_grad():\n",
        "  for idx,(x_train,y_train) in enumerate(train_batch):\n",
        "    prediction = brain.forward(x_train.float())\n",
        "    \n",
        "    for idx,predicted_probability in enumerate(prediction):\n",
        "      if(torch.argmax(predicted_probability)==y_train[idx]):\n",
        "        correct_train+=1\n",
        "      total_train+=1\n"
      ],
      "metadata": {
        "id": "AM8KYvT-b4b1"
      },
      "execution_count": 132,
      "outputs": []
    },
    {
      "cell_type": "code",
      "source": [
        "print(correct_train)"
      ],
      "metadata": {
        "colab": {
          "base_uri": "https://localhost:8080/"
        },
        "id": "ZlzGp-qXdUu3",
        "outputId": "1f03006d-6e8b-4c2e-b88b-f44d448dc85a"
      },
      "execution_count": 133,
      "outputs": [
        {
          "output_type": "stream",
          "name": "stdout",
          "text": [
            "3914\n"
          ]
        }
      ]
    },
    {
      "cell_type": "code",
      "source": [
        "print(total_train)"
      ],
      "metadata": {
        "colab": {
          "base_uri": "https://localhost:8080/"
        },
        "id": "ueQevJCBdX5k",
        "outputId": "89763779-8a31-45e1-9cca-5c806e582c44"
      },
      "execution_count": 134,
      "outputs": [
        {
          "output_type": "stream",
          "name": "stdout",
          "text": [
            "4608\n"
          ]
        }
      ]
    },
    {
      "cell_type": "code",
      "source": [
        "print(\"Training accuracy is\",correct_train/total_train)"
      ],
      "metadata": {
        "colab": {
          "base_uri": "https://localhost:8080/"
        },
        "id": "OJYkZdE-z1Bw",
        "outputId": "ff7b61a9-d901-4e6d-c7e0-ed6996891a1d"
      },
      "execution_count": 135,
      "outputs": [
        {
          "output_type": "stream",
          "name": "stdout",
          "text": [
            "Training accuracy is 0.8493923611111112\n"
          ]
        }
      ]
    },
    {
      "cell_type": "code",
      "source": [
        "def make_plot(y):\n",
        "  n=len(y)\n",
        "  y=np.array(y)\n",
        "\n",
        "  x=[]\n",
        "  for i in range(n):\n",
        "    x.append(i+1)\n",
        "  x=np.array(x)\n",
        "  plt.plot(x,y,x_label=\"no_of_epochs\",y_label=\"training_loss\")\n",
        "  \n"
      ],
      "metadata": {
        "id": "t4BIMC-l0PIH"
      },
      "execution_count": null,
      "outputs": []
    },
    {
      "cell_type": "code",
      "source": [
        "correct =0\n",
        "total =0\n",
        "with torch.no_grad():\n",
        "  for idx,(x_test,y_test) in enumerate(test_batch):\n",
        "    prediction = brain.forward(x_test.float())\n",
        "    \n",
        "    for idx,predicted_probability in enumerate(prediction):\n",
        "      if(torch.argmax(predicted_probability)==y_test[idx]):\n",
        "        correct+=1\n",
        "      total+=1\n"
      ],
      "metadata": {
        "id": "jBwewPJZeFlQ"
      },
      "execution_count": 136,
      "outputs": []
    },
    {
      "cell_type": "code",
      "source": [
        "\n",
        "print(\"Test accuracy is\",correct/total)"
      ],
      "metadata": {
        "colab": {
          "base_uri": "https://localhost:8080/"
        },
        "id": "9Mknr4J4rIUg",
        "outputId": "af9ffb57-8e2b-42d7-bb27-fc0ba415764a"
      },
      "execution_count": 137,
      "outputs": [
        {
          "output_type": "stream",
          "name": "stdout",
          "text": [
            "Test accuracy is 0.3888888888888889\n"
          ]
        }
      ]
    },
    {
      "cell_type": "code",
      "source": [],
      "metadata": {
        "id": "gAwu9M482O_b"
      },
      "execution_count": null,
      "outputs": []
    }
  ]
}