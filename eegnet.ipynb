{
 "cells": [
  {
   "cell_type": "code",
   "execution_count": 1,
   "id": "afad0e96",
   "metadata": {
    "_cell_guid": "b1076dfc-b9ad-4769-8c92-a6c4dae69d19",
    "_uuid": "8f2839f25d086af736a60e9eeb907d3b93b6e0e5",
    "execution": {
     "iopub.execute_input": "2023-05-04T20:09:13.930930Z",
     "iopub.status.busy": "2023-05-04T20:09:13.930336Z",
     "iopub.status.idle": "2023-05-04T20:09:14.149142Z",
     "shell.execute_reply": "2023-05-04T20:09:14.148258Z"
    },
    "papermill": {
     "duration": 0.229882,
     "end_time": "2023-05-04T20:09:14.151195",
     "exception": false,
     "start_time": "2023-05-04T20:09:13.921313",
     "status": "completed"
    },
    "tags": []
   },
   "outputs": [
    {
     "name": "stdout",
     "output_type": "stream",
     "text": [
      "/kaggle/input/eeg-in/A08T.gdf\n",
      "/kaggle/input/eeg-in/Channelwise Saclogram stacked.py\n"
     ]
    }
   ],
   "source": [
    "# This Python 3 environment comes with many helpful analytics libraries installed\n",
    "# It is defined by the kaggle/python Docker image: https://github.com/kaggle/docker-python\n",
    "# For example, here's several helpful packages to load\n",
    "\n",
    "import numpy as np # linear algebra\n",
    "import pandas as pd # data processing, CSV file I/O (e.g. pd.read_csv)\n",
    "\n",
    "# Input data files are available in the read-only \"../input/\" directory\n",
    "# For example, running this (by clicking run or pressing Shift+Enter) will list all files under the input directory\n",
    "\n",
    "import os\n",
    "for dirname, _, filenames in os.walk('/kaggle/input'):\n",
    "    for filename in filenames:\n",
    "        print(os.path.join(dirname, filename))\n",
    "\n",
    "# You can write up to 20GB to the current directory (/kaggle/working/) that gets preserved as output when you create a version using \"Save & Run All\" \n",
    "# You can also write temporary files to /kaggle/temp/, but they won't be saved outside of the current session"
   ]
  },
  {
   "cell_type": "code",
   "execution_count": 2,
   "id": "7e7a47a5",
   "metadata": {
    "execution": {
     "iopub.execute_input": "2023-05-04T20:09:14.164676Z",
     "iopub.status.busy": "2023-05-04T20:09:14.164026Z",
     "iopub.status.idle": "2023-05-04T20:09:24.418261Z",
     "shell.execute_reply": "2023-05-04T20:09:24.416977Z"
    },
    "papermill": {
     "duration": 10.263151,
     "end_time": "2023-05-04T20:09:24.420511",
     "exception": false,
     "start_time": "2023-05-04T20:09:14.157360",
     "status": "completed"
    },
    "tags": []
   },
   "outputs": [
    {
     "name": "stdout",
     "output_type": "stream",
     "text": [
      "Requirement already satisfied: mne in /opt/conda/lib/python3.10/site-packages (1.3.1)\r\n",
      "Requirement already satisfied: scipy>=1.1.0 in /opt/conda/lib/python3.10/site-packages (from mne) (1.9.3)\r\n",
      "Requirement already satisfied: decorator in /opt/conda/lib/python3.10/site-packages (from mne) (5.1.1)\r\n",
      "Requirement already satisfied: tqdm in /opt/conda/lib/python3.10/site-packages (from mne) (4.64.1)\r\n",
      "Requirement already satisfied: packaging in /opt/conda/lib/python3.10/site-packages (from mne) (21.3)\r\n",
      "Requirement already satisfied: jinja2 in /opt/conda/lib/python3.10/site-packages (from mne) (3.1.2)\r\n",
      "Requirement already satisfied: pooch>=1.5 in /opt/conda/lib/python3.10/site-packages (from mne) (1.6.0)\r\n",
      "Requirement already satisfied: matplotlib in /opt/conda/lib/python3.10/site-packages (from mne) (3.6.3)\r\n",
      "Requirement already satisfied: numpy>=1.15.4 in /opt/conda/lib/python3.10/site-packages (from mne) (1.23.5)\r\n",
      "Requirement already satisfied: appdirs>=1.3.0 in /opt/conda/lib/python3.10/site-packages (from pooch>=1.5->mne) (1.4.4)\r\n",
      "Requirement already satisfied: requests>=2.19.0 in /opt/conda/lib/python3.10/site-packages (from pooch>=1.5->mne) (2.28.2)\r\n",
      "Requirement already satisfied: pyparsing!=3.0.5,>=2.0.2 in /opt/conda/lib/python3.10/site-packages (from packaging->mne) (3.0.9)\r\n",
      "Requirement already satisfied: MarkupSafe>=2.0 in /opt/conda/lib/python3.10/site-packages (from jinja2->mne) (2.1.2)\r\n",
      "Requirement already satisfied: python-dateutil>=2.7 in /opt/conda/lib/python3.10/site-packages (from matplotlib->mne) (2.8.2)\r\n",
      "Requirement already satisfied: pillow>=6.2.0 in /opt/conda/lib/python3.10/site-packages (from matplotlib->mne) (9.5.0)\r\n",
      "Requirement already satisfied: cycler>=0.10 in /opt/conda/lib/python3.10/site-packages (from matplotlib->mne) (0.11.0)\r\n",
      "Requirement already satisfied: kiwisolver>=1.0.1 in /opt/conda/lib/python3.10/site-packages (from matplotlib->mne) (1.4.4)\r\n",
      "Requirement already satisfied: contourpy>=1.0.1 in /opt/conda/lib/python3.10/site-packages (from matplotlib->mne) (1.0.7)\r\n",
      "Requirement already satisfied: fonttools>=4.22.0 in /opt/conda/lib/python3.10/site-packages (from matplotlib->mne) (4.39.3)\r\n",
      "Requirement already satisfied: six>=1.5 in /opt/conda/lib/python3.10/site-packages (from python-dateutil>=2.7->matplotlib->mne) (1.16.0)\r\n",
      "Requirement already satisfied: urllib3<1.27,>=1.21.1 in /opt/conda/lib/python3.10/site-packages (from requests>=2.19.0->pooch>=1.5->mne) (1.26.15)\r\n",
      "Requirement already satisfied: idna<4,>=2.5 in /opt/conda/lib/python3.10/site-packages (from requests>=2.19.0->pooch>=1.5->mne) (3.4)\r\n",
      "Requirement already satisfied: charset-normalizer<4,>=2 in /opt/conda/lib/python3.10/site-packages (from requests>=2.19.0->pooch>=1.5->mne) (2.1.1)\r\n",
      "Requirement already satisfied: certifi>=2017.4.17 in /opt/conda/lib/python3.10/site-packages (from requests>=2.19.0->pooch>=1.5->mne) (2022.12.7)\r\n",
      "\u001b[33mWARNING: Running pip as the 'root' user can result in broken permissions and conflicting behaviour with the system package manager. It is recommended to use a virtual environment instead: https://pip.pypa.io/warnings/venv\u001b[0m\u001b[33m\r\n",
      "\u001b[0m"
     ]
    }
   ],
   "source": [
    "!pip install mne"
   ]
  },
  {
   "cell_type": "code",
   "execution_count": 3,
   "id": "145a3770",
   "metadata": {
    "execution": {
     "iopub.execute_input": "2023-05-04T20:09:24.435443Z",
     "iopub.status.busy": "2023-05-04T20:09:24.435105Z",
     "iopub.status.idle": "2023-05-04T20:09:32.502924Z",
     "shell.execute_reply": "2023-05-04T20:09:32.502028Z"
    },
    "papermill": {
     "duration": 8.077569,
     "end_time": "2023-05-04T20:09:32.505185",
     "exception": false,
     "start_time": "2023-05-04T20:09:24.427616",
     "status": "completed"
    },
    "tags": []
   },
   "outputs": [
    {
     "name": "stderr",
     "output_type": "stream",
     "text": [
      "/opt/conda/lib/python3.10/site-packages/scipy/__init__.py:146: UserWarning: A NumPy version >=1.16.5 and <1.23.0 is required for this version of SciPy (detected version 1.23.5\n",
      "  warnings.warn(f\"A NumPy version >={np_minversion} and <{np_maxversion}\"\n"
     ]
    }
   ],
   "source": [
    "import mne\n",
    "# from ssqueezepy import cwt\n",
    "# from ssqueezepy.visuals import plot ,imshow\n",
    "import pandas as pd\n",
    "from tqdm import tqdm\n",
    "import matplotlib.pyplot as plt\n",
    "import pywt\n",
    "import numpy as np\n",
    "from sklearn import preprocessing\n",
    "from sklearn.preprocessing import OneHotEncoder\n",
    "from keras.models import Sequential\n",
    "from keras.layers import Dense\n",
    "from keras.layers import Dropout\n",
    "from keras import regularizers\n",
    "from sklearn.model_selection import ShuffleSplit\n",
    "from keras.utils import to_categorical\n",
    "from sklearn.model_selection import ShuffleSplit\n",
    "from sklearn.preprocessing import MinMaxScaler\n"
   ]
  },
  {
   "cell_type": "code",
   "execution_count": 4,
   "id": "bc4f9b06",
   "metadata": {
    "execution": {
     "iopub.execute_input": "2023-05-04T20:09:32.519761Z",
     "iopub.status.busy": "2023-05-04T20:09:32.519218Z",
     "iopub.status.idle": "2023-05-04T20:09:33.195184Z",
     "shell.execute_reply": "2023-05-04T20:09:33.194319Z"
    },
    "papermill": {
     "duration": 0.685577,
     "end_time": "2023-05-04T20:09:33.197640",
     "exception": false,
     "start_time": "2023-05-04T20:09:32.512063",
     "status": "completed"
    },
    "tags": []
   },
   "outputs": [
    {
     "name": "stdout",
     "output_type": "stream",
     "text": [
      "Extracting EDF parameters from /kaggle/input/eeg-in/A08T.gdf...\n",
      "GDF file detected\n",
      "Setting channel info structure...\n",
      "Could not determine channel type of the following channels, they will be set as EEG:\n",
      "EEG-Fz, EEG, EEG, EEG, EEG, EEG, EEG, EEG-C3, EEG, EEG-Cz, EEG, EEG-C4, EEG, EEG, EEG, EEG, EEG, EEG, EEG, EEG-Pz, EEG, EEG, EOG-left, EOG-central, EOG-right\n",
      "Creating raw.info structure...\n"
     ]
    },
    {
     "name": "stderr",
     "output_type": "stream",
     "text": [
      "/opt/conda/lib/python3.10/contextlib.py:142: RuntimeWarning: Channel names are not unique, found duplicates for: {'EEG'}. Applying running numbers for duplicates.\n",
      "  next(self.gen)\n"
     ]
    }
   ],
   "source": [
    "raw = mne.io.read_raw_gdf('/kaggle/input/eeg-in/A08T.gdf')\n"
   ]
  },
  {
   "cell_type": "code",
   "execution_count": 5,
   "id": "d4ab8140",
   "metadata": {
    "execution": {
     "iopub.execute_input": "2023-05-04T20:09:33.213105Z",
     "iopub.status.busy": "2023-05-04T20:09:33.212837Z",
     "iopub.status.idle": "2023-05-04T20:09:33.222751Z",
     "shell.execute_reply": "2023-05-04T20:09:33.221862Z"
    },
    "papermill": {
     "duration": 0.019966,
     "end_time": "2023-05-04T20:09:33.224585",
     "exception": false,
     "start_time": "2023-05-04T20:09:33.204619",
     "status": "completed"
    },
    "tags": []
   },
   "outputs": [
    {
     "name": "stdout",
     "output_type": "stream",
     "text": [
      "Used Annotations descriptions: ['1023', '1072', '276', '277', '32766', '768', '769', '770', '771', '772']\n"
     ]
    }
   ],
   "source": [
    "events, a= mne.events_from_annotations(raw)\n"
   ]
  },
  {
   "cell_type": "code",
   "execution_count": 6,
   "id": "a8147436",
   "metadata": {
    "execution": {
     "iopub.execute_input": "2023-05-04T20:09:33.238736Z",
     "iopub.status.busy": "2023-05-04T20:09:33.238497Z",
     "iopub.status.idle": "2023-05-04T20:09:34.778828Z",
     "shell.execute_reply": "2023-05-04T20:09:34.777937Z"
    },
    "papermill": {
     "duration": 1.549596,
     "end_time": "2023-05-04T20:09:34.780756",
     "exception": false,
     "start_time": "2023-05-04T20:09:33.231160",
     "status": "completed"
    },
    "tags": []
   },
   "outputs": [
    {
     "name": "stdout",
     "output_type": "stream",
     "text": [
      "Reading 0 ... 675269  =      0.000 ...  2701.076 secs...\n"
     ]
    },
    {
     "data": {
      "text/html": [
       "<table class=\"table table-hover table-striped table-sm table-responsive small\">\n",
       "    <tr>\n",
       "        <th>Measurement date</th>\n",
       "        \n",
       "        <td>November 18, 2004  12:00:00 GMT</td>\n",
       "        \n",
       "    </tr>\n",
       "    <tr>\n",
       "        <th>Experimenter</th>\n",
       "        \n",
       "        <td>Unknown</td>\n",
       "        \n",
       "    </tr>\n",
       "        <th>Participant</th>\n",
       "        \n",
       "        <td>Unknown</td>\n",
       "        \n",
       "    </tr>\n",
       "    <tr>\n",
       "        <th>Digitized points</th>\n",
       "        \n",
       "        <td>Not available</td>\n",
       "        \n",
       "    </tr>\n",
       "    <tr>\n",
       "        <th>Good channels</th>\n",
       "        <td>25 EEG</td>\n",
       "    </tr>\n",
       "    <tr>\n",
       "        <th>Bad channels</th>\n",
       "        <td>None</td>\n",
       "    </tr>\n",
       "    <tr>\n",
       "        <th>EOG channels</th>\n",
       "        <td>Not available</td>\n",
       "    </tr>\n",
       "    <tr>\n",
       "        <th>ECG channels</th>\n",
       "        <td>Not available</td>\n",
       "    \n",
       "    <tr>\n",
       "        <th>Sampling frequency</th>\n",
       "        <td>250.00 Hz</td>\n",
       "    </tr>\n",
       "    \n",
       "    \n",
       "    <tr>\n",
       "        <th>Highpass</th>\n",
       "        <td>0.50 Hz</td>\n",
       "    </tr>\n",
       "    \n",
       "    \n",
       "    <tr>\n",
       "        <th>Lowpass</th>\n",
       "        <td>100.00 Hz</td>\n",
       "    </tr>\n",
       "    \n",
       "    \n",
       "    \n",
       "    <tr>\n",
       "        <th>Filenames</th>\n",
       "        <td>A08T.gdf</td>\n",
       "    </tr>\n",
       "    \n",
       "    <tr>\n",
       "        <th>Duration</th>\n",
       "        <td>00:45:02 (HH:MM:SS)</td>\n",
       "    </tr>\n",
       "</table>"
      ],
      "text/plain": [
       "<RawGDF | A08T.gdf, 25 x 675270 (2701.1 s), ~128.8 MB, data loaded>"
      ]
     },
     "execution_count": 6,
     "metadata": {},
     "output_type": "execute_result"
    }
   ],
   "source": [
    "raw.load_data()"
   ]
  },
  {
   "cell_type": "code",
   "execution_count": 7,
   "id": "40e6a2df",
   "metadata": {
    "execution": {
     "iopub.execute_input": "2023-05-04T20:09:34.796254Z",
     "iopub.status.busy": "2023-05-04T20:09:34.795494Z",
     "iopub.status.idle": "2023-05-04T20:09:35.535985Z",
     "shell.execute_reply": "2023-05-04T20:09:35.535099Z"
    },
    "papermill": {
     "duration": 0.75006,
     "end_time": "2023-05-04T20:09:35.537819",
     "exception": false,
     "start_time": "2023-05-04T20:09:34.787759",
     "status": "completed"
    },
    "tags": []
   },
   "outputs": [
    {
     "name": "stdout",
     "output_type": "stream",
     "text": [
      "Filtering raw data in 1 contiguous segment\n",
      "Setting up band-pass filter from 8 - 13 Hz\n",
      "\n",
      "FIR filter parameters\n",
      "---------------------\n",
      "Designing a one-pass, zero-phase, non-causal bandpass filter:\n",
      "- Windowed time-domain design (firwin) method\n",
      "- Hamming window with 0.0194 passband ripple and 53 dB stopband attenuation\n",
      "- Lower passband edge: 8.00\n",
      "- Lower transition bandwidth: 2.00 Hz (-6 dB cutoff frequency: 7.00 Hz)\n",
      "- Upper passband edge: 13.00 Hz\n",
      "- Upper transition bandwidth: 3.25 Hz (-6 dB cutoff frequency: 14.62 Hz)\n",
      "- Filter length: 413 samples (1.652 sec)\n",
      "\n"
     ]
    },
    {
     "name": "stderr",
     "output_type": "stream",
     "text": [
      "[Parallel(n_jobs=1)]: Using backend SequentialBackend with 1 concurrent workers.\n",
      "[Parallel(n_jobs=1)]: Done   1 out of   1 | elapsed:    0.0s remaining:    0.0s\n",
      "[Parallel(n_jobs=1)]: Done   2 out of   2 | elapsed:    0.0s remaining:    0.0s\n",
      "[Parallel(n_jobs=1)]: Done   3 out of   3 | elapsed:    0.1s remaining:    0.0s\n",
      "[Parallel(n_jobs=1)]: Done   4 out of   4 | elapsed:    0.1s remaining:    0.0s\n",
      "[Parallel(n_jobs=1)]: Done  25 out of  25 | elapsed:    0.6s finished\n"
     ]
    },
    {
     "data": {
      "text/html": [
       "<table class=\"table table-hover table-striped table-sm table-responsive small\">\n",
       "    <tr>\n",
       "        <th>Measurement date</th>\n",
       "        \n",
       "        <td>November 18, 2004  12:00:00 GMT</td>\n",
       "        \n",
       "    </tr>\n",
       "    <tr>\n",
       "        <th>Experimenter</th>\n",
       "        \n",
       "        <td>Unknown</td>\n",
       "        \n",
       "    </tr>\n",
       "        <th>Participant</th>\n",
       "        \n",
       "        <td>Unknown</td>\n",
       "        \n",
       "    </tr>\n",
       "    <tr>\n",
       "        <th>Digitized points</th>\n",
       "        \n",
       "        <td>Not available</td>\n",
       "        \n",
       "    </tr>\n",
       "    <tr>\n",
       "        <th>Good channels</th>\n",
       "        <td>25 EEG</td>\n",
       "    </tr>\n",
       "    <tr>\n",
       "        <th>Bad channels</th>\n",
       "        <td>None</td>\n",
       "    </tr>\n",
       "    <tr>\n",
       "        <th>EOG channels</th>\n",
       "        <td>Not available</td>\n",
       "    </tr>\n",
       "    <tr>\n",
       "        <th>ECG channels</th>\n",
       "        <td>Not available</td>\n",
       "    \n",
       "    <tr>\n",
       "        <th>Sampling frequency</th>\n",
       "        <td>250.00 Hz</td>\n",
       "    </tr>\n",
       "    \n",
       "    \n",
       "    <tr>\n",
       "        <th>Highpass</th>\n",
       "        <td>8.00 Hz</td>\n",
       "    </tr>\n",
       "    \n",
       "    \n",
       "    <tr>\n",
       "        <th>Lowpass</th>\n",
       "        <td>13.00 Hz</td>\n",
       "    </tr>\n",
       "    \n",
       "    \n",
       "    \n",
       "    <tr>\n",
       "        <th>Filenames</th>\n",
       "        <td>A08T.gdf</td>\n",
       "    </tr>\n",
       "    \n",
       "    <tr>\n",
       "        <th>Duration</th>\n",
       "        <td>00:45:02 (HH:MM:SS)</td>\n",
       "    </tr>\n",
       "</table>"
      ],
      "text/plain": [
       "<RawGDF | A08T.gdf, 25 x 675270 (2701.1 s), ~128.8 MB, data loaded>"
      ]
     },
     "execution_count": 7,
     "metadata": {},
     "output_type": "execute_result"
    }
   ],
   "source": [
    "raw.filter(8., 13., fir_design='firwin')\n"
   ]
  },
  {
   "cell_type": "code",
   "execution_count": 8,
   "id": "b5d9becf",
   "metadata": {
    "execution": {
     "iopub.execute_input": "2023-05-04T20:09:35.555184Z",
     "iopub.status.busy": "2023-05-04T20:09:35.554888Z",
     "iopub.status.idle": "2023-05-04T20:09:35.558973Z",
     "shell.execute_reply": "2023-05-04T20:09:35.558057Z"
    },
    "papermill": {
     "duration": 0.014865,
     "end_time": "2023-05-04T20:09:35.560946",
     "exception": false,
     "start_time": "2023-05-04T20:09:35.546081",
     "status": "completed"
    },
    "tags": []
   },
   "outputs": [],
   "source": [
    "raw.info['bads'] += ['EOG-left', 'EOG-central', 'EOG-right']\n"
   ]
  },
  {
   "cell_type": "code",
   "execution_count": 9,
   "id": "d757d627",
   "metadata": {
    "execution": {
     "iopub.execute_input": "2023-05-04T20:09:35.577474Z",
     "iopub.status.busy": "2023-05-04T20:09:35.577232Z",
     "iopub.status.idle": "2023-05-04T20:09:35.582126Z",
     "shell.execute_reply": "2023-05-04T20:09:35.581341Z"
    },
    "papermill": {
     "duration": 0.01525,
     "end_time": "2023-05-04T20:09:35.584039",
     "exception": false,
     "start_time": "2023-05-04T20:09:35.568789",
     "status": "completed"
    },
    "tags": []
   },
   "outputs": [],
   "source": [
    "picks = mne.pick_types(raw.info, meg=False, eeg=True, eog=False, stim=False,\n",
    "                       exclude='bads')"
   ]
  },
  {
   "cell_type": "code",
   "execution_count": 10,
   "id": "07f84513",
   "metadata": {
    "execution": {
     "iopub.execute_input": "2023-05-04T20:09:35.600713Z",
     "iopub.status.busy": "2023-05-04T20:09:35.600000Z",
     "iopub.status.idle": "2023-05-04T20:09:35.604143Z",
     "shell.execute_reply": "2023-05-04T20:09:35.603391Z"
    },
    "papermill": {
     "duration": 0.014088,
     "end_time": "2023-05-04T20:09:35.605768",
     "exception": false,
     "start_time": "2023-05-04T20:09:35.591680",
     "status": "completed"
    },
    "tags": []
   },
   "outputs": [],
   "source": [
    "tmin, tmax = 2., 6."
   ]
  },
  {
   "cell_type": "code",
   "execution_count": 11,
   "id": "c59e3dd0",
   "metadata": {
    "execution": {
     "iopub.execute_input": "2023-05-04T20:09:35.622922Z",
     "iopub.status.busy": "2023-05-04T20:09:35.622254Z",
     "iopub.status.idle": "2023-05-04T20:09:35.626728Z",
     "shell.execute_reply": "2023-05-04T20:09:35.625971Z"
    },
    "papermill": {
     "duration": 0.014815,
     "end_time": "2023-05-04T20:09:35.628484",
     "exception": false,
     "start_time": "2023-05-04T20:09:35.613669",
     "status": "completed"
    },
    "tags": []
   },
   "outputs": [],
   "source": [
    "event_id = dict({'769': 7,'770': 8,'771': 9,'772': 10})\n"
   ]
  },
  {
   "cell_type": "code",
   "execution_count": 12,
   "id": "9e295957",
   "metadata": {
    "execution": {
     "iopub.execute_input": "2023-05-04T20:09:35.645384Z",
     "iopub.status.busy": "2023-05-04T20:09:35.644620Z",
     "iopub.status.idle": "2023-05-04T20:09:35.751103Z",
     "shell.execute_reply": "2023-05-04T20:09:35.750257Z"
    },
    "papermill": {
     "duration": 0.116873,
     "end_time": "2023-05-04T20:09:35.753086",
     "exception": false,
     "start_time": "2023-05-04T20:09:35.636213",
     "status": "completed"
    },
    "tags": []
   },
   "outputs": [
    {
     "name": "stdout",
     "output_type": "stream",
     "text": [
      "Not setting metadata\n",
      "288 matching events found\n",
      "No baseline correction applied\n",
      "0 projection items activated\n",
      "Using data from preloaded Raw for 288 events and 1001 original time points ...\n",
      "1 bad epochs dropped\n"
     ]
    }
   ],
   "source": [
    "epochs = mne.Epochs(raw, events, event_id, tmin, tmax, proj=True, picks=picks,\n",
    "                baseline=None, preload=True)"
   ]
  },
  {
   "cell_type": "code",
   "execution_count": 13,
   "id": "f1f619fa",
   "metadata": {
    "execution": {
     "iopub.execute_input": "2023-05-04T20:09:35.770849Z",
     "iopub.status.busy": "2023-05-04T20:09:35.770601Z",
     "iopub.status.idle": "2023-05-04T20:09:35.774910Z",
     "shell.execute_reply": "2023-05-04T20:09:35.773961Z"
    },
    "papermill": {
     "duration": 0.015126,
     "end_time": "2023-05-04T20:09:35.776919",
     "exception": false,
     "start_time": "2023-05-04T20:09:35.761793",
     "status": "completed"
    },
    "tags": []
   },
   "outputs": [],
   "source": [
    "data = epochs.get_data()"
   ]
  },
  {
   "cell_type": "code",
   "execution_count": 14,
   "id": "13242bbd",
   "metadata": {
    "execution": {
     "iopub.execute_input": "2023-05-04T20:09:35.794336Z",
     "iopub.status.busy": "2023-05-04T20:09:35.794064Z",
     "iopub.status.idle": "2023-05-04T20:09:35.797730Z",
     "shell.execute_reply": "2023-05-04T20:09:35.796814Z"
    },
    "papermill": {
     "duration": 0.014677,
     "end_time": "2023-05-04T20:09:35.799577",
     "exception": false,
     "start_time": "2023-05-04T20:09:35.784900",
     "status": "completed"
    },
    "tags": []
   },
   "outputs": [],
   "source": [
    "labels = epochs.events[:,-1] - 7 "
   ]
  },
  {
   "cell_type": "code",
   "execution_count": 15,
   "id": "5d2f65d1",
   "metadata": {
    "execution": {
     "iopub.execute_input": "2023-05-04T20:09:35.817619Z",
     "iopub.status.busy": "2023-05-04T20:09:35.816763Z",
     "iopub.status.idle": "2023-05-04T20:09:35.821198Z",
     "shell.execute_reply": "2023-05-04T20:09:35.820416Z"
    },
    "papermill": {
     "duration": 0.015194,
     "end_time": "2023-05-04T20:09:35.823028",
     "exception": false,
     "start_time": "2023-05-04T20:09:35.807834",
     "status": "completed"
    },
    "tags": []
   },
   "outputs": [],
   "source": [
    "wavelet = 'morl'\n",
    "scales = np.arange(1, 32)\n"
   ]
  },
  {
   "cell_type": "code",
   "execution_count": 16,
   "id": "5d26b7e0",
   "metadata": {
    "execution": {
     "iopub.execute_input": "2023-05-04T20:09:35.840725Z",
     "iopub.status.busy": "2023-05-04T20:09:35.840170Z",
     "iopub.status.idle": "2023-05-04T20:09:48.494482Z",
     "shell.execute_reply": "2023-05-04T20:09:48.493619Z"
    },
    "papermill": {
     "duration": 12.665484,
     "end_time": "2023-05-04T20:09:48.496852",
     "exception": false,
     "start_time": "2023-05-04T20:09:35.831368",
     "status": "completed"
    },
    "tags": []
   },
   "outputs": [
    {
     "name": "stderr",
     "output_type": "stream",
     "text": [
      "100%|██████████| 287/287 [00:12<00:00, 22.70it/s]\n"
     ]
    }
   ],
   "source": [
    "X_train = []\n",
    "for i in tqdm(range(data.shape[0])):\n",
    "    coeffs, freqs = pywt.cwt(data[i], scales, wavelet)\n",
    "    X_train.append(np.abs(coeffs))"
   ]
  },
  {
   "cell_type": "code",
   "execution_count": 17,
   "id": "c86f0dbb",
   "metadata": {
    "execution": {
     "iopub.execute_input": "2023-05-04T20:09:48.539107Z",
     "iopub.status.busy": "2023-05-04T20:09:48.538766Z",
     "iopub.status.idle": "2023-05-04T20:09:49.028639Z",
     "shell.execute_reply": "2023-05-04T20:09:49.027694Z"
    },
    "papermill": {
     "duration": 0.513808,
     "end_time": "2023-05-04T20:09:49.031759",
     "exception": false,
     "start_time": "2023-05-04T20:09:48.517951",
     "status": "completed"
    },
    "tags": []
   },
   "outputs": [],
   "source": [
    "X_tr = np.array(X_train)\n"
   ]
  },
  {
   "cell_type": "code",
   "execution_count": 18,
   "id": "a82fc284",
   "metadata": {
    "execution": {
     "iopub.execute_input": "2023-05-04T20:09:49.074242Z",
     "iopub.status.busy": "2023-05-04T20:09:49.073880Z",
     "iopub.status.idle": "2023-05-04T20:09:49.079488Z",
     "shell.execute_reply": "2023-05-04T20:09:49.078742Z"
    },
    "papermill": {
     "duration": 0.031446,
     "end_time": "2023-05-04T20:09:49.084414",
     "exception": false,
     "start_time": "2023-05-04T20:09:49.052968",
     "status": "completed"
    },
    "tags": []
   },
   "outputs": [
    {
     "data": {
      "text/plain": [
       "(287, 31, 22, 1001)"
      ]
     },
     "execution_count": 18,
     "metadata": {},
     "output_type": "execute_result"
    }
   ],
   "source": [
    "X_tr.shape"
   ]
  },
  {
   "cell_type": "code",
   "execution_count": 19,
   "id": "50a58147",
   "metadata": {
    "execution": {
     "iopub.execute_input": "2023-05-04T20:09:49.125038Z",
     "iopub.status.busy": "2023-05-04T20:09:49.124747Z",
     "iopub.status.idle": "2023-05-04T20:09:49.128542Z",
     "shell.execute_reply": "2023-05-04T20:09:49.127822Z"
    },
    "papermill": {
     "duration": 0.027493,
     "end_time": "2023-05-04T20:09:49.131874",
     "exception": false,
     "start_time": "2023-05-04T20:09:49.104381",
     "status": "completed"
    },
    "tags": []
   },
   "outputs": [],
   "source": [
    "X_tr  =  X_tr.reshape(287,22,31,1001)"
   ]
  },
  {
   "cell_type": "code",
   "execution_count": 20,
   "id": "653ff9b3",
   "metadata": {
    "execution": {
     "iopub.execute_input": "2023-05-04T20:09:49.172371Z",
     "iopub.status.busy": "2023-05-04T20:09:49.172074Z",
     "iopub.status.idle": "2023-05-04T20:09:49.177469Z",
     "shell.execute_reply": "2023-05-04T20:09:49.176764Z"
    },
    "papermill": {
     "duration": 0.029209,
     "end_time": "2023-05-04T20:09:49.180921",
     "exception": false,
     "start_time": "2023-05-04T20:09:49.151712",
     "status": "completed"
    },
    "tags": []
   },
   "outputs": [],
   "source": [
    "def minmax(data,flag,obj):\n",
    "    for i in range(data.shape[0]):\n",
    "        for j in range(data.shape[1]):\n",
    "            if flag :\n",
    "                data[i,j,:,:] = obj.fit_transform(data[i,j,:,:])\n",
    "            else:\n",
    "                data[i,j,:,:] = obj.transform(data[i,j,:,:])\n",
    "    return data\n",
    "              "
   ]
  },
  {
   "cell_type": "code",
   "execution_count": 21,
   "id": "ad555ed8",
   "metadata": {
    "execution": {
     "iopub.execute_input": "2023-05-04T20:09:49.221519Z",
     "iopub.status.busy": "2023-05-04T20:09:49.221202Z",
     "iopub.status.idle": "2023-05-04T20:09:49.604235Z",
     "shell.execute_reply": "2023-05-04T20:09:49.603371Z"
    },
    "papermill": {
     "duration": 0.405985,
     "end_time": "2023-05-04T20:09:49.606718",
     "exception": false,
     "start_time": "2023-05-04T20:09:49.200733",
     "status": "completed"
    },
    "tags": []
   },
   "outputs": [
    {
     "data": {
      "text/plain": [
       "<matplotlib.image.AxesImage at 0x77d03e3978b0>"
      ]
     },
     "execution_count": 21,
     "metadata": {},
     "output_type": "execute_result"
    },
    {
     "data": {
      "image/png": "[encoded data removed]",
      "text/plain": [
       "<Figure size 640x480 with 1 Axes>"
      ]
     },
     "metadata": {},
     "output_type": "display_data"
    }
   ],
   "source": [
    "import numpy as np\n",
    "import matplotlib.pyplot as plt\n",
    "import pywt\n",
    "\n",
    "# Set wavelet parameters\n",
    "wavelet = 'morl'\n",
    "scales = np.arange(1, 32)\n",
    "\n",
    "# Compute scalogram\n",
    "coeffs, freqs = pywt.cwt(data[73], scales, wavelet)\n",
    "plt.imshow(np.abs(coeffs[:,18,:]), cmap='viridis', aspect='auto')"
   ]
  },
  {
   "cell_type": "code",
   "execution_count": 22,
   "id": "d257170b",
   "metadata": {
    "execution": {
     "iopub.execute_input": "2023-05-04T20:09:49.637413Z",
     "iopub.status.busy": "2023-05-04T20:09:49.637104Z",
     "iopub.status.idle": "2023-05-04T20:09:49.641386Z",
     "shell.execute_reply": "2023-05-04T20:09:49.640368Z"
    },
    "papermill": {
     "duration": 0.021936,
     "end_time": "2023-05-04T20:09:49.643420",
     "exception": false,
     "start_time": "2023-05-04T20:09:49.621484",
     "status": "completed"
    },
    "tags": []
   },
   "outputs": [],
   "source": [
    "labels = np.array(labels)"
   ]
  },
  {
   "cell_type": "code",
   "execution_count": 23,
   "id": "7e506dd9",
   "metadata": {
    "execution": {
     "iopub.execute_input": "2023-05-04T20:09:49.673739Z",
     "iopub.status.busy": "2023-05-04T20:09:49.673497Z",
     "iopub.status.idle": "2023-05-04T20:09:49.678110Z",
     "shell.execute_reply": "2023-05-04T20:09:49.677072Z"
    },
    "papermill": {
     "duration": 0.022527,
     "end_time": "2023-05-04T20:09:49.680071",
     "exception": false,
     "start_time": "2023-05-04T20:09:49.657544",
     "status": "completed"
    },
    "tags": []
   },
   "outputs": [],
   "source": [
    "label=to_categorical(labels)"
   ]
  },
  {
   "cell_type": "code",
   "execution_count": 24,
   "id": "da0f0ee7",
   "metadata": {
    "execution": {
     "iopub.execute_input": "2023-05-04T20:09:49.710681Z",
     "iopub.status.busy": "2023-05-04T20:09:49.710440Z",
     "iopub.status.idle": "2023-05-04T20:09:49.715689Z",
     "shell.execute_reply": "2023-05-04T20:09:49.714743Z"
    },
    "papermill": {
     "duration": 0.022159,
     "end_time": "2023-05-04T20:09:49.717481",
     "exception": false,
     "start_time": "2023-05-04T20:09:49.695322",
     "status": "completed"
    },
    "tags": []
   },
   "outputs": [
    {
     "data": {
      "text/plain": [
       "(287, 4)"
      ]
     },
     "execution_count": 24,
     "metadata": {},
     "output_type": "execute_result"
    }
   ],
   "source": [
    "label.shape"
   ]
  },
  {
   "cell_type": "code",
   "execution_count": 25,
   "id": "cfc1cf4f",
   "metadata": {
    "execution": {
     "iopub.execute_input": "2023-05-04T20:09:49.748571Z",
     "iopub.status.busy": "2023-05-04T20:09:49.747283Z",
     "iopub.status.idle": "2023-05-04T20:09:49.752309Z",
     "shell.execute_reply": "2023-05-04T20:09:49.751542Z"
    },
    "papermill": {
     "duration": 0.021899,
     "end_time": "2023-05-04T20:09:49.753898",
     "exception": false,
     "start_time": "2023-05-04T20:09:49.731999",
     "status": "completed"
    },
    "tags": []
   },
   "outputs": [],
   "source": [
    "from sklearn.model_selection  import train_test_split\n"
   ]
  },
  {
   "cell_type": "code",
   "execution_count": 26,
   "id": "20498517",
   "metadata": {
    "execution": {
     "iopub.execute_input": "2023-05-04T20:09:49.784711Z",
     "iopub.status.busy": "2023-05-04T20:09:49.783992Z",
     "iopub.status.idle": "2023-05-04T20:09:50.234658Z",
     "shell.execute_reply": "2023-05-04T20:09:50.233543Z"
    },
    "papermill": {
     "duration": 0.46845,
     "end_time": "2023-05-04T20:09:50.237043",
     "exception": false,
     "start_time": "2023-05-04T20:09:49.768593",
     "status": "completed"
    },
    "tags": []
   },
   "outputs": [],
   "source": [
    "x_train,x_test ,y_train,y_test = train_test_split(X_tr,label,test_size = 0.25 , random_state =42 , shuffle = True,stratify = label )"
   ]
  },
  {
   "cell_type": "code",
   "execution_count": 27,
   "id": "c50fe80b",
   "metadata": {
    "execution": {
     "iopub.execute_input": "2023-05-04T20:09:50.268318Z",
     "iopub.status.busy": "2023-05-04T20:09:50.267768Z",
     "iopub.status.idle": "2023-05-04T20:09:52.938024Z",
     "shell.execute_reply": "2023-05-04T20:09:52.937169Z"
    },
    "papermill": {
     "duration": 2.688143,
     "end_time": "2023-05-04T20:09:52.940279",
     "exception": false,
     "start_time": "2023-05-04T20:09:50.252136",
     "status": "completed"
    },
    "tags": []
   },
   "outputs": [],
   "source": [
    "\n",
    "from keras.models import Sequential\n",
    "from keras.layers import Conv2D, MaxPooling2D, Flatten, Dense, Dropout\n",
    "from keras import regularizers\n",
    "from keras.layers import BatchNormalization, Activation,DepthwiseConv2D,SeparableConv2D\n",
    "\n",
    "\n",
    "model = Sequential()\n",
    "model.add(Conv2D(8, (1, 64), padding='same', input_shape=(22, 31, 1001)))\n",
    "model.add(Conv2D(8, (1, 64), padding='same', use_bias=False))\n",
    "model.add(BatchNormalization())\n",
    "model.add(DepthwiseConv2D((22, 1), use_bias=False, depth_multiplier=2))\n",
    "model.add(BatchNormalization())\n",
    "model.add(Conv2D(16, (1, 1), padding='valid', use_bias=False))\n",
    "model.add(BatchNormalization())\n",
    "model.add(Activation('relu'))\n",
    "model.add(MaxPooling2D(pool_size=(1, 4)))\n",
    "model.add(Dropout(0.5))\n",
    "\n",
    "model.add(SeparableConv2D(16, (1, 16), padding='same', use_bias=False))\n",
    "model.add(BatchNormalization())\n",
    "model.add(Activation('relu'))\n",
    "model.add(MaxPooling2D(pool_size=(1, 4)))\n",
    "model.add(Dropout(0.5))\n",
    "\n",
    "model.add(Flatten())\n",
    "model.add(Dense(128, activation='relu', kernel_regularizer=regularizers.l2(0.05)))\n",
    "model.add(Dropout(0.5))\n",
    "model.add(Dense(4, activation='sigmoid'))\n",
    "\n",
    "\n",
    "model.compile(optimizer='adam', loss='categorical_crossentropy', metrics=['accuracy'])"
   ]
  },
  {
   "cell_type": "code",
   "execution_count": 28,
   "id": "32db6426",
   "metadata": {
    "execution": {
     "iopub.execute_input": "2023-05-04T20:09:52.973784Z",
     "iopub.status.busy": "2023-05-04T20:09:52.973472Z",
     "iopub.status.idle": "2023-05-04T20:09:52.977585Z",
     "shell.execute_reply": "2023-05-04T20:09:52.976714Z"
    },
    "papermill": {
     "duration": 0.021882,
     "end_time": "2023-05-04T20:09:52.979455",
     "exception": false,
     "start_time": "2023-05-04T20:09:52.957573",
     "status": "completed"
    },
    "tags": []
   },
   "outputs": [],
   "source": [
    "cv = ShuffleSplit(n_splits = 8, test_size = 0.25, random_state = 42)"
   ]
  },
  {
   "cell_type": "code",
   "execution_count": 29,
   "id": "c51ad6a4",
   "metadata": {
    "execution": {
     "iopub.execute_input": "2023-05-04T20:09:53.009396Z",
     "iopub.status.busy": "2023-05-04T20:09:53.009155Z",
     "iopub.status.idle": "2023-05-04T20:09:53.012894Z",
     "shell.execute_reply": "2023-05-04T20:09:53.012057Z"
    },
    "papermill": {
     "duration": 0.020879,
     "end_time": "2023-05-04T20:09:53.014744",
     "exception": false,
     "start_time": "2023-05-04T20:09:52.993865",
     "status": "completed"
    },
    "tags": []
   },
   "outputs": [],
   "source": [
    "accuracy = []\n",
    "loss = []"
   ]
  },
  {
   "cell_type": "code",
   "execution_count": 30,
   "id": "d68a6672",
   "metadata": {
    "execution": {
     "iopub.execute_input": "2023-05-04T20:09:53.044604Z",
     "iopub.status.busy": "2023-05-04T20:09:53.044356Z",
     "iopub.status.idle": "2023-05-04T20:13:28.799390Z",
     "shell.execute_reply": "2023-05-04T20:13:28.798397Z"
    },
    "papermill": {
     "duration": 215.772496,
     "end_time": "2023-05-04T20:13:28.801676",
     "exception": false,
     "start_time": "2023-05-04T20:09:53.029180",
     "status": "completed"
    },
    "tags": []
   },
   "outputs": [
    {
     "name": "stdout",
     "output_type": "stream",
     "text": [
      "Epoch 1/15\n"
     ]
    },
    {
     "name": "stderr",
     "output_type": "stream",
     "text": [
      "2023-05-04 20:09:58.770230: E tensorflow/core/grappler/optimizers/meta_optimizer.cc:954] layout failed: INVALID_ARGUMENT: Size of values 0 does not match size of permutation 4 @ fanin shape insequential/dropout/dropout/SelectV2-2-TransposeNHWCToNCHW-LayoutOptimizer\n"
     ]
    },
    {
     "name": "stdout",
     "output_type": "stream",
     "text": [
      "5/5 [==============================] - 11s 466ms/step - loss: 3.1013 - accuracy: 0.2372 - val_loss: 2.8016 - val_accuracy: 0.3333\n",
      "Epoch 2/15\n",
      "5/5 [==============================] - 1s 178ms/step - loss: 3.0062 - accuracy: 0.2140 - val_loss: 2.7208 - val_accuracy: 0.2500\n",
      "Epoch 3/15\n",
      "5/5 [==============================] - 1s 167ms/step - loss: 2.8439 - accuracy: 0.2651 - val_loss: 2.7197 - val_accuracy: 0.2222\n",
      "Epoch 4/15\n",
      "5/5 [==============================] - 1s 192ms/step - loss: 2.7709 - accuracy: 0.2326 - val_loss: 2.6738 - val_accuracy: 0.2222\n",
      "Epoch 5/15\n",
      "5/5 [==============================] - 1s 169ms/step - loss: 2.7378 - accuracy: 0.2698 - val_loss: 2.6026 - val_accuracy: 0.2083\n",
      "Epoch 6/15\n",
      "5/5 [==============================] - 1s 171ms/step - loss: 2.6634 - accuracy: 0.2093 - val_loss: 2.5315 - val_accuracy: 0.2222\n",
      "Epoch 7/15\n",
      "5/5 [==============================] - 1s 165ms/step - loss: 2.5158 - accuracy: 0.3023 - val_loss: 2.4715 - val_accuracy: 0.2222\n",
      "Epoch 8/15\n",
      "5/5 [==============================] - 1s 194ms/step - loss: 2.4674 - accuracy: 0.2884 - val_loss: 2.4194 - val_accuracy: 0.2222\n",
      "Epoch 9/15\n",
      "5/5 [==============================] - 1s 190ms/step - loss: 2.4133 - accuracy: 0.2791 - val_loss: 2.3614 - val_accuracy: 0.2222\n",
      "Epoch 10/15\n",
      "5/5 [==============================] - 1s 172ms/step - loss: 2.3691 - accuracy: 0.2744 - val_loss: 2.3163 - val_accuracy: 0.2083\n",
      "Epoch 11/15\n",
      "5/5 [==============================] - 1s 171ms/step - loss: 2.3100 - accuracy: 0.3163 - val_loss: 2.2712 - val_accuracy: 0.2361\n",
      "Epoch 12/15\n",
      "5/5 [==============================] - 1s 190ms/step - loss: 2.2515 - accuracy: 0.2465 - val_loss: 2.2301 - val_accuracy: 0.2361\n",
      "Epoch 13/15\n",
      "5/5 [==============================] - 1s 193ms/step - loss: 2.2307 - accuracy: 0.2791 - val_loss: 2.1924 - val_accuracy: 0.2500\n",
      "Epoch 14/15\n",
      "5/5 [==============================] - 1s 174ms/step - loss: 2.1161 - accuracy: 0.3442 - val_loss: 2.1544 - val_accuracy: 0.2778\n",
      "Epoch 15/15\n",
      "5/5 [==============================] - 1s 207ms/step - loss: 2.0866 - accuracy: 0.3442 - val_loss: 2.1178 - val_accuracy: 0.2083\n",
      "3/3 [==============================] - 0s 55ms/step - loss: 2.1178 - accuracy: 0.2083\n",
      "Epoch 1/15\n",
      "5/5 [==============================] - 1s 311ms/step - loss: 2.0683 - accuracy: 0.3535 - val_loss: 2.0839 - val_accuracy: 0.2917\n",
      "Epoch 2/15\n",
      "5/5 [==============================] - 1s 166ms/step - loss: 2.0077 - accuracy: 0.3302 - val_loss: 2.0498 - val_accuracy: 0.2778\n",
      "Epoch 3/15\n",
      "5/5 [==============================] - 1s 162ms/step - loss: 1.9383 - accuracy: 0.2930 - val_loss: 2.0236 - val_accuracy: 0.3056\n",
      "Epoch 4/15\n",
      "5/5 [==============================] - 1s 188ms/step - loss: 1.9307 - accuracy: 0.3581 - val_loss: 2.0113 - val_accuracy: 0.2639\n",
      "Epoch 5/15\n",
      "5/5 [==============================] - 1s 167ms/step - loss: 1.8327 - accuracy: 0.3907 - val_loss: 2.0196 - val_accuracy: 0.1667\n",
      "Epoch 6/15\n",
      "5/5 [==============================] - 1s 205ms/step - loss: 1.8134 - accuracy: 0.3953 - val_loss: 2.0186 - val_accuracy: 0.1667\n",
      "Epoch 7/15\n",
      "5/5 [==============================] - 1s 241ms/step - loss: 1.7517 - accuracy: 0.4047 - val_loss: 1.9731 - val_accuracy: 0.1944\n",
      "Epoch 8/15\n",
      "5/5 [==============================] - 1s 187ms/step - loss: 1.7001 - accuracy: 0.4465 - val_loss: 1.9169 - val_accuracy: 0.2500\n",
      "Epoch 9/15\n",
      "5/5 [==============================] - 1s 165ms/step - loss: 1.6454 - accuracy: 0.4372 - val_loss: 1.8624 - val_accuracy: 0.2361\n",
      "Epoch 10/15\n",
      "5/5 [==============================] - 1s 185ms/step - loss: 1.5599 - accuracy: 0.4837 - val_loss: 1.8247 - val_accuracy: 0.2778\n",
      "Epoch 11/15\n",
      "5/5 [==============================] - 1s 176ms/step - loss: 1.5550 - accuracy: 0.4465 - val_loss: 1.7952 - val_accuracy: 0.3056\n",
      "Epoch 12/15\n",
      "5/5 [==============================] - 1s 170ms/step - loss: 1.4678 - accuracy: 0.5302 - val_loss: 1.7624 - val_accuracy: 0.3056\n",
      "Epoch 13/15\n",
      "5/5 [==============================] - 1s 167ms/step - loss: 1.4619 - accuracy: 0.5023 - val_loss: 1.7477 - val_accuracy: 0.2917\n",
      "Epoch 14/15\n",
      "5/5 [==============================] - 1s 168ms/step - loss: 1.4053 - accuracy: 0.5070 - val_loss: 1.7634 - val_accuracy: 0.2083\n",
      "Epoch 15/15\n",
      "5/5 [==============================] - 1s 150ms/step - loss: 1.3709 - accuracy: 0.4930 - val_loss: 1.8910 - val_accuracy: 0.2778\n",
      "3/3 [==============================] - 0s 27ms/step - loss: 1.8910 - accuracy: 0.2778\n",
      "Epoch 1/15\n",
      "5/5 [==============================] - 1s 308ms/step - loss: 1.3981 - accuracy: 0.4791 - val_loss: 1.7283 - val_accuracy: 0.3056\n",
      "Epoch 2/15\n",
      "5/5 [==============================] - 1s 168ms/step - loss: 1.3562 - accuracy: 0.5023 - val_loss: 1.8061 - val_accuracy: 0.2778\n",
      "Epoch 3/15\n",
      "5/5 [==============================] - 1s 168ms/step - loss: 1.3414 - accuracy: 0.4977 - val_loss: 1.8220 - val_accuracy: 0.2639\n",
      "Epoch 4/15\n",
      "5/5 [==============================] - 1s 194ms/step - loss: 1.3350 - accuracy: 0.5209 - val_loss: 1.8077 - val_accuracy: 0.2639\n",
      "Epoch 5/15\n",
      "5/5 [==============================] - 1s 169ms/step - loss: 1.2569 - accuracy: 0.5767 - val_loss: 1.8700 - val_accuracy: 0.2500\n",
      "Epoch 6/15\n",
      "5/5 [==============================] - 1s 163ms/step - loss: 1.2391 - accuracy: 0.5395 - val_loss: 1.8659 - val_accuracy: 0.2500\n",
      "Epoch 7/15\n",
      "5/5 [==============================] - 1s 188ms/step - loss: 1.2521 - accuracy: 0.4791 - val_loss: 1.8514 - val_accuracy: 0.2778\n",
      "Epoch 8/15\n",
      "5/5 [==============================] - 1s 187ms/step - loss: 1.1885 - accuracy: 0.5116 - val_loss: 1.7885 - val_accuracy: 0.3056\n",
      "Epoch 9/15\n",
      "5/5 [==============================] - 1s 168ms/step - loss: 1.1914 - accuracy: 0.5395 - val_loss: 1.7346 - val_accuracy: 0.2917\n",
      "Epoch 10/15\n",
      "5/5 [==============================] - 1s 190ms/step - loss: 1.1094 - accuracy: 0.5721 - val_loss: 1.7195 - val_accuracy: 0.2361\n",
      "Epoch 11/15\n",
      "5/5 [==============================] - 1s 188ms/step - loss: 1.1077 - accuracy: 0.5674 - val_loss: 1.7018 - val_accuracy: 0.2361\n",
      "Epoch 12/15\n",
      "5/5 [==============================] - 1s 191ms/step - loss: 1.0982 - accuracy: 0.5395 - val_loss: 1.7974 - val_accuracy: 0.2222\n",
      "Epoch 13/15\n",
      "5/5 [==============================] - 1s 191ms/step - loss: 1.0770 - accuracy: 0.5674 - val_loss: 1.7845 - val_accuracy: 0.2778\n",
      "Epoch 14/15\n",
      "5/5 [==============================] - 1s 168ms/step - loss: 1.0549 - accuracy: 0.5953 - val_loss: 1.8091 - val_accuracy: 0.2917\n",
      "Epoch 15/15\n",
      "5/5 [==============================] - 1s 151ms/step - loss: 1.0354 - accuracy: 0.6047 - val_loss: 1.8456 - val_accuracy: 0.2917\n",
      "3/3 [==============================] - 0s 34ms/step - loss: 1.8456 - accuracy: 0.2917\n",
      "Epoch 1/15\n",
      "5/5 [==============================] - 1s 286ms/step - loss: 1.0949 - accuracy: 0.5488 - val_loss: 1.5605 - val_accuracy: 0.3889\n",
      "Epoch 2/15\n",
      "5/5 [==============================] - 1s 164ms/step - loss: 1.0456 - accuracy: 0.5535 - val_loss: 1.6017 - val_accuracy: 0.3750\n",
      "Epoch 3/15\n",
      "5/5 [==============================] - 1s 166ms/step - loss: 1.0896 - accuracy: 0.5256 - val_loss: 1.6241 - val_accuracy: 0.4028\n",
      "Epoch 4/15\n",
      "5/5 [==============================] - 1s 170ms/step - loss: 1.0520 - accuracy: 0.5256 - val_loss: 1.6505 - val_accuracy: 0.3194\n",
      "Epoch 5/15\n",
      "5/5 [==============================] - 1s 196ms/step - loss: 1.0091 - accuracy: 0.5628 - val_loss: 1.6300 - val_accuracy: 0.3056\n",
      "Epoch 6/15\n",
      "5/5 [==============================] - 1s 191ms/step - loss: 0.9952 - accuracy: 0.5535 - val_loss: 1.6475 - val_accuracy: 0.3333\n",
      "Epoch 7/15\n",
      "5/5 [==============================] - 1s 170ms/step - loss: 0.9409 - accuracy: 0.5860 - val_loss: 1.7266 - val_accuracy: 0.3194\n",
      "Epoch 8/15\n",
      "5/5 [==============================] - 1s 172ms/step - loss: 0.9418 - accuracy: 0.5814 - val_loss: 1.8044 - val_accuracy: 0.3194\n",
      "Epoch 9/15\n",
      "5/5 [==============================] - 1s 163ms/step - loss: 0.9257 - accuracy: 0.6093 - val_loss: 1.8684 - val_accuracy: 0.3194\n",
      "Epoch 10/15\n",
      "5/5 [==============================] - 1s 185ms/step - loss: 0.9379 - accuracy: 0.5907 - val_loss: 1.9515 - val_accuracy: 0.3611\n",
      "Epoch 11/15\n",
      "5/5 [==============================] - 1s 180ms/step - loss: 0.9704 - accuracy: 0.5767 - val_loss: 1.9428 - val_accuracy: 0.3472\n",
      "Epoch 12/15\n",
      "5/5 [==============================] - 1s 187ms/step - loss: 0.9189 - accuracy: 0.5674 - val_loss: 1.9859 - val_accuracy: 0.3472\n",
      "Epoch 13/15\n",
      "5/5 [==============================] - 1s 195ms/step - loss: 0.8834 - accuracy: 0.5907 - val_loss: 2.3075 - val_accuracy: 0.2917\n",
      "Epoch 14/15\n",
      "5/5 [==============================] - 1s 169ms/step - loss: 0.8942 - accuracy: 0.6279 - val_loss: 2.5965 - val_accuracy: 0.2639\n",
      "Epoch 15/15\n",
      "5/5 [==============================] - 1s 155ms/step - loss: 0.8459 - accuracy: 0.6047 - val_loss: 2.7176 - val_accuracy: 0.2361\n",
      "3/3 [==============================] - 0s 28ms/step - loss: 2.7176 - accuracy: 0.2361\n",
      "Epoch 1/15\n",
      "5/5 [==============================] - 1s 309ms/step - loss: 0.8787 - accuracy: 0.5674 - val_loss: 2.1863 - val_accuracy: 0.3194\n",
      "Epoch 2/15\n",
      "5/5 [==============================] - 1s 186ms/step - loss: 0.8771 - accuracy: 0.6465 - val_loss: 2.1402 - val_accuracy: 0.3889\n",
      "Epoch 3/15\n",
      "5/5 [==============================] - 1s 166ms/step - loss: 0.8980 - accuracy: 0.6465 - val_loss: 2.0053 - val_accuracy: 0.3056\n",
      "Epoch 4/15\n",
      "5/5 [==============================] - 1s 207ms/step - loss: 0.8404 - accuracy: 0.6419 - val_loss: 2.3293 - val_accuracy: 0.3056\n",
      "Epoch 5/15\n",
      "5/5 [==============================] - 1s 236ms/step - loss: 0.8819 - accuracy: 0.6140 - val_loss: 2.1385 - val_accuracy: 0.3194\n",
      "Epoch 6/15\n",
      "5/5 [==============================] - 1s 162ms/step - loss: 0.7870 - accuracy: 0.6744 - val_loss: 1.9343 - val_accuracy: 0.2778\n",
      "Epoch 7/15\n",
      "5/5 [==============================] - 1s 170ms/step - loss: 0.8115 - accuracy: 0.6605 - val_loss: 2.1587 - val_accuracy: 0.2917\n",
      "Epoch 8/15\n",
      "5/5 [==============================] - 1s 168ms/step - loss: 0.8224 - accuracy: 0.6698 - val_loss: 2.2904 - val_accuracy: 0.2500\n",
      "Epoch 9/15\n",
      "5/5 [==============================] - 1s 171ms/step - loss: 0.7656 - accuracy: 0.7023 - val_loss: 2.8399 - val_accuracy: 0.3333\n",
      "Epoch 10/15\n",
      "5/5 [==============================] - 1s 172ms/step - loss: 0.8337 - accuracy: 0.6465 - val_loss: 3.3011 - val_accuracy: 0.3333\n",
      "Epoch 11/15\n",
      "5/5 [==============================] - 1s 187ms/step - loss: 0.7273 - accuracy: 0.7209 - val_loss: 3.5735 - val_accuracy: 0.2778\n",
      "Epoch 12/15\n",
      "5/5 [==============================] - 1s 191ms/step - loss: 0.7328 - accuracy: 0.7256 - val_loss: 3.3415 - val_accuracy: 0.2222\n",
      "Epoch 13/15\n",
      "5/5 [==============================] - 1s 183ms/step - loss: 0.7216 - accuracy: 0.7535 - val_loss: 3.2564 - val_accuracy: 0.2222\n",
      "Epoch 14/15\n",
      "5/5 [==============================] - 1s 177ms/step - loss: 0.7284 - accuracy: 0.7395 - val_loss: 3.1040 - val_accuracy: 0.2222\n",
      "Epoch 15/15\n",
      "5/5 [==============================] - 1s 149ms/step - loss: 0.6952 - accuracy: 0.7442 - val_loss: 3.2053 - val_accuracy: 0.2500\n",
      "3/3 [==============================] - 0s 28ms/step - loss: 3.2053 - accuracy: 0.2500\n",
      "Epoch 1/15\n",
      "5/5 [==============================] - 1s 308ms/step - loss: 0.6674 - accuracy: 0.8000 - val_loss: 3.1036 - val_accuracy: 0.3611\n",
      "Epoch 2/15\n",
      "5/5 [==============================] - 1s 186ms/step - loss: 0.6701 - accuracy: 0.7674 - val_loss: 2.5705 - val_accuracy: 0.3889\n",
      "Epoch 3/15\n",
      "5/5 [==============================] - 1s 194ms/step - loss: 0.6646 - accuracy: 0.7721 - val_loss: 2.7656 - val_accuracy: 0.4444\n",
      "Epoch 4/15\n",
      "5/5 [==============================] - 1s 189ms/step - loss: 0.6181 - accuracy: 0.8279 - val_loss: 3.4937 - val_accuracy: 0.4167\n",
      "Epoch 5/15\n",
      "5/5 [==============================] - 1s 169ms/step - loss: 0.6394 - accuracy: 0.7581 - val_loss: 4.2953 - val_accuracy: 0.4028\n",
      "Epoch 6/15\n",
      "5/5 [==============================] - 1s 190ms/step - loss: 0.6279 - accuracy: 0.7907 - val_loss: 5.0090 - val_accuracy: 0.3889\n",
      "Epoch 7/15\n",
      "5/5 [==============================] - 1s 174ms/step - loss: 0.6986 - accuracy: 0.7302 - val_loss: 5.8943 - val_accuracy: 0.3889\n",
      "Epoch 8/15\n",
      "5/5 [==============================] - 1s 187ms/step - loss: 0.5781 - accuracy: 0.8372 - val_loss: 6.5557 - val_accuracy: 0.3194\n",
      "Epoch 9/15\n",
      "5/5 [==============================] - 1s 187ms/step - loss: 0.5673 - accuracy: 0.8605 - val_loss: 6.6454 - val_accuracy: 0.3472\n",
      "Epoch 10/15\n",
      "5/5 [==============================] - 1s 169ms/step - loss: 0.5661 - accuracy: 0.8093 - val_loss: 6.4737 - val_accuracy: 0.3611\n",
      "Epoch 11/15\n",
      "5/5 [==============================] - 1s 200ms/step - loss: 0.5463 - accuracy: 0.8326 - val_loss: 6.4061 - val_accuracy: 0.3472\n",
      "Epoch 12/15\n",
      "5/5 [==============================] - 1s 228ms/step - loss: 0.5099 - accuracy: 0.8744 - val_loss: 6.3325 - val_accuracy: 0.3750\n",
      "Epoch 13/15\n",
      "5/5 [==============================] - 1s 175ms/step - loss: 0.4997 - accuracy: 0.8465 - val_loss: 5.9750 - val_accuracy: 0.4028\n",
      "Epoch 14/15\n",
      "5/5 [==============================] - 1s 170ms/step - loss: 0.5068 - accuracy: 0.8791 - val_loss: 5.3495 - val_accuracy: 0.4167\n",
      "Epoch 15/15\n",
      "5/5 [==============================] - 1s 173ms/step - loss: 0.4717 - accuracy: 0.8744 - val_loss: 5.2360 - val_accuracy: 0.4444\n",
      "3/3 [==============================] - 0s 28ms/step - loss: 5.2360 - accuracy: 0.4444\n",
      "Epoch 1/15\n",
      "5/5 [==============================] - 1s 284ms/step - loss: 0.5288 - accuracy: 0.8372 - val_loss: 4.2312 - val_accuracy: 0.5556\n",
      "Epoch 2/15\n",
      "5/5 [==============================] - 1s 188ms/step - loss: 0.5522 - accuracy: 0.8512 - val_loss: 4.8419 - val_accuracy: 0.5139\n",
      "Epoch 3/15\n",
      "5/5 [==============================] - 1s 167ms/step - loss: 0.5063 - accuracy: 0.8558 - val_loss: 5.9001 - val_accuracy: 0.5000\n",
      "Epoch 4/15\n",
      "5/5 [==============================] - 1s 170ms/step - loss: 0.4994 - accuracy: 0.8605 - val_loss: 5.3404 - val_accuracy: 0.5278\n",
      "Epoch 5/15\n",
      "5/5 [==============================] - 1s 193ms/step - loss: 0.4309 - accuracy: 0.8698 - val_loss: 4.6289 - val_accuracy: 0.5694\n",
      "Epoch 6/15\n",
      "5/5 [==============================] - 1s 189ms/step - loss: 0.4678 - accuracy: 0.8884 - val_loss: 4.9560 - val_accuracy: 0.5139\n",
      "Epoch 7/15\n",
      "5/5 [==============================] - 1s 187ms/step - loss: 0.4376 - accuracy: 0.9023 - val_loss: 5.4893 - val_accuracy: 0.5278\n",
      "Epoch 8/15\n",
      "5/5 [==============================] - 1s 187ms/step - loss: 0.4119 - accuracy: 0.8977 - val_loss: 5.9609 - val_accuracy: 0.4861\n",
      "Epoch 9/15\n",
      "5/5 [==============================] - 1s 168ms/step - loss: 0.4769 - accuracy: 0.8512 - val_loss: 6.8768 - val_accuracy: 0.4861\n",
      "Epoch 10/15\n",
      "5/5 [==============================] - 1s 190ms/step - loss: 0.4376 - accuracy: 0.8698 - val_loss: 7.5799 - val_accuracy: 0.4306\n",
      "Epoch 11/15\n",
      "5/5 [==============================] - 1s 166ms/step - loss: 0.3787 - accuracy: 0.9442 - val_loss: 7.7615 - val_accuracy: 0.4861\n",
      "Epoch 12/15\n",
      "5/5 [==============================] - 1s 191ms/step - loss: 0.4236 - accuracy: 0.8791 - val_loss: 7.6828 - val_accuracy: 0.4722\n",
      "Epoch 13/15\n",
      "5/5 [==============================] - 1s 167ms/step - loss: 0.4265 - accuracy: 0.8884 - val_loss: 7.6094 - val_accuracy: 0.5278\n",
      "Epoch 14/15\n",
      "5/5 [==============================] - 1s 168ms/step - loss: 0.3596 - accuracy: 0.9209 - val_loss: 7.8930 - val_accuracy: 0.5417\n",
      "Epoch 15/15\n",
      "5/5 [==============================] - 1s 163ms/step - loss: 0.3215 - accuracy: 0.9442 - val_loss: 8.3585 - val_accuracy: 0.5278\n",
      "3/3 [==============================] - 0s 27ms/step - loss: 8.3585 - accuracy: 0.5278\n",
      "Epoch 1/15\n",
      "5/5 [==============================] - 1s 283ms/step - loss: 0.4343 - accuracy: 0.8884 - val_loss: 7.0899 - val_accuracy: 0.5139\n",
      "Epoch 2/15\n",
      "5/5 [==============================] - 1s 166ms/step - loss: 0.3872 - accuracy: 0.8884 - val_loss: 6.8402 - val_accuracy: 0.5000\n",
      "Epoch 3/15\n",
      "5/5 [==============================] - 1s 166ms/step - loss: 0.3713 - accuracy: 0.9302 - val_loss: 7.1548 - val_accuracy: 0.5139\n",
      "Epoch 4/15\n",
      "5/5 [==============================] - 1s 193ms/step - loss: 0.3498 - accuracy: 0.9163 - val_loss: 7.6681 - val_accuracy: 0.5000\n",
      "Epoch 5/15\n",
      "5/5 [==============================] - 1s 187ms/step - loss: 0.3445 - accuracy: 0.9302 - val_loss: 8.3516 - val_accuracy: 0.4583\n",
      "Epoch 6/15\n",
      "5/5 [==============================] - 1s 169ms/step - loss: 0.3272 - accuracy: 0.9209 - val_loss: 8.7355 - val_accuracy: 0.4444\n",
      "Epoch 7/15\n",
      "5/5 [==============================] - 1s 168ms/step - loss: 0.3128 - accuracy: 0.9395 - val_loss: 8.3250 - val_accuracy: 0.4722\n",
      "Epoch 8/15\n",
      "5/5 [==============================] - 1s 167ms/step - loss: 0.3174 - accuracy: 0.9163 - val_loss: 7.8958 - val_accuracy: 0.5000\n",
      "Epoch 9/15\n",
      "5/5 [==============================] - 1s 167ms/step - loss: 0.3126 - accuracy: 0.9209 - val_loss: 7.8857 - val_accuracy: 0.4861\n",
      "Epoch 10/15\n",
      "5/5 [==============================] - 1s 170ms/step - loss: 0.2790 - accuracy: 0.9535 - val_loss: 7.7685 - val_accuracy: 0.5000\n",
      "Epoch 11/15\n",
      "5/5 [==============================] - 1s 184ms/step - loss: 0.2985 - accuracy: 0.9442 - val_loss: 7.7217 - val_accuracy: 0.5139\n",
      "Epoch 12/15\n",
      "5/5 [==============================] - 1s 161ms/step - loss: 0.3127 - accuracy: 0.9163 - val_loss: 7.3942 - val_accuracy: 0.5139\n",
      "Epoch 13/15\n",
      "5/5 [==============================] - 1s 182ms/step - loss: 0.2850 - accuracy: 0.9349 - val_loss: 6.9245 - val_accuracy: 0.5278\n",
      "Epoch 14/15\n",
      "5/5 [==============================] - 1s 191ms/step - loss: 0.2682 - accuracy: 0.9581 - val_loss: 6.8931 - val_accuracy: 0.4722\n",
      "Epoch 15/15\n",
      "5/5 [==============================] - 1s 146ms/step - loss: 0.2816 - accuracy: 0.9302 - val_loss: 7.7604 - val_accuracy: 0.4722\n",
      "3/3 [==============================] - 0s 41ms/step - loss: 7.7604 - accuracy: 0.4722\n"
     ]
    }
   ],
   "source": [
    "for train_idx, test_idx in cv.split(labels):\n",
    "    y_train, y_test = label[train_idx], label[test_idx]\n",
    "    x_train,x_test =  X_tr[train_idx],X_tr[test_idx]\n",
    "    st= MinMaxScaler()\n",
    "    x_train = minmax(x_train,True,st)\n",
    "    x_test = minmax(x_test,False,st)\n",
    "    model.fit(x_train,y_train,validation_data= (x_test,y_test),epochs =15,batch_size =48)\n",
    "    h= model.evaluate(x_test,y_test)\n",
    "    accuracy.append(h[1])\n",
    "    loss.append(h[0])"
   ]
  },
  {
   "cell_type": "code",
   "execution_count": 31,
   "id": "fc4801aa",
   "metadata": {
    "execution": {
     "iopub.execute_input": "2023-05-04T20:13:28.979560Z",
     "iopub.status.busy": "2023-05-04T20:13:28.979096Z",
     "iopub.status.idle": "2023-05-04T20:13:28.993888Z",
     "shell.execute_reply": "2023-05-04T20:13:28.992898Z"
    },
    "papermill": {
     "duration": 0.103271,
     "end_time": "2023-05-04T20:13:28.995781",
     "exception": false,
     "start_time": "2023-05-04T20:13:28.892510",
     "status": "completed"
    },
    "tags": []
   },
   "outputs": [
    {
     "data": {
      "text/plain": [
       "[2.117809534072876,\n",
       " 1.8910342454910278,\n",
       " 1.8456416130065918,\n",
       " 2.717550277709961,\n",
       " 3.2052793502807617,\n",
       " 5.235962390899658,\n",
       " 8.358506202697754,\n",
       " 7.760445594787598]"
      ]
     },
     "execution_count": 31,
     "metadata": {},
     "output_type": "execute_result"
    }
   ],
   "source": [
    "loss"
   ]
  },
  {
   "cell_type": "code",
   "execution_count": 32,
   "id": "b1d15ad1",
   "metadata": {
    "execution": {
     "iopub.execute_input": "2023-05-04T20:13:29.172431Z",
     "iopub.status.busy": "2023-05-04T20:13:29.172019Z",
     "iopub.status.idle": "2023-05-04T20:13:29.179983Z",
     "shell.execute_reply": "2023-05-04T20:13:29.179229Z"
    },
    "papermill": {
     "duration": 0.099523,
     "end_time": "2023-05-04T20:13:29.183094",
     "exception": false,
     "start_time": "2023-05-04T20:13:29.083571",
     "status": "completed"
    },
    "tags": []
   },
   "outputs": [
    {
     "data": {
      "text/plain": [
       "[0.2083333283662796,\n",
       " 0.2777777910232544,\n",
       " 0.2916666567325592,\n",
       " 0.2361111044883728,\n",
       " 0.25,\n",
       " 0.4444444477558136,\n",
       " 0.5277777910232544,\n",
       " 0.4722222089767456]"
      ]
     },
     "execution_count": 32,
     "metadata": {},
     "output_type": "execute_result"
    }
   ],
   "source": [
    "accuracy"
   ]
  },
  {
   "cell_type": "code",
   "execution_count": null,
   "id": "1067d163",
   "metadata": {
    "papermill": {
     "duration": 0.087932,
     "end_time": "2023-05-04T20:13:29.359607",
     "exception": false,
     "start_time": "2023-05-04T20:13:29.271675",
     "status": "completed"
    },
    "tags": []
   },
   "outputs": [],
   "source": []
  }
 ],
 "metadata": {
  "kernelspec": {
   "display_name": "Python 3",
   "language": "python",
   "name": "python3"
  },
  "language_info": {
   "codemirror_mode": {
    "name": "ipython",
    "version": 3
   },
   "file_extension": ".py",
   "mimetype": "text/x-python",
   "name": "python",
   "nbconvert_exporter": "python",
   "pygments_lexer": "ipython3",
   "version": "3.10.10"
  },
  "papermill": {
   "default_parameters": {},
   "duration": 267.690306,
   "end_time": "2023-05-04T20:13:32.797737",
   "environment_variables": {},
   "exception": null,
   "input_path": "__notebook__.ipynb",
   "output_path": "__notebook__.ipynb",
   "parameters": {},
   "start_time": "2023-05-04T20:09:05.107431",
   "version": "2.4.0"
  }
 },
 "nbformat": 4,
 "nbformat_minor": 5
}
